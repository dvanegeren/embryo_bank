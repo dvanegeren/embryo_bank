{
 "cells": [
  {
   "cell_type": "code",
   "execution_count": 1,
   "metadata": {},
   "outputs": [],
   "source": [
    "%load_ext autoreload\n",
    "%autoreload 2"
   ]
  },
  {
   "cell_type": "code",
   "execution_count": 2,
   "metadata": {},
   "outputs": [],
   "source": [
    "#%matplotlib inline\n",
    "from ipywidgets import interactive\n",
    "import matplotlib.pyplot as plt\n",
    "import numpy as np\n",
    "import pandas as pd\n",
    "import scipy.stats as st\n",
    "from scipy.optimize import minimize\n",
    "import ipywidgets as widgets\n",
    "from IPython.display import display,clear_output\n",
    "from matplotlib.colors import to_hex"
   ]
  },
  {
   "cell_type": "code",
   "execution_count": 3,
   "metadata": {},
   "outputs": [
    {
     "data": {
      "text/html": [
       "<script>\n",
       "code_show=true; \n",
       "function code_toggle() {\n",
       " if (code_show){\n",
       " $('div.input').hide();\n",
       " } else {\n",
       " $('div.input').show();\n",
       " }\n",
       " code_show = !code_show\n",
       "} \n",
       "$( document ).ready(code_toggle);\n",
       "</script>\n",
       "<form action=\"javascript:code_toggle()\"><input type=\"submit\" value=\"Click here to toggle on/off the raw code.\"></form>"
      ],
      "text/plain": [
       "<IPython.core.display.HTML object>"
      ]
     },
     "execution_count": 3,
     "metadata": {},
     "output_type": "execute_result"
    }
   ],
   "source": [
    "from IPython.display import HTML\n",
    "\n",
    "HTML('''<script>\n",
    "code_show=true; \n",
    "function code_toggle() {\n",
    " if (code_show){\n",
    " $('div.input').hide();\n",
    " } else {\n",
    " $('div.input').show();\n",
    " }\n",
    " code_show = !code_show\n",
    "} \n",
    "$( document ).ready(code_toggle);\n",
    "</script>\n",
    "<form action=\"javascript:code_toggle()\"><input type=\"submit\" value=\"Click here to toggle on/off the raw code.\"></form>''')"
   ]
  },
  {
   "cell_type": "markdown",
   "metadata": {},
   "source": [
    "# Identification of overabundant alleles in CARLIN barcoded embryos"
   ]
  },
  {
   "cell_type": "code",
   "execution_count": 4,
   "metadata": {},
   "outputs": [],
   "source": [
    "def generate_bc_dist():\n",
    "    num_samples = 1000\n",
    "    prob_high = 0.02\n",
    "    randoms = st.expon.rvs(loc=0, scale=10**5, size=int(num_samples*prob_high))\n",
    "    randoms = np.append(randoms, np.maximum(1,st.norm.rvs(loc=10, scale=10, size=int(num_samples*(1-prob_high)))))\n",
    "    randoms = -np.sort(-randoms)\n",
    "    return(randoms)\n",
    "\n",
    "init_prob_twice_in_mouse = 0.05\n",
    "init_mouse_threshold = 2\n",
    "init_num_mice = 5\n",
    "init_num_cells = 10000\n",
    "\n",
    "bc_dist = generate_bc_dist()\n",
    "bc_dist_fig = plt.figure(figsize=(15,5))\n",
    "bc_dist_ax = bc_dist_fig.add_subplot(121)\n",
    "bc_pdf_ax = bc_dist_fig.add_subplot(122)\n",
    "bc_output = widgets.Output()\n",
    "\n",
    "def calculate_fp_fn():\n",
    "    def score_poisson_cdf(lam):\n",
    "        return((st.poisson.sf(1,lam)-prob_twice_in_mouse.value)**2)\n",
    "    mouse_pois_intensity = minimize(score_poisson_cdf, 1, method='L-BFGS-B', bounds=[(0, 1)]).x[0]\n",
    "    mouse_threshold = mouse_threshold_input.value\n",
    "    num_mice = num_mice_input.value\n",
    "    bc_freqs = bc_dist/np.sum(bc_dist)\n",
    "    true_neg = bc_freqs[bc_freqs<mouse_pois_intensity/num_cells_input.value]\n",
    "    true_pos = bc_freqs[bc_freqs>mouse_pois_intensity/num_cells_input.value]\n",
    "    fn_rate = np.sum([st.binom.cdf(mouse_threshold-1, num_mice, 1-(1-x)**num_cells_input.value) for x in true_pos])/len(true_pos)\n",
    "    fp_rate = np.sum([st.binom.sf(mouse_threshold-1, num_mice, 1-(1-x)**num_cells_input.value) for x in true_neg])/len(true_neg)\n",
    "    return((fn_rate, fp_rate))\n",
    "\n",
    "def generate_text_fp_fn():\n",
    "    fn_rate, fp_rate = calculate_fp_fn()\n",
    "    if fn_rate < 0.01:\n",
    "        fn_to_print = '{:0.3e}'.format(fn_rate)\n",
    "    else:\n",
    "        fn_to_print = str(round(fn_rate,2))\n",
    "    if fp_rate < 0.01:\n",
    "        fp_to_print = '{:0.3e}'.format(fp_rate)\n",
    "    else:\n",
    "        fp_to_print = str(round(fp_rate,2))\n",
    "    \n",
    "    hex_color = str(to_hex(\"xkcd:bright purple\"))\n",
    "    fp_to_print = '<b><font color=\"'+hex_color+'\">' + fp_to_print + \"</font></b>\"\n",
    "    fn_to_print = '<b><font color=\"'+hex_color+'\">' + fn_to_print + \"</font></b>\"\n",
    "    return(\"False negative rate: \"+fn_to_print+\"; false positive rate: \"+fp_to_print)\n",
    "\n",
    "def plot_bc_size(threshold):\n",
    "    bc_dist_ax.clear()\n",
    "    cmap = {True: 'blue', False:\"red\"}\n",
    "    bc_dist_ax.bar(np.arange(len(bc_dist)), np.log10(bc_dist), color=[cmap[x] for x in bc_dist < (np.sum(bc_dist)*threshold)])\n",
    "    bc_dist_ax.set_xlabel('sorted barcode ID')\n",
    "    bc_dist_ax.set_ylabel('log10 number of transcripts for each barcode')\n",
    "    \n",
    "def plot_bc_pdf(threshold):\n",
    "    bc_pdf_ax.clear()\n",
    "    \n",
    "    lower = bc_dist[bc_dist < (np.sum(bc_dist)*threshold)]\n",
    "    upper = bc_dist[bc_dist > (np.sum(bc_dist)*threshold)]\n",
    "    bc_pdf_ax.hist(np.log10(upper), color=\"red\")\n",
    "    bc_pdf_ax.hist(np.log10(lower), color=\"blue\")\n",
    "    bc_pdf_ax.set_xlabel('log10 number of transcripts for each barcode')\n",
    "    bc_pdf_ax.set_ylabel('frequency')\n",
    "    \n",
    "def mouse_listener(change):\n",
    "    fp_fn_text.value = generate_text_fp_fn()\n",
    "\n",
    "def threshold_plot_listener(change):\n",
    "    def score_poisson_cdf(lam):\n",
    "        return((st.poisson.sf(1,lam)-change['new'])**2)\n",
    "    mouse_pois_intensity = minimize(score_poisson_cdf, 1, method='L-BFGS-B', bounds=[(0, 1)]).x[0]\n",
    "    threshold = mouse_pois_intensity/num_cells_input.value\n",
    "    plot_bc_size(threshold)\n",
    "    plot_bc_pdf(threshold)\n",
    "    fp_fn_text.value = generate_text_fp_fn()\n",
    "    with bc_output:\n",
    "        clear_output(wait=True)\n",
    "        display(bc_dist_fig)\n",
    "\n",
    "def score_poisson_cdf(lam):\n",
    "    return((st.poisson.sf(1,lam)-init_prob_twice_in_mouse)**2)\n",
    "mouse_pois_intensity = minimize(score_poisson_cdf, 1, method='L-BFGS-B', bounds=[(0, 1)]).x[0]\n",
    "init_threshold = mouse_pois_intensity/init_num_cells\n",
    "plot_bc_size(init_threshold)\n",
    "plot_bc_pdf(init_threshold)\n",
    "with bc_output:\n",
    "    clear_output(wait=True)\n",
    "    display(bc_dist_fig)\n",
    "\n",
    "prob_twice_in_mouse = widgets.BoundedFloatText(\n",
    "    value=init_prob_twice_in_mouse,\n",
    "    min=0,\n",
    "    max=1.0,\n",
    "    step=0.01,\n",
    "    description='',\n",
    "    disabled=False,\n",
    "    continuous_update=False\n",
    ")\n",
    "\n",
    "num_cells_input = widgets.BoundedIntText(\n",
    "    value=init_num_cells,\n",
    "    min=0,\n",
    "    max=1e40,\n",
    "    description='',\n",
    "    disabled=False,\n",
    "    continuous_update=False\n",
    ")\n",
    "\n",
    "mouse_threshold_input = widgets.BoundedIntText(\n",
    "    value=init_mouse_threshold,\n",
    "    min=0,\n",
    "    max=1e40,\n",
    "    description='',\n",
    "    disabled=False,\n",
    "    continuous_update=False\n",
    ")\n",
    "\n",
    "num_mice_input = widgets.BoundedIntText(\n",
    "    value=init_num_mice,\n",
    "    min=0,\n",
    "    max=10000,\n",
    "    description='',\n",
    "    disabled=False,\n",
    "    continuous_update=False\n",
    ")\n",
    "\n",
    "fp_fn_text = widgets.HTML(\n",
    "    value=generate_text_fp_fn(),\n",
    "    description='',\n",
    "    layout=widgets.Layout(width='100%', height=\"100px\")\n",
    ")\n",
    "        \n",
    "prob_twice_in_mouse.observe(threshold_plot_listener, names='value')\n",
    "num_mice_input.observe(mouse_listener, names='value')\n",
    "mouse_threshold_input.observe(mouse_listener, names='value')\n",
    "num_cells_input.observe(threshold_plot_listener, names='value')\n",
    "plt.close()"
   ]
  },
  {
   "cell_type": "code",
   "execution_count": 5,
   "metadata": {
    "scrolled": false
   },
   "outputs": [
    {
     "data": {
      "application/vnd.jupyter.widget-view+json": {
       "model_id": "505a39f617414eda9845cae00bd2dd05",
       "version_major": 2,
       "version_minor": 0
      },
      "text/plain": [
       "HBox(children=(HTML(value='Threshold probability of generating two or more of a particular barcode independent…"
      ]
     },
     "metadata": {},
     "output_type": "display_data"
    },
    {
     "data": {
      "application/vnd.jupyter.widget-view+json": {
       "model_id": "ad199db845f145509c6b843fe4202744",
       "version_major": 2,
       "version_minor": 0
      },
      "text/plain": [
       "HBox(children=(HTML(value='Number of cells per mouse in which a barcode is induced:'), BoundedIntText(value=10…"
      ]
     },
     "metadata": {},
     "output_type": "display_data"
    },
    {
     "data": {
      "application/vnd.jupyter.widget-view+json": {
       "model_id": "57d0d77886044250b975fc081b57d918",
       "version_major": 2,
       "version_minor": 0
      },
      "text/plain": [
       "HBox(children=(HTML(value='Mouse number threshold for calling overabundant barcodes:'), BoundedIntText(value=2…"
      ]
     },
     "metadata": {},
     "output_type": "display_data"
    },
    {
     "data": {
      "application/vnd.jupyter.widget-view+json": {
       "model_id": "a67fedbee0374262995871e163a353c2",
       "version_major": 2,
       "version_minor": 0
      },
      "text/plain": [
       "HBox(children=(HTML(value='Total number of mice used:'), BoundedIntText(value=5, max=10000)))"
      ]
     },
     "metadata": {},
     "output_type": "display_data"
    },
    {
     "data": {
      "application/vnd.jupyter.widget-view+json": {
       "model_id": "16c6f3acf5ff4cda886da52ce90fb497",
       "version_major": 2,
       "version_minor": 0
      },
      "text/plain": [
       "Output()"
      ]
     },
     "metadata": {},
     "output_type": "display_data"
    },
    {
     "data": {
      "application/vnd.jupyter.widget-view+json": {
       "model_id": "134188537b274294927e0558a913718d",
       "version_major": 2,
       "version_minor": 0
      },
      "text/plain": [
       "HTML(value='False negative rate: <b><font color=\"#be03fd\">1.472e-12</font></b>; false positive rate: <b><font …"
      ]
     },
     "metadata": {},
     "output_type": "display_data"
    }
   ],
   "source": [
    "prob_twice_text = widgets.HTML(\n",
    "    value='Threshold probability of generating two or more of a particular barcode independently in a mouse:',\n",
    "    disabled=False\n",
    ")\n",
    "prob_twice_box = widgets.HBox([prob_twice_text, prob_twice_in_mouse])\n",
    "\n",
    "num_cells_text = widgets.HTML(\n",
    "    value='Number of cells per mouse in which a barcode is induced:',\n",
    "    disabled=False\n",
    ")\n",
    "num_cells_box = widgets.HBox([num_cells_text, num_cells_input])\n",
    "\n",
    "mouse_threshold_text = widgets.HTML(\n",
    "    value='Mouse number threshold for calling overabundant barcodes:',\n",
    "    disabled=False\n",
    ")\n",
    "mouse_threshold_box = widgets.HBox([mouse_threshold_text, mouse_threshold_input])\n",
    "\n",
    "num_mice_text = widgets.HTML(\n",
    "    value='Total number of mice used:',\n",
    "    disabled=False\n",
    ")\n",
    "num_mice_box = widgets.HBox([num_mice_text, num_mice_input])\n",
    "\n",
    "display(prob_twice_box, num_cells_box, mouse_threshold_box, num_mice_box, bc_output, fp_fn_text)"
   ]
  },
  {
   "cell_type": "markdown",
   "metadata": {},
   "source": [
    "## A bit of explanation...\n",
    "\n",
    "Our goal is to create a procedure than can accurately identify overabundant barcodes that should be removed from downstream analysis because they are too likely to be generated independently multiple times in the same mouse. We can control how stringently we define \"overabundance\" of a barcode by specifying a cutoff value for the probability that a particular barcode will be generated multiple times in a mouse (first input box above). If this value is 0.05, for example, barcodes that are expected to be independently induced multiple times in more than 5% of mice will be excluded from further analysis.\n",
    "\n",
    "In the plots above, red areas represent barcodes that *should* be marked as overabundant, because their probability of being generated more than once in the same mouse is higher than the given threshold probability. Similarly, blue areas indicate barcodes that are unlikely to be generated more than once. The barcode frequency plots here are artificially generated to appear similar to the CARLIN granulocyte allele bank; in particular, the left plot should look similar to the gray area in Supplementary Figure 3C of that paper.\n",
    "\n",
    "To identify these overabundant barcodes, our general strategy is to sequence barcodes from multiple mice (\"total number of mice used\" above)- barcodes that appear in several mice (more mice than the given threshold value above) are classifed as overabundant. Unfortunately, due to randomness in barcode appearance, we will misclassify some of the barcodes. This error can be quantified using the false negative rate (probability that an overabundant barcode will be misclassified as ok to use in downstream analysis) and the false positive rate (probability that a barcode that is unlikely to come up more than once in a mouse is misclassified as overabundant). The false negative and positive rates are shown above in purple.\n",
    "\n",
    "### Assumptions\n",
    "+ The allele frequency distribution immediately after induction is known.\n",
    "+ No alleles are lost between induction and sequencing (through cell death and/or sampling loss)."
   ]
  },
  {
   "cell_type": "code",
   "execution_count": null,
   "metadata": {},
   "outputs": [],
   "source": []
  }
 ],
 "metadata": {
  "kernelspec": {
   "display_name": "Python 3",
   "language": "python",
   "name": "python3"
  },
  "language_info": {
   "codemirror_mode": {
    "name": "ipython",
    "version": 3
   },
   "file_extension": ".py",
   "mimetype": "text/x-python",
   "name": "python",
   "nbconvert_exporter": "python",
   "pygments_lexer": "ipython3",
   "version": "3.7.5"
  },
  "widgets": {
   "application/vnd.jupyter.widget-state+json": {
    "state": {
     "00337cdb100b4247a769773727d7ebac": {
      "model_module": "@jupyter-widgets/base",
      "model_module_version": "1.2.0",
      "model_name": "LayoutModel",
      "state": {}
     },
     "007e5cac0de34a5d81541d2d6036d620": {
      "model_module": "@jupyter-widgets/controls",
      "model_module_version": "1.5.0",
      "model_name": "DescriptionStyleModel",
      "state": {
       "description_width": ""
      }
     },
     "00efe4ea450345849dfdb6e91af94da0": {
      "model_module": "@jupyter-widgets/base",
      "model_module_version": "1.2.0",
      "model_name": "LayoutModel",
      "state": {}
     },
     "00fe68d468f44d09a1b09639c0c0eac9": {
      "model_module": "@jupyter-widgets/controls",
      "model_module_version": "1.5.0",
      "model_name": "DescriptionStyleModel",
      "state": {
       "description_width": ""
      }
     },
     "01298ffd47c3456ead8018534747f05d": {
      "model_module": "@jupyter-widgets/base",
      "model_module_version": "1.2.0",
      "model_name": "LayoutModel",
      "state": {}
     },
     "018488ff3c124f8e8925c1fc7aef685e": {
      "model_module": "@jupyter-widgets/base",
      "model_module_version": "1.2.0",
      "model_name": "LayoutModel",
      "state": {}
     },
     "01b3441226144bd9a76d1bbd8a9fc9ab": {
      "model_module": "@jupyter-widgets/base",
      "model_module_version": "1.2.0",
      "model_name": "LayoutModel",
      "state": {}
     },
     "021c3645772e487db7ac3592ee95c7dc": {
      "model_module": "@jupyter-widgets/controls",
      "model_module_version": "1.5.0",
      "model_name": "HTMLModel",
      "state": {
       "layout": "IPY_MODEL_01b3441226144bd9a76d1bbd8a9fc9ab",
       "style": "IPY_MODEL_f55ffb4c2a6543a8880bf80d925e321f",
       "value": "Total number of mice used:"
      }
     },
     "025c7d14ae2c44b39534e1fb29ef27cd": {
      "model_module": "@jupyter-widgets/controls",
      "model_module_version": "1.5.0",
      "model_name": "BoundedFloatTextModel",
      "state": {
       "description": "prob twice:",
       "layout": "IPY_MODEL_8b112e78242f4d609c642fbc822d118a",
       "max": 1,
       "step": 0.01,
       "style": "IPY_MODEL_bd7193d7597648bcadf96f590500a557",
       "value": 0.01
      }
     },
     "0269ad2405c8453e809b5161f4cd9ded": {
      "model_module": "@jupyter-widgets/base",
      "model_module_version": "1.2.0",
      "model_name": "LayoutModel",
      "state": {}
     },
     "026a7f923ca641fd9a9e4a5cf38c6c4f": {
      "model_module": "@jupyter-widgets/controls",
      "model_module_version": "1.5.0",
      "model_name": "BoundedIntTextModel",
      "state": {
       "continuous_update": true,
       "description": "mouse threshold:",
       "layout": "IPY_MODEL_ca131b297f324040945ca03355aaeba4",
       "max": 1e+40,
       "style": "IPY_MODEL_f6eb205cac4643628900aced9553802b",
       "value": 2
      }
     },
     "02bb92070d5c45bb92b81302dff97669": {
      "model_module": "@jupyter-widgets/controls",
      "model_module_version": "1.5.0",
      "model_name": "BoundedFloatTextModel",
      "state": {
       "description": "number of cells:",
       "layout": "IPY_MODEL_590e409d02ad4962bf73e4f42e97a4a3",
       "max": "inf",
       "step": null,
       "style": "IPY_MODEL_8a4c79ce2b464a47895c196f52d1aa1f",
       "value": null
      }
     },
     "034f3ab17c634d1d9d0dabc76de396d8": {
      "model_module": "@jupyter-widgets/base",
      "model_module_version": "1.2.0",
      "model_name": "LayoutModel",
      "state": {}
     },
     "036c490893114cd3af927dd346cbd551": {
      "model_module": "@jupyter-widgets/controls",
      "model_module_version": "1.5.0",
      "model_name": "BoundedFloatTextModel",
      "state": {
       "description": "prob twice:",
       "layout": "IPY_MODEL_a3eb8c2f28ae4ed2a70ecc47ac643183",
       "max": 1,
       "step": 0.01,
       "style": "IPY_MODEL_a03f9623da8143df89251148bbe297d1",
       "value": 0.001
      }
     },
     "037ff7aae7254b84b9e3cd413eaf8443": {
      "model_module": "@jupyter-widgets/base",
      "model_module_version": "1.2.0",
      "model_name": "LayoutModel",
      "state": {}
     },
     "04297004ecc345f6bbce5ffbb099a186": {
      "model_module": "@jupyter-widgets/base",
      "model_module_version": "1.2.0",
      "model_name": "LayoutModel",
      "state": {}
     },
     "04bdd7a9ff25498fa350dc17069d5367": {
      "model_module": "@jupyter-widgets/base",
      "model_module_version": "1.2.0",
      "model_name": "LayoutModel",
      "state": {}
     },
     "05e6bd6d34ad4afea2b99ef49b630d3e": {
      "model_module": "@jupyter-widgets/controls",
      "model_module_version": "1.5.0",
      "model_name": "DescriptionStyleModel",
      "state": {
       "description_width": ""
      }
     },
     "0649d5b184ee42f6a71986cda7fd453b": {
      "model_module": "@jupyter-widgets/controls",
      "model_module_version": "1.5.0",
      "model_name": "BoundedFloatTextModel",
      "state": {
       "layout": "IPY_MODEL_d2804bae72dc4526a40ec3f7c66e42c2",
       "max": 1,
       "step": 0.01,
       "style": "IPY_MODEL_20c80c8b4ab842e297a1acec85944a83",
       "value": 0.02
      }
     },
     "06908758c0e3447a8ca969ddc3a22453": {
      "model_module": "@jupyter-widgets/controls",
      "model_module_version": "1.5.0",
      "model_name": "BoundedIntTextModel",
      "state": {
       "continuous_update": true,
       "description": "mouse threshold:",
       "layout": "IPY_MODEL_b10c8cc5002444f883e4248982ed77b3",
       "max": 1e+40,
       "style": "IPY_MODEL_c6d620e7567243438e640907336d381c",
       "value": 2
      }
     },
     "06ac84e49e344367bc7dc2edf58e91c6": {
      "model_module": "@jupyter-widgets/controls",
      "model_module_version": "1.5.0",
      "model_name": "BoundedIntTextModel",
      "state": {
       "layout": "IPY_MODEL_8eafe399710c4cf19dcf2040e9818fa4",
       "max": 1e+40,
       "style": "IPY_MODEL_d93d045b81d14f7bac7f11d24e528e9f",
       "value": 3
      }
     },
     "0704afa316594264982b75fbfe788434": {
      "model_module": "@jupyter-widgets/controls",
      "model_module_version": "1.5.0",
      "model_name": "TextModel",
      "state": {
       "layout": "IPY_MODEL_44274e4d099d469e8315633d842ef5fa",
       "style": "IPY_MODEL_97c9f07c10844fccbe86f6edf6515a83",
       "value": "Mouse number threshold:"
      }
     },
     "078522d927424af7be1755fb4bba9578": {
      "model_module": "@jupyter-widgets/controls",
      "model_module_version": "1.5.0",
      "model_name": "HTMLModel",
      "state": {
       "layout": "IPY_MODEL_ea7b70332953404fb76cb46e4894f61e",
       "style": "IPY_MODEL_5e295d41b8aa4cf3809881d7e121f483",
       "value": "Number of cells per mouse in which a barcode is induced:"
      }
     },
     "0806641a6872467d9939e33ae594c592": {
      "model_module": "@jupyter-widgets/base",
      "model_module_version": "1.2.0",
      "model_name": "LayoutModel",
      "state": {}
     },
     "084bd2ae5b154f238045b16593aae7b4": {
      "model_module": "@jupyter-widgets/controls",
      "model_module_version": "1.5.0",
      "model_name": "HBoxModel",
      "state": {
       "children": [
        "IPY_MODEL_17389df610864ead8f2c705813b2992f",
        "IPY_MODEL_f8a53f3d05ce430188ee42ecfe223370"
       ],
       "layout": "IPY_MODEL_357064c11f3346318e71f07d5039223b"
      }
     },
     "08569a1981354b0bb6147c19ffd25ca2": {
      "model_module": "@jupyter-widgets/controls",
      "model_module_version": "1.5.0",
      "model_name": "HBoxModel",
      "state": {
       "children": [
        "IPY_MODEL_ae50909a60594fc6b28f5d944537c660",
        "IPY_MODEL_e7f466f3de524dc1b91c647b946d0c5e"
       ],
       "layout": "IPY_MODEL_39710abe407340ff87b6d82048e1c55d"
      }
     },
     "0872ac89fc8a41a091c00f6d1d8f7258": {
      "model_module": "@jupyter-widgets/base",
      "model_module_version": "1.2.0",
      "model_name": "LayoutModel",
      "state": {}
     },
     "0898b0fa4ab542cb8bc4e59aff0d1196": {
      "model_module": "@jupyter-widgets/output",
      "model_module_version": "1.0.0",
      "model_name": "OutputModel",
      "state": {
       "layout": "IPY_MODEL_d54e9af34d244b45b116503753d65e0b",
       "outputs": [
        {
         "data": {
          "image/png": "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\n",
          "text/plain": "<Figure size 1080x360 with 2 Axes>"
         },
         "metadata": {},
         "output_type": "display_data"
        }
       ]
      }
     },
     "08dc4100f5314b459b57b9dea618bd0f": {
      "model_module": "@jupyter-widgets/controls",
      "model_module_version": "1.5.0",
      "model_name": "BoundedIntTextModel",
      "state": {
       "continuous_update": true,
       "layout": "IPY_MODEL_dd9d895e26674ae8b9503659ae8fd6d5",
       "max": 1e+40,
       "style": "IPY_MODEL_196f497a77cc406a9e456f7b050fa172",
       "value": 2
      }
     },
     "08ed85ef3cf9493c84121b71a70f72c1": {
      "model_module": "@jupyter-widgets/controls",
      "model_module_version": "1.5.0",
      "model_name": "HTMLModel",
      "state": {
       "layout": "IPY_MODEL_e8ffb94f2c69463d8d8e895ebd870b98",
       "style": "IPY_MODEL_329a1ef514c64ff4ae5fdf4f2b2cbbdc",
       "value": "Number of cells per mouse in which a barcode is induced:"
      }
     },
     "08f764a660804505a0c7fe605d008390": {
      "model_module": "@jupyter-widgets/controls",
      "model_module_version": "1.5.0",
      "model_name": "BoundedFloatTextModel",
      "state": {
       "description": "Probability is generated more than twice in the same mouse:",
       "layout": "IPY_MODEL_474d2fa4ce26402591b169122bc1fa0d",
       "max": 1,
       "step": 0.01,
       "style": "IPY_MODEL_313c8f2186944e18906aff6b2560e085",
       "value": 0.05
      }
     },
     "09299dbcbe834c648a4136cac75558ca": {
      "model_module": "@jupyter-widgets/base",
      "model_module_version": "1.2.0",
      "model_name": "LayoutModel",
      "state": {}
     },
     "097abd09bba346c29bb3fc79aa05dd56": {
      "model_module": "@jupyter-widgets/controls",
      "model_module_version": "1.5.0",
      "model_name": "DescriptionStyleModel",
      "state": {
       "description_width": ""
      }
     },
     "09ebef123bee49d48f7323136e512ac2": {
      "model_module": "@jupyter-widgets/controls",
      "model_module_version": "1.5.0",
      "model_name": "BoundedFloatTextModel",
      "state": {
       "description": "prob twice:",
       "layout": "IPY_MODEL_5ce84dfd08d8475094dba83c4bd3d4b3",
       "max": 1,
       "step": 0.01,
       "style": "IPY_MODEL_deb6cc0a7d3a444d8791f0c146fce68a",
       "value": 0.01
      }
     },
     "0a1b2beec5cd412faed527140e81e401": {
      "model_module": "@jupyter-widgets/controls",
      "model_module_version": "1.5.0",
      "model_name": "DescriptionStyleModel",
      "state": {
       "description_width": ""
      }
     },
     "0a5506cb10664abeb55296bb64e989c6": {
      "model_module": "@jupyter-widgets/controls",
      "model_module_version": "1.5.0",
      "model_name": "BoundedIntTextModel",
      "state": {
       "description": "number of mice:",
       "layout": "IPY_MODEL_cc6bd6ff306044b6b8bf5eabcf1dfe65",
       "max": 10000,
       "style": "IPY_MODEL_d799b93234914d93b8c94eab393a2422",
       "value": 5
      }
     },
     "0aa385bffff849db92931163cc63e465": {
      "model_module": "@jupyter-widgets/controls",
      "model_module_version": "1.5.0",
      "model_name": "HTMLModel",
      "state": {
       "layout": "IPY_MODEL_83381ecd7163425ca335fc283a127e91",
       "style": "IPY_MODEL_1c0c6a4197a843e3b3514fb53887c7a9",
       "value": "Total number of mice used:"
      }
     },
     "0abbba114b514c9992979b43c1ca3dbf": {
      "model_module": "@jupyter-widgets/controls",
      "model_module_version": "1.5.0",
      "model_name": "DescriptionStyleModel",
      "state": {
       "description_width": ""
      }
     },
     "0acb39eee53d4249b43e640d458550ac": {
      "model_module": "@jupyter-widgets/controls",
      "model_module_version": "1.5.0",
      "model_name": "DescriptionStyleModel",
      "state": {
       "description_width": ""
      }
     },
     "0ad3dac3c9a542b286b2bc4cbf343dcf": {
      "model_module": "@jupyter-widgets/controls",
      "model_module_version": "1.5.0",
      "model_name": "HTMLModel",
      "state": {
       "layout": "IPY_MODEL_8c002717558c49029e729411c319f135",
       "style": "IPY_MODEL_7c99e65c6b5b4925ad75c090092092c5",
       "value": "Mouse number threshold:"
      }
     },
     "0b22d854133149a3ad24c690fe7bb196": {
      "model_module": "@jupyter-widgets/base",
      "model_module_version": "1.2.0",
      "model_name": "LayoutModel",
      "state": {}
     },
     "0b26fcac4ddd434b848d753bc5443a79": {
      "model_module": "@jupyter-widgets/controls",
      "model_module_version": "1.5.0",
      "model_name": "DescriptionStyleModel",
      "state": {
       "description_width": ""
      }
     },
     "0b62f60f8850429db3f4f8e3061989f7": {
      "model_module": "@jupyter-widgets/controls",
      "model_module_version": "1.5.0",
      "model_name": "DescriptionStyleModel",
      "state": {
       "description_width": ""
      }
     },
     "0bd2ed3941a14339a670fd91a4a1c8ad": {
      "model_module": "@jupyter-widgets/base",
      "model_module_version": "1.2.0",
      "model_name": "LayoutModel",
      "state": {}
     },
     "0c9dba74e7904a62bb3999322a8df197": {
      "model_module": "@jupyter-widgets/base",
      "model_module_version": "1.2.0",
      "model_name": "LayoutModel",
      "state": {}
     },
     "0dc66feac2c24a5184b536a9fe774eb1": {
      "model_module": "@jupyter-widgets/controls",
      "model_module_version": "1.5.0",
      "model_name": "HTMLModel",
      "state": {
       "layout": "IPY_MODEL_e636c402c86d4fb6b8dcd82e9c584d43",
       "style": "IPY_MODEL_becd0111671a4332824df2f7d7edbd73",
       "value": "Threshold probability of generating two or more of a particular barcode independently in a mouse:"
      }
     },
     "0e2068d2c5c84f5783c43ab203d7b6a8": {
      "model_module": "@jupyter-widgets/controls",
      "model_module_version": "1.5.0",
      "model_name": "HTMLModel",
      "state": {
       "layout": "IPY_MODEL_6445aabea79948a5b73ad1fd651148e4",
       "style": "IPY_MODEL_4966841cd51f4bd7b8ecc14a08f60afa",
       "value": "Mouse number threshold for calling overabundant barcodes:"
      }
     },
     "0e61dcc4214d45b88613b43d3db26f27": {
      "model_module": "@jupyter-widgets/controls",
      "model_module_version": "1.5.0",
      "model_name": "HBoxModel",
      "state": {
       "children": [
        "IPY_MODEL_4968f007c9e446849b17b3beed99c4a7",
        "IPY_MODEL_0649d5b184ee42f6a71986cda7fd453b"
       ],
       "layout": "IPY_MODEL_0872ac89fc8a41a091c00f6d1d8f7258"
      }
     },
     "0ef5110ad4884a6894122b3ef03af6ca": {
      "model_module": "@jupyter-widgets/controls",
      "model_module_version": "1.5.0",
      "model_name": "DescriptionStyleModel",
      "state": {
       "description_width": ""
      }
     },
     "0f02c2853b2b4aeb88cdad2a0e2d3c39": {
      "model_module": "@jupyter-widgets/base",
      "model_module_version": "1.2.0",
      "model_name": "LayoutModel",
      "state": {}
     },
     "0f3497ae3003459c86b8ade7f14043e6": {
      "model_module": "@jupyter-widgets/base",
      "model_module_version": "1.2.0",
      "model_name": "LayoutModel",
      "state": {}
     },
     "0fa706ce0e5b48018635ee80ee809cda": {
      "model_module": "@jupyter-widgets/controls",
      "model_module_version": "1.5.0",
      "model_name": "DescriptionStyleModel",
      "state": {
       "description_width": ""
      }
     },
     "0fc7892ef475487e86f1eee2166645a4": {
      "model_module": "@jupyter-widgets/base",
      "model_module_version": "1.2.0",
      "model_name": "LayoutModel",
      "state": {}
     },
     "1011bcbaac204760a3e11e7734f7be17": {
      "model_module": "@jupyter-widgets/base",
      "model_module_version": "1.2.0",
      "model_name": "LayoutModel",
      "state": {}
     },
     "1030f66fb2ec484ea16d601c85e1e182": {
      "model_module": "@jupyter-widgets/controls",
      "model_module_version": "1.5.0",
      "model_name": "DescriptionStyleModel",
      "state": {
       "description_width": ""
      }
     },
     "10eb3f3cc18041e882024c643f68dd89": {
      "model_module": "@jupyter-widgets/controls",
      "model_module_version": "1.5.0",
      "model_name": "DescriptionStyleModel",
      "state": {
       "description_width": ""
      }
     },
     "1112e8a3e03d42a8a0db1e5f9f5bc1cc": {
      "model_module": "@jupyter-widgets/controls",
      "model_module_version": "1.5.0",
      "model_name": "DescriptionStyleModel",
      "state": {
       "description_width": ""
      }
     },
     "1147ed2271f34dc8b0da2b5325248bcb": {
      "model_module": "@jupyter-widgets/controls",
      "model_module_version": "1.5.0",
      "model_name": "DescriptionStyleModel",
      "state": {
       "description_width": ""
      }
     },
     "115f2f3056cd4eb384b79ac4e00ccc6c": {
      "model_module": "@jupyter-widgets/output",
      "model_module_version": "1.0.0",
      "model_name": "OutputModel",
      "state": {
       "layout": "IPY_MODEL_e609f7357f0247e8991ae8d43b004809",
       "outputs": [
        {
         "data": {
          "image/png": "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\n",
          "text/plain": "<Figure size 1080x360 with 2 Axes>"
         },
         "metadata": {},
         "output_type": "display_data"
        }
       ]
      }
     },
     "116f3c85c0ce4397b83ad8c781499b8e": {
      "model_module": "@jupyter-widgets/controls",
      "model_module_version": "1.5.0",
      "model_name": "DescriptionStyleModel",
      "state": {
       "description_width": ""
      }
     },
     "11a8eb7a983341028532a846b8a5198c": {
      "model_module": "@jupyter-widgets/output",
      "model_module_version": "1.0.0",
      "model_name": "OutputModel",
      "state": {
       "layout": "IPY_MODEL_61f5bd1ccefc4c3a8ed928e2caf9c280",
       "outputs": [
        {
         "data": {
          "image/png": "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\n",
          "text/plain": "<Figure size 432x288 with 1 Axes>"
         },
         "metadata": {},
         "output_type": "display_data"
        },
        {
         "data": {
          "image/png": "iVBORw0KGgoAAAANSUhEUgAAAWoAAAD4CAYAAADFAawfAAAABHNCSVQICAgIfAhkiAAAAAlwSFlzAAALEgAACxIB0t1+/AAAADh0RVh0U29mdHdhcmUAbWF0cGxvdGxpYiB2ZXJzaW9uMy4xLjEsIGh0dHA6Ly9tYXRwbG90bGliLm9yZy8QZhcZAAAM3ElEQVR4nO3dXYwdZR3H8d/PbgUFFGoPpLbgQiQoIeElGwTxQisiIoEbLiC+EG2yNxrBkBCIF4RLEwNoYggNIEYRVF7UNBEkBUJItLgFxEJbKS9KBe02vHuhFP5ezJz2dHt2d87umT3/M+f7STbdMzPZPs9O881zZme2jggBAPJ636AHAACYG6EGgOQINQAkR6gBIDlCDQDJjdXxRVeuXBnj4+N1fGkAaKTNmzfvjohWt321hHp8fFxTU1N1fGkAaCTbf59tH5c+ACA5Qg0AyRFqAEiOUANAcoQaAJIj1ACQHKEGgOQINQAkR6gBIDlCDQDJEWoASI5QA0ByhBoAkiPUAJAcoQaA5Ag1ACSXL9T2oEcAAKnkCzUAYD+EGgCSI9QAkByhBoDkCDUAJEeoASA5Qg0AyaUMNbdSA8A+KUMNANhnrMpBtl+U9JakdyXtiYiJOgcFANinUqhLn4uI3bWNBADQFZc+ACC5qqEOSX+wvdn2ZJ0DAgDsr+qlj7Mi4mXbR0p6wPa2iHik84Ay4JOSdMwxx/R5mAAwuiqtqCPi5fLPXZLulXR6l2PWR8REREy0Wq3+jhIARti8obZ9iO3D2p9LOkfSlroHBgAoVLn0cZSke108hTIm6RcRcV+towIA7DVvqCPieUknL8FYAABdcHseACRHqAEgudSh5pczAUDyUAMACDUApEeoASA5Qg0AyRFqAEiOUANAcoQaAJIj1ACQHKEGgOQINQAkR6gBILn0oeb3fQAYdelDDQCjjlADQHKEGgCSI9QAkByhBoDkCDUAJEeoASA5Qg0AyQ1FqHnoBcAoG4pQA8AoI9QAkByhBoDkCDUAJEeoASC5yqG2vcz2E7Y31DkgAMD+ellRXyZpa10DAQB0VynUttdI+rKkm+sdDgBgpqor6hskXSnpvdkOsD1pe8r21PT0dF8GBwCoEGrb50vaFRGb5zouItZHxERETLRarb4NEABGXZUV9VmSLrD9oqQ7Ja21/fNaRwUA2GveUEfE1RGxJiLGJV0s6cGI+GrtIwMASOI+agBIb6yXgyPiYUkP1zISAEBXrKgBIDlCDQDJEWoASI5QA0ByhBoAkiPUAJAcoQaA5Ag1ACRHqAEgOUINAMkRagBIjlADQHKEGgCSI9QAkByhBoDkCDUAJEeoASA5Qg0AyRFqAEiOUANAcoQaAJIj1ACQHKEGgOQINQAkR6gBIDlCDQDJEWoASI5QA0By84ba9sG2H7P9F9tP2752KQYGACiMVTjmv5LWRsTbtpdLetT27yPiTzWPDQCgCqGOiJD0dvlyefkRdQ4KALBPpWvUtpfZflLSLkkPRMSmLsdM2p6yPTU9Pd3vcQLAyKoU6oh4NyJOkbRG0um2T+pyzPqImIiIiVar1e9xAsDI6umuj4h4XdLDks6tZTQAgANUueujZfvw8vMPSDpb0ra6BwYAKFS562OVpJ/aXqYi7L+KiA31DgsA0Fblro+nJJ26BGMBAHTBk4kAkByhBoDkCDUAJEeoASA5Qg0AyRFqAEiOUANAcoQaAJIj1ACQHKEGgOQINQAkR6gBIDlCDQDJEWoASI5QA0ByhBoAkiPUAJAcoQaA5Ag1ACRHqAEgOUINAMkRagBIjlADQHKEGgCSI9QAkByhBoDkCDUAJEeoASC5eUNt+2jbD9neavtp25ctxcAAAIWxCsfskXRFRDxu+zBJm20/EBHP1Dw2AIAqrKgj4pWIeLz8/C1JWyWtrntgAIBCT9eobY9LOlXSpi77Jm1P2Z6anp7uz+gAANVDbftQSXdLujwi3py5PyLWR8REREy0Wq1+jhEARlqlUNteriLSt0fEPfUOCQDQqcpdH5Z0i6StEXFd/UMCAHSqsqI+S9LXJK21/WT5cV7N4wIAlOa9PS8iHpXkJRgLAKALnkwEgOQINQAkR6gBIDlCDQDJEWoASI5QA0ByhBoAkiPUAJAcoQaA5Ag1ACQ3NKE2D7EDGFFDE2qJWAMYTUMVaolYAxg9Vf5z25Q6gx0xuHEAQN2GNtSdiDaAJhu6Sx9V2FwiAdAcjVhRz2ZmrFltAxhGjQ51N7OttIk4gKxGLtRzIeIAMiLUFc0VcX6YCaBOhLoG7XB3i3jnPgCoglAPEBEHUAWhToqIA2gj1ENorohzvRxoHkLdcFwvB4YfoYYkVulAZoQaPauySm+/BrB4hBq1mSvinQg6MLd5fymT7Vtt77K9ZSkGhNHU/kVanR8AClV+e95tks6teRzAAdqx7hbxzn1A080b6oh4RNKrSzAWYEHmijirczQB16gxEvihJ4ZZ3/7jANuTtqdsT01PT/frywK1m2slzmocGfQt1BGxPiImImKi1Wr168sCA0fEMWhc+gAWYbZ7ytvbgH6ocnveHZL+KOkE2zttr6t/WMDw67YSBxZi3hV1RFyyFAMBRgGrbiwElz6AAZvvfw8i5iDUQHKswtG3uz4ALA2ue48eVtTAkGPF3XyEGmggnrxsFkINNBzRHn5cowZGDNe2hw+hBkYUvyp2eBBqAMQ6OUINYC8ui+REqAEcgFjnQqgBzIoVdg6EGkAlBHtwCDWAyoj1YBBqAEiOUAPoCavqpUeoASA5Qg1gQbgjZOkQagCLRrDrRagB9AWxrg+hBtA3xLoehBpA3xHs/iLUAJAcoQZQC1bV/UOoASA5Qg2gVqysF49QA0ByhBpA7VhVLw6hBoDkKoXa9rm2t9veYfuqugcFoHlYVS/cvKG2vUzSjyV9SdKJki6xfWLdAwMAFKqsqE+XtCMino+I/0m6U9KF9Q4LANA2VuGY1ZJe6ni9U9KnZh5ke1LSZPnybdvbFzimlZJ3z/U2KfO+ztc97Ftpa3efv+ZA983UZd9KqZjzoM/ZEu7bO+cEYzngdQ379vt3Pd/YGuKAc9yDj822o0qou31r44ANEeslre9hUN3/MnsqIiYW+3WGCXMeDaM251Gbr1TfnKtc+tgp6eiO12skvdzvgQAAuqsS6j9LOt72sbbfL+liSb+rd1gAgLZ5L31ExB7b35Z0v6Rlkm6NiKdrHNOiL58MIeY8GkZtzqM2X6mmOTvigMvNAIBEeDIRAJIj1ACQXJpQN/UxddtH237I9lbbT9u+rNy+wvYDtp8t/zyi3G7bPyq/D0/ZPm2wM1g428tsP2F7Q/n6WNubyjn/svzhtGwfVL7eUe4fH+S4F8r24bbvsr2tPN9nNv082/5u+e96i+07bB/ctPNs+1bbu2xv6djW83m1fWl5/LO2L+1lDClC3fDH1PdIuiIiPinpDEnfKud2laSNEXG8pI3la6n4HhxffkxKunHph9w3l0na2vH6+5KuL+f8mqR15fZ1kl6LiI9Lur48bhj9UNJ9EfEJSSermHtjz7Pt1ZK+I2kiIk5ScbPBxWreeb5N0rkztvV0Xm2vkHSNiocFT5d0TTvulUTEwD8knSnp/o7XV0u6etDjqmmuv5X0BUnbJa0qt62StL38/CZJl3Qcv/e4YfpQcb/9RklrJW1Q8eDUbkljM8+5ijuKziw/HyuP86Dn0ON8PyTphZnjbvJ51r6nlleU522DpC828TxLGpe0ZaHnVdIlkm7q2L7fcfN9pFhRq/tj6qsHNJbalG/1TpW0SdJREfGKJJV/Hlke1pTvxQ2SrpT0Xvn6I5Jej4g95evOee2dc7n/jfL4YXKcpGlJPykv99xs+xA1+DxHxD8l/UDSPyS9ouK8bVazz3Nbr+d1Uec7S6grPaY+zGwfKuluSZdHxJtzHdpl21B9L2yfL2lXRGzu3Nzl0Kiwb1iMSTpN0o0Rcaqk/2jf2+Fuhn7O5Vv3CyUdK+mjkg5R8dZ/piad5/nMNsdFzT1LqBv9mLrt5SoifXtE3FNu/rftVeX+VZJ2ldub8L04S9IFtl9U8dsW16pYYR9uu/2QVee89s653P9hSa8u5YD7YKeknRGxqXx9l4pwN/k8ny3phYiYjoh3JN0j6dNq9nlu6/W8Lup8Zwl1Yx9Tt21Jt0jaGhHXdez6naT2T34vVXHtur396+VPj8+Q9Eb7LdawiIirI2JNRIyrOJcPRsRXJD0k6aLysJlzbn8vLiqPH6qVVkT8S9JLtk8oN31e0jNq8HlWccnjDNsfLP+dt+fc2PPcodfzer+kc2wfUb4TOafcVs2gL9J3XFw/T9LfJD0n6XuDHk8f5/UZFW9xnpL0ZPlxnoprcxslPVv+uaI83irugHlO0l9V/ER94PNYxPw/K2lD+flxkh6TtEPSryUdVG4/uHy9o9x/3KDHvcC5niJpqjzXv5F0RNPPs6RrJW2TtEXSzyQd1LTzLOkOFdfg31GxMl63kPMq6Zvl3HdI+kYvY+ARcgBILsulDwDALAg1ACRHqAEgOUINAMkRagBIjlADQHKEGgCS+z900fORUIEtwgAAAABJRU5ErkJggg==\n",
          "text/plain": "<Figure size 432x288 with 1 Axes>"
         },
         "metadata": {},
         "output_type": "display_data"
        },
        {
         "data": {
          "image/png": "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\n",
          "text/plain": "<Figure size 432x288 with 1 Axes>"
         },
         "metadata": {},
         "output_type": "display_data"
        }
       ]
      }
     },
     "12b542b2b67e42138b7a590613a8bdb3": {
      "model_module": "@jupyter-widgets/controls",
      "model_module_version": "1.5.0",
      "model_name": "HBoxModel",
      "state": {
       "children": [
        "IPY_MODEL_42791202f6964cec9590ac87a67ebcf2",
        "IPY_MODEL_08dc4100f5314b459b57b9dea618bd0f"
       ],
       "layout": "IPY_MODEL_fb82aecb0af943748cd9bf77333724d4"
      }
     },
     "134188537b274294927e0558a913718d": {
      "model_module": "@jupyter-widgets/controls",
      "model_module_version": "1.5.0",
      "model_name": "HTMLModel",
      "state": {
       "layout": "IPY_MODEL_bda5ce267d424503b8b2d351dd46b765",
       "style": "IPY_MODEL_f25fc189fadf4cbe953360e3c846c5f8",
       "value": "False negative rate: <b><font color=\"#be03fd\">1.472e-12</font></b>; false positive rate: <b><font color=\"#be03fd\">0.02</font></b>"
      }
     },
     "1350e39edac049ebbbef8a4125bc666b": {
      "model_module": "@jupyter-widgets/controls",
      "model_module_version": "1.5.0",
      "model_name": "DescriptionStyleModel",
      "state": {
       "description_width": ""
      }
     },
     "137f3648c0714052bfe5da525b3d834c": {
      "model_module": "@jupyter-widgets/base",
      "model_module_version": "1.2.0",
      "model_name": "LayoutModel",
      "state": {}
     },
     "13cd7fed10ed40bdbf8e4ce9e960d572": {
      "model_module": "@jupyter-widgets/controls",
      "model_module_version": "1.5.0",
      "model_name": "DescriptionStyleModel",
      "state": {
       "description_width": ""
      }
     },
     "13ecf3d786174d26856ce7367d0668bf": {
      "model_module": "@jupyter-widgets/controls",
      "model_module_version": "1.5.0",
      "model_name": "DescriptionStyleModel",
      "state": {
       "description_width": ""
      }
     },
     "1407016e183e48e3b62d63a149f00054": {
      "model_module": "@jupyter-widgets/base",
      "model_module_version": "1.2.0",
      "model_name": "LayoutModel",
      "state": {}
     },
     "14981174464d4307b70f8c605722deae": {
      "model_module": "@jupyter-widgets/base",
      "model_module_version": "1.2.0",
      "model_name": "LayoutModel",
      "state": {}
     },
     "15577dfb24f84e42b4a040fb191a2637": {
      "model_module": "@jupyter-widgets/base",
      "model_module_version": "1.2.0",
      "model_name": "LayoutModel",
      "state": {}
     },
     "1582189168fd42fea7a67e53f51853d4": {
      "model_module": "@jupyter-widgets/controls",
      "model_module_version": "1.5.0",
      "model_name": "BoundedIntTextModel",
      "state": {
       "continuous_update": true,
       "description": "number of mice:",
       "layout": "IPY_MODEL_fcdde132112d45c4a9f07c11afc7eca3",
       "max": 10000,
       "style": "IPY_MODEL_3d57fdb7c2414ef0b4555b9a804ba1af",
       "value": 5
      }
     },
     "15a3e4f717974bb8b344272751633b97": {
      "model_module": "@jupyter-widgets/controls",
      "model_module_version": "1.5.0",
      "model_name": "DescriptionStyleModel",
      "state": {
       "description_width": ""
      }
     },
     "15c300a4a90f4c6aa9b7f9a2ae1f569c": {
      "model_module": "@jupyter-widgets/base",
      "model_module_version": "1.2.0",
      "model_name": "LayoutModel",
      "state": {}
     },
     "1691f30a8aaf4bdbb5133f849466bf24": {
      "model_module": "@jupyter-widgets/controls",
      "model_module_version": "1.5.0",
      "model_name": "HTMLModel",
      "state": {
       "layout": "IPY_MODEL_77d5f1e6866f4efc8b0de67b4ee9d3e7",
       "style": "IPY_MODEL_5fa7993cefcd4de9a164b5f223aeff4b",
       "value": "False negative rate: 1.800e-15; false positive rate: 0.02"
      }
     },
     "16c6f3acf5ff4cda886da52ce90fb497": {
      "model_module": "@jupyter-widgets/output",
      "model_module_version": "1.0.0",
      "model_name": "OutputModel",
      "state": {
       "layout": "IPY_MODEL_4ae3098cddd9489891f8df01713d8325",
       "outputs": [
        {
         "data": {
          "image/png": "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\n",
          "text/plain": "<Figure size 1080x360 with 2 Axes>"
         },
         "metadata": {},
         "output_type": "display_data"
        }
       ]
      }
     },
     "17389df610864ead8f2c705813b2992f": {
      "model_module": "@jupyter-widgets/controls",
      "model_module_version": "1.5.0",
      "model_name": "HTMLModel",
      "state": {
       "layout": "IPY_MODEL_ec9f80daab7d4871aa79856938ed1e0a",
       "style": "IPY_MODEL_bdf0c4b4149742bdbfd872987bbb8292",
       "value": "Threshold probability to generate two or more of the same barcode independently in a mouse:"
      }
     },
     "174b3ef38fa54a3fbdbd6ab5c3bc2c2b": {
      "model_module": "@jupyter-widgets/controls",
      "model_module_version": "1.5.0",
      "model_name": "DescriptionStyleModel",
      "state": {
       "description_width": ""
      }
     },
     "17cfae93eaf546b4bef950a0f23d3c3a": {
      "model_module": "@jupyter-widgets/base",
      "model_module_version": "1.2.0",
      "model_name": "LayoutModel",
      "state": {}
     },
     "18a9bc4584bc43d89faecae7e06980fc": {
      "model_module": "@jupyter-widgets/controls",
      "model_module_version": "1.5.0",
      "model_name": "DescriptionStyleModel",
      "state": {
       "description_width": ""
      }
     },
     "19583435271d488dab1f2bd91442f567": {
      "model_module": "@jupyter-widgets/base",
      "model_module_version": "1.2.0",
      "model_name": "LayoutModel",
      "state": {}
     },
     "196f497a77cc406a9e456f7b050fa172": {
      "model_module": "@jupyter-widgets/controls",
      "model_module_version": "1.5.0",
      "model_name": "DescriptionStyleModel",
      "state": {
       "description_width": ""
      }
     },
     "1a5459c94839424cb7b3e8ca0b61f0df": {
      "model_module": "@jupyter-widgets/controls",
      "model_module_version": "1.5.0",
      "model_name": "DescriptionStyleModel",
      "state": {
       "description_width": ""
      }
     },
     "1abe0fcc009e4f1d95faf2cdf5c45654": {
      "model_module": "@jupyter-widgets/controls",
      "model_module_version": "1.5.0",
      "model_name": "FloatSliderModel",
      "state": {
       "description": "m",
       "layout": "IPY_MODEL_53a013b847de4a15963c6b5cdb1aa02a",
       "max": 2,
       "min": -2,
       "step": 0.1,
       "style": "IPY_MODEL_fcda944979164dc4b9505e403c29998b"
      }
     },
     "1b3400e353b34b2dba588803bc7f83c3": {
      "model_module": "@jupyter-widgets/controls",
      "model_module_version": "1.5.0",
      "model_name": "BoundedIntTextModel",
      "state": {
       "continuous_update": true,
       "layout": "IPY_MODEL_c278a073ff2e4a94bcef1f5fafd2591b",
       "max": 1e+40,
       "style": "IPY_MODEL_71e8955849844717855964ebd04d8807",
       "value": 10000
      }
     },
     "1bf86efa28b94508b1daa19dbebca006": {
      "model_module": "@jupyter-widgets/base",
      "model_module_version": "1.2.0",
      "model_name": "LayoutModel",
      "state": {}
     },
     "1c0c6a4197a843e3b3514fb53887c7a9": {
      "model_module": "@jupyter-widgets/controls",
      "model_module_version": "1.5.0",
      "model_name": "DescriptionStyleModel",
      "state": {
       "description_width": ""
      }
     },
     "1c9bf9227d8441fb85739a8790a37ad2": {
      "model_module": "@jupyter-widgets/base",
      "model_module_version": "1.2.0",
      "model_name": "LayoutModel",
      "state": {}
     },
     "1ca7cf2f6fa040d78f74639845865092": {
      "model_module": "@jupyter-widgets/base",
      "model_module_version": "1.2.0",
      "model_name": "LayoutModel",
      "state": {}
     },
     "1caaafd858b945938d1824c2ae20050c": {
      "model_module": "@jupyter-widgets/controls",
      "model_module_version": "1.5.0",
      "model_name": "DescriptionStyleModel",
      "state": {
       "description_width": ""
      }
     },
     "1cf5e11baa694b26b27d3c6fd06df201": {
      "model_module": "@jupyter-widgets/output",
      "model_module_version": "1.0.0",
      "model_name": "OutputModel",
      "state": {
       "layout": "IPY_MODEL_48e5564a96be4fa99463105ea65118be",
       "outputs": [
        {
         "data": {
          "image/png": "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\n",
          "text/plain": "<Figure size 1080x360 with 2 Axes>"
         },
         "metadata": {},
         "output_type": "display_data"
        }
       ]
      }
     },
     "1d60afba2941489d9f56c98985ade567": {
      "model_module": "@jupyter-widgets/controls",
      "model_module_version": "1.5.0",
      "model_name": "DescriptionStyleModel",
      "state": {
       "description_width": ""
      }
     },
     "1dbf3a8eef9d4e2d878c22d73e7eb0f9": {
      "model_module": "@jupyter-widgets/base",
      "model_module_version": "1.2.0",
      "model_name": "LayoutModel",
      "state": {}
     },
     "1dd2c5a30cac43b885d35cdadc5750e9": {
      "model_module": "@jupyter-widgets/output",
      "model_module_version": "1.0.0",
      "model_name": "OutputModel",
      "state": {
       "layout": "IPY_MODEL_01298ffd47c3456ead8018534747f05d",
       "outputs": [
        {
         "data": {
          "image/png": "iVBORw0KGgoAAAANSUhEUgAAA2AAAAEvCAYAAAAjA6I0AAAABHNCSVQICAgIfAhkiAAAAAlwSFlzAAALEgAACxIB0t1+/AAAADh0RVh0U29mdHdhcmUAbWF0cGxvdGxpYiB2ZXJzaW9uMy4xLjEsIGh0dHA6Ly9tYXRwbG90bGliLm9yZy8QZhcZAAAblUlEQVR4nO3df7Cld10f8PeHbPwFtAnmkkmTbBdspCJTFtxJ02ZkECwGdAh2xCajmNpMV2eghQ4dBTpT1NYZ2wpYpzbOatKEioGUEMnQiGRSMMOMRDchhsSEEmKENdvsSpAfxcEmfPrHfS4eb+7dvZvsec6v12vmzDnP9/mes5/z7HPvc97n+32eW90dAAAApu8psy4AAABgVQhgAAAAIxHAAAAARiKAAQAAjEQAAwAAGIkABgAAMJJd03jRM844o/fs2TONlwZgjtx+++1/1t1rs65jUTg+AqyO7Y6RUwlge/bsycGDB6fx0gDMkar6k1nXsEgcHwFWx3bHSFMQAQAARiKAAQAAjEQAAwAAGIkABgAAMBIBDAAAYCQCGAAAwEgEMAAAgJEIYACQpKrOraoPV9W9VXVPVb1+aH9GVd1cVZ8a7k8f2quqfrmq7q+qu6rqhbN9BwAsAgEMANY9muSN3f0dSS5I8tqqem6SNyW5pbvPS3LLsJwkL09y3nDbn+SK8UsGYNEIYACQpLsPd/cdw+MvJbk3ydlJLk5yzdDtmiSvGh5fnOSdve5jSU6rqrNGLhuABSOAAcAmVbUnyQuS3JbkzO4+nKyHtCTPHLqdneSzE087NLQBwLYEMACYUFVPS3J9kjd09xeP1XWLtt7i9fZX1cGqOnj06NGTVebKq9r5DWCeCGAAMKiqU7Mevt7V3e8bmh/emFo43B8Z2g8lOXfi6eckeWjza3b3ge7e19371tbWplc8AAtBAAOArF/VMMmVSe7t7rdPrLoxyWXD48uSvH+i/ceGqyFekOQLG1MVAWA7u2ZdAADMiQuTvCbJJ6rqzqHtLUl+Icl1VXV5ks8kefWw7qYkr0hyf5KvJPnxccsFYBEJYACQpLs/mq3P60qSl27Rv5O8dqpFAbB0TEEEAAAYiQAGAAAwEgEMAABgJAIYAADASAQwAACAkQhgAAAAIxHAAAAARjLfAay2+3MsAAAAi2e+AxgAAMAS2bWTTlX1YJIvJXksyaPdvW+aRQEAACyjHQWwwfd0959NrRIAAIAlZwoiAADASHYawDrJh6rq9qraP82CHseFOAAAgCWx0ymIF3b3Q1X1zCQ3V9V93X3rZIchmO1Pkt27d5/kMgEAABbfjkbAuvuh4f5IkhuSnL9FnwPdva+7962trZ3cKgEAAJbAcQNYVT21qp6+8TjJy5LcPe3CAAAAls1OpiCemeSGWj8Xa1eS3+zuD061KgAAgCV03ADW3Q8kef4ItQAAACw1l6EHAAAYyWIEMJeiBwAAlsBiBDAAAIAlIIABAACMRAADAAAYiQAGAEmq6qqqOlJVd0+0vaeq7hxuD1bVnUP7nqr6i4l1vzq7ygFYJDv5O2AAsAquTvJfkrxzo6G7/8nG46p6W5IvTPT/dHfvHa06AJaCAAYASbr71qras9W6qqokP5zkJWPWtHUtO+/bPb06AHhiTEEEgOP77iQPd/enJtqeVVUfr6rfrarvnlVhHF/Vzm8A02YEDACO79Ik104sH06yu7s/V1XfleS3quo7u/uLm59YVfuT7E+S3bt3j1IsAPPLCBgAHENV7Uryj5O8Z6Otu7/a3Z8bHt+e5NNJvn2r53f3ge7e19371tbWxigZgDkmgAHAsX1vkvu6+9BGQ1WtVdUpw+NnJzkvyQMzqg+ABSKAAUCSqro2ye8leU5VHaqqy4dVl+SvTz9Mkhcluauq/jDJe5P8ZHc/Ml61ACwq54ABQJLuvnSb9n+6Rdv1Sa6fdk0ALB8jYAAAACNZnADm2rAAAMCCW5wABgAAsOAEMAAAgJEIYAAAACMRwAAAAEYigAEAAIxEAAMAABiJAAYAADASAQwAAGAkAhgAAMBIBDAAAICRCGAAAAAjEcAAAABGIoABAACMZLECWNWsKwAAAHjCFiuAAQAALDABDAAAYCQCGAAAwEgEMAAAgJEIYAAAACMRwAAAAEYigAEAAIxEAAMAABiJAAYASarqqqo6UlV3T7T9TFX9aVXdOdxeMbHuzVV1f1V9sqq+bzZVA7BodhzAquqUqvp4VX1gmgUBwIxcneSiLdrf0d17h9tNSVJVz01ySZLvHJ7zX6vqlNEqBWBhncgI2OuT3DutQgBglrr71iSP7LD7xUne3d1f7e4/TnJ/kvOnVhwAS2NHAayqzkny/Ul+fbrlAMDceV1V3TVMUTx9aDs7yWcn+hwa2gDgmHY6AvZLSX4qydemWAsAzJsrknxbkr1JDid529BeW/TtrV6gqvZX1cGqOnj06NHpVAnAwjhuAKuqH0hypLtvP04/BxgAlkp3P9zdj3X315L8Wv5qmuGhJOdOdD0nyUPbvMaB7t7X3fvW1tamWzAAc28nI2AXJnllVT2Y5N1JXlJVv7G5kwMMAMumqs6aWPzBJBtXSLwxySVV9Y1V9awk5yX5/bHrA2Dx7Dpeh+5+c5I3J0lVvTjJv+7uH51yXQAwqqq6NsmLk5xRVYeSvDXJi6tqb9anFz6Y5CeSpLvvqarrkvxRkkeTvLa7H5tF3QAsluMGMABYBd196RbNVx6j/88n+fnpVQTAMjqhANbdH0nykalUAgAAsORO5O+AAQAA8CQIYAAAACMRwAAAAEYigAEAAIzEVRABgLlQNesKAKbPCBgAAMBIBDAAAICRCGAAAAAjEcAAAABGIoABAACMRAADAAAYiQAGAAAwEgEMAABgJAIYAADASAQwAACAkQhgAAAAIxHAAAAARrJ4Aaxq1hUAAAA8IYsXwAAAABaUAAYAADASAQwAAGAkAhgAAMBIBDAASFJVV1XVkaq6e6LtP1XVfVV1V1XdUFWnDe17quovqurO4fars6scgEUigAHAuquTXLSp7eYkz+vuv5fkfyd588S6T3f33uH2kyPVCMCCE8AAIEl335rkkU1tH+ruR4fFjyU5Z/TCAFgqAhgA7Mw/S/LbE8vPqqqPV9XvVtV3z6ooABbLrlkXAADzrqr+TZJHk7xraDqcZHd3f66qvivJb1XVd3b3F7d47v4k+5Nk9+7dY5UMwJwyAgYAx1BVlyX5gSQ/0t2dJN391e7+3PD49iSfTvLtWz2/uw90977u3re2tjZW2QDMKQEMALZRVRcl+ekkr+zur0y0r1XVKcPjZyc5L8kDs6kSgEViCiIAJKmqa5O8OMkZVXUoyVuzftXDb0xyc1UlyceGKx6+KMnPVdWjSR5L8pPd/ciWLwwAEwQwAEjS3Zdu0XzlNn2vT3L9dCsCYBmZgggAADASAQwAAGAkAhgAAMBIBDAAAICRCGAAAAAjEcAAAABGIoABAACMRAADAAAYyXEDWFV9U1X9flX9YVXdU1U/O0ZhAAAAy2bXDvp8NclLuvvLVXVqko9W1W9398emXBsAAMBSOW4A6+5O8uVh8dTh1tMsCgAAYBnt6Bywqjqlqu5MciTJzd1923TLAgAAWD47CmDd/Vh3701yTpLzq+p5m/tU1f6qOlhVB48ePXqy6wQAAFh4J3QVxO7+8yQfSXLRFusOdPe+7t63trZ2ksoDAABYHju5CuJaVZ02PP7mJN+b5L5pFwYAALBsdnIVxLOSXFNVp2Q9sF3X3R+YblkAAADLZydXQbwryQtGqAUAAGCpndA5YAAAADxxAhgAAMBIBDAAAICRCGAAAAAjEcAAAABGIoABAACMRAADAAAYiQAGAEmq6qqqOlJVd0+0PaOqbq6qTw33pw/tVVW/XFX3V9VdVfXC2VUOwCIRwABg3dVJLtrU9qYkt3T3eUluGZaT5OVJzhtu+5NcMVKNACw4AQwAknT3rUke2dR8cZJrhsfXJHnVRPs7e93HkpxWVWeNUynTVLXzG8ATIYABwPbO7O7DSTLcP3NoPzvJZyf6HRraHqeq9lfVwao6ePTo0akWC8D8E8AA4MRtNf7RW3Xs7gPdva+7962trU25LADmnQAGANt7eGNq4XB/ZGg/lOTciX7nJHlo5NoAWEACGABs78Yklw2PL0vy/on2HxuuhnhBki9sTFUEgGPZNesCAGAeVNW1SV6c5IyqOpTkrUl+Icl1VXV5ks8kefXQ/aYkr0hyf5KvJPnx0QsGYCEJYACQpLsv3WbVS7fo20leO92KAFhGpiACAACMRAADAAAYiQAGAAAwEgEMAABgJAIYAADASAQwAACAkQhgAAAAIxHAAAAARiKAAQAAjGTXrAsAAJZX1awrAJgvRsAAAABGIoABAACMRAADAAAYiQAGAAAwEgEMAABgJAIYAADASAQwAACAkQhgAAAAIxHAAAAARiKAAQAAjEQAAwAAGIkABgAAMBIBDAAAYCS7Zl0AAMyzqnpOkvdMND07yb9NclqSf57k6ND+lu6+aeTyAFgwxx0Bq6pzq+rDVXVvVd1TVa8fozAAmAfd/cnu3tvde5N8V5KvJLlhWP2OjXXCFwA7sZMRsEeTvLG776iqpye5vapu7u4/mnJtADBvXprk0939J1U161oAWEDHHQHr7sPdfcfw+EtJ7k1y9rQLA4A5dEmSayeWX1dVd1XVVVV1+qyKAmBxnNBFOKpqT5IXJLlti3X7q+pgVR08evTo5tUAsNCq6huSvDLJ/xiarkjybUn2Jjmc5G3bPM/xEYCv23EAq6qnJbk+yRu6+4ub13f3ge7e19371tbWTmaNADAPXp7kju5+OEm6++Hufqy7v5bk15Kcv9WTHB8BmLSjAFZVp2Y9fL2ru9833ZIAYC5dmonph1V11sS6H0xy9+gVAbBwjnsRjlo/y/jKJPd299unXxIAzJeq+pYk/yjJT0w0/8eq2pukkzy4aR0AbGknV0G8MMlrknyiqu4c2vytEwBWRnd/Jcm3bmp7zYzKAWCBHTeAdfdHk7jWLgAAwJN0QldBBAAA4IkTwAAAAEYigAEAAIxEAAMAABiJAAYAADASAQwAAGAkAhgAAMBIBDAAAICRCGAAAAAjEcAAAABGIoABAACMRAADAAAYiQAGAAAwEgEMAABgJAIYAADASBYygFXNugIAAIATt5ABDAAAYBEtfAAzGgYAACyKhQ9gyXoIE8QAAIB5txQBbIMgBgAAzLOlCmAbBDEAAGAeLWUA20wYAwAA5sGuWRcwlq1CWPf4dQCweKrqwSRfSvJYkke7e19VPSPJe5LsSfJgkh/u7s/PqkYAFsNKjIBtZzKUbUxbNFoGwDa+p7v3dve+YflNSW7p7vOS3DIsA8AxrXQA285kGJsMZQIaABMuTnLN8PiaJK+aYS0ALAgB7AnYKqAJZgBLrZN8qKpur6r9Q9uZ3X04SYb7Z86sOgAWxsqcAzaWYwUx55wBLKwLu/uhqnpmkpur6r6dPnEIbPuTZPfu3dOqD4AFYQRsRNudc2b0DGC+dfdDw/2RJDckOT/Jw1V1VpIM90e2ee6B7t7X3fvW1tbGKhmAOSWAzYmtwphgBjB7VfXUqnr6xuMkL0tyd5Ibk1w2dLssyftnUyEAi8QUxDm3XQgznRFgNGcmuaHWfyHvSvKb3f3BqvqDJNdV1eVJPpPk1TOsEYAFIYAtOOecAUxXdz+Q5PlbtH8uyUvHr2j2zNAAeOIEsBXgj1ADAMB8EMBW1EYo2whim0OagAYAACefAMaWtgpkRtIAAODJEcB4UiZDmdE0AAA4NgGMqRPSAABgnQDGXBDSAABYBQIYC0NIAwBg0QlgLJWdhLTN6wEAYCxPOV6Hqrqqqo5U1d1jFARjmQxmVX91AwCAaTluAEtydZKLplwHzI3JMDYZyoQ0AACerOMGsO6+NckjI9QCC2O7kAYAAMfiHDA4yZxzBgDAdnYyBXFHqmp/VR2sqoNHjx49WS8LS8M5ZwAAnLQA1t0Huntfd+9bW1s7WS8LS89URgCA1WEKIswpUxkBAJbPTi5Df22S30vynKo6VFWXT78sYDtbTWUEAGAxHHcErLsvHaMQ4InbKoQZKQMAmD+mIMKSE84AAObHSbsIB7A4Nk9dNI0RAGAcRsCAJC76AQAwBiNgwDFtBDOXygcAePKMgAEnbHMIM0oGALAzRsCAJ82oGADAzhgBA06qyTBmZAwA4K8zAgZMjXPGWAZVdW5Vfbiq7q2qe6rq9UP7z1TVn1bVncPtFbOuFYD5ZwQMmLqNELYxIlZldIyF8miSN3b3HVX19CS3V9XNw7p3dPcvzrA2ABaMAAbMhAt5sCi6+3CSw8PjL1XVvUnOnm1VACwqUxCBuWC6IougqvYkeUGS24am11XVXVV1VVWdvs1z9lfVwao6ePTo0ZEqBWBeCWDAXBLImDdV9bQk1yd5Q3d/MckVSb4tyd6sj5C9bavndfeB7t7X3fvW1tZGqxeA+WQKIjDXXFWReVBVp2Y9fL2ru9+XJN398MT6X0vygRmVd1L4wgNgHEbAgIVhVIxZqKpKcmWSe7v77RPtZ010+8Ekd49dGwCLxwgYsLBcTZGRXJjkNUk+UVV3Dm1vSXJpVe1N0kkeTPITsykPgEUigAELTQhj2rr7o0m2Gnu9aexaAFh8piACC8/URABgUQhgwNIQwgCAeSeAAQAAjEQAA5aKUTAAYJ4JYMDSEcIAgHklgAEAAIzEZegBYEkZDQaYP0bAgKXmAygAME8EMGDpCWEAwLwQwICV4I81AwDzQAADAAAYiQAGrBSjYADALAlgwMoRwgCAWRHAAAAARiKAASvJKBgAMAsCGLCyhDAAYGy7Zl0AAMAiOpEvcbqnVwewWIyAAQAAjEQAA1aeqYgAwFgEMIAIYQDAOJwDBgAALJYT/eZ0jk7ENAIGAAAwEiNgAACwihZ4FOmEzdFlS3c0AlZVF1XVJ6vq/qp601QrApgR54FxohwfAThRxw1gVXVKkl9J8vIkz01yaVU9d9qFAcA8c3wEOIaq6d4W2E5GwM5Pcn93P9Ddf5nk3Ukunm5ZADD3HB8BOGE7OQfs7CSfnVg+lOTvT6ccgNmqWuwp7ozK8RGYr/Oopj0ytOAjT/NiJwFsqy39uD2nqvYn2T8sfrmqPvlkCktyRpI/266knfz/n6w+J/O1nmSfr2+TFX3/W/XZdj9Zkfe/nTOqtvv5ObF/a6f9FqDPlvvKVq+1QseXY/ye3bG/fTIKWVBzeHxcGQu3DU7y75WFe/9TsLjb4OTsDIv7/k+O6b7/k/cDu+UxcicB7FCScyeWz0ny0OZO3X0gyYEnVNoWqupgd+87Wa+3DGyTx7NNtma7PJ5t8ni2yZPm+Dgjq74NVv39J7aB97/Y738n54D9QZLzqupZVfUNSS5JcuN0ywKAuef4CMAJO+4IWHc/WlWvS/I7SU5JclV33zP1ygBgjjk+AvBE7OgPMXf3TUlumnItm5206RpLxDZ5PNtka7bL49kmj2ebPEmOjzOz6ttg1d9/Yht4/wus2uW+AAAARrGTc8AAAAA4CeYygFXVRVX1yaq6v6reNOt6xlJV51bVh6vq3qq6p6peP7Q/o6purqpPDfenD+1VVb88bKe7quqFs30H01FVp1TVx6vqA8Pys6rqtmF7vGc4+T1V9Y3D8v3D+j2zrHuaquq0qnpvVd037C//wH5S/2r4ubm7qq6tqm9axX2lqq6qqiNVdfdE2wnvG1V12dD/U1V12SzeC4+3qsfHDVvt36tku88Jq2L4vf77VfWHw/v/2VnXNAubPxetmqp6sKo+UVV3VtXBWdfzRMxdAKuqU5L8SpKXJ3lukkur6rmzrWo0jyZ5Y3d/R5ILkrx2eO9vSnJLd5+X5JZhOVnfRucNt/1Jrhi/5FG8Psm9E8v/Ick7hu3x+SSXD+2XJ/l8d/+dJO8Y+i2r/5zkg939d5M8P+vbZ2X3k6o6O8m/TLKvu5+X9QsiXJLV3FeuTnLRprYT2jeq6hlJ3pr1Pyp8fpK3boQ2ZmfFj48brs7j9+9Vst3nhFXx1SQv6e7nJ9mb5KKqumDGNc3C5s9Fq+h7unvvol6Kfu4CWNYP9vd39wPd/ZdJ3p3k4hnXNIruPtzddwyPv5T1H66zs/7+rxm6XZPkVcPji5O8s9d9LMlpVXXWyGVPVVWdk+T7k/z6sFxJXpLkvUOXzdtjYzu9N8lLh/5Lpar+RpIXJbkySbr7L7v7z7PC+8lgV5JvrqpdSb4lyeGs4L7S3bcmeWRT84nuG9+X5ObufqS7P5/k5qz2h955sbLHxw3b7N8r4xifE1bC8Lvqy8PiqcNtpS5msPlzEYtpHgPY2Uk+O7F8KCv0y2XDMCXqBUluS3Jmdx9O1n/5Jnnm0G0VttUvJfmpJF8blr81yZ9396PD8uR7/vr2GNZ/Yei/bJ6d5GiS/zZMQfj1qnpqVng/6e4/TfKLST6T9eD1hSS3x76y4UT3jaXfZxaU/xe+btPnhJUxTL+7M8mRrH9RtFLvP4//XLSKOsmHqur2qto/62KeiHkMYFt9C71q3248Lcn1Sd7Q3V88Vtct2pZmW1XVDyQ50t23TzZv0bV3sG6Z7ErywiRXdPcLkvzf/NWUsq0s/XYZpsddnORZSf5WkqdmfZrWZqu2rxzPdtvB9plP/l9IckKfE5ZOdz/W3XuTnJPk/Kp63qxrGss2n4tW0YXd/cKsH+dfW1UvmnVBJ2oeA9ihJOdOLJ+T5KEZ1TK6qjo1679U39Xd7xuaH96YMjbcHxnal31bXZjklVX1YNan2rwk69/8nDZMM0v++nv++vYY1v/NLOdUlUNJDk186/ferAeyVd1PkuR7k/xxdx/t7v+X5H1J/mHsKxtOdN9YhX1mEfl/YbvPCStnmHr/kazW9OjHfS6qqt+YbUnj6+6HhvsjSW7I+vTshTKPAewPkpw3XL3sG7J+Iv2NM65pFMM5KFcmube73z6x6sYkG1chuyzJ+yfaf2y4ktkFSb6wMc1oGXT3m7v7nO7ek/X94H91948k+XCSHxq6bd4eG9vph4b+S/ftcHf/nySfrarnDE0vTfJHWdH9ZPCZJBdU1bcMP0cb22Sl95UJJ7pv/E6Sl1XV6cPo4suGNmZrZY+PrDvG54SVUFVrVXXa8Pibs/7l232zrWo823wu+tEZlzWqqnpqVT1943HWj08Ld1XUXcfvMq7ufrSqXpf1g/0pSa7q7ntmXNZYLkzymiSfGOY3J8lbkvxCkuuq6vKsf9B89bDupiSvSHJ/kq8k+fFxy52Zn07y7qr690k+nuFiFMP9f6+q+7M+mnHJjOobw79I8q7hQ9gDWf+/f0pWdD/p7tuq6r1J7sj6VcI+nuRAkv+ZFdtXquraJC9OckZVHcr61QxP6HdIdz9SVf8u6x/4k+TnunuZRwgXwoofH5NsvX9395XHftZS2fJzQnffNMOaxnRWkmuGK4I+Jcl13b2Sl2JfYWcmuWG4btauJL/Z3R+cbUknrpb7S18AAID5MY9TEAEAAJaSAAYAADASAQwAAGAkAhgAAMBIBDAAAICRCGAAAAAjEcAAAABGIoABAACM5P8DalmfuYrDwIIAAAAASUVORK5CYII=\n",
          "text/plain": "<Figure size 1080x360 with 2 Axes>"
         },
         "metadata": {},
         "output_type": "display_data"
        }
       ]
      }
     },
     "1ee05204b821423d842618ca0c8e506c": {
      "model_module": "@jupyter-widgets/controls",
      "model_module_version": "1.5.0",
      "model_name": "BoundedFloatTextModel",
      "state": {
       "description": "prob twice:",
       "layout": "IPY_MODEL_67405b84fff44e7fb1adbbb15d62c11c",
       "max": 1,
       "step": 0.01,
       "style": "IPY_MODEL_ec715aafb71348398d5525c66499b793",
       "value": 0.36
      }
     },
     "1ee64f03798a4697a9e9df162373ac4b": {
      "model_module": "@jupyter-widgets/controls",
      "model_module_version": "1.5.0",
      "model_name": "DescriptionStyleModel",
      "state": {
       "description_width": ""
      }
     },
     "1f47166d22574ae581d5c9c13db09d7c": {
      "model_module": "@jupyter-widgets/controls",
      "model_module_version": "1.5.0",
      "model_name": "DescriptionStyleModel",
      "state": {
       "description_width": ""
      }
     },
     "1fae8c07e90344b4ab3e752fa9ed667a": {
      "model_module": "@jupyter-widgets/controls",
      "model_module_version": "1.5.0",
      "model_name": "HTMLModel",
      "state": {
       "layout": "IPY_MODEL_60e7283743a94fcb9b5a13af395595d7",
       "style": "IPY_MODEL_98870410f04042b791f0cd7b2355e069",
       "value": "False negative rate: 1.154e-20; false positive rate: 0.05"
      }
     },
     "2018089b158849dc8d4935cdc03092a1": {
      "model_module": "@jupyter-widgets/controls",
      "model_module_version": "1.5.0",
      "model_name": "DescriptionStyleModel",
      "state": {
       "description_width": ""
      }
     },
     "209cc24da6954983b8e53e63ae2b3d85": {
      "model_module": "@jupyter-widgets/controls",
      "model_module_version": "1.5.0",
      "model_name": "BoundedIntTextModel",
      "state": {
       "continuous_update": true,
       "layout": "IPY_MODEL_281bbe2587d04a5eb3aa1d9ddb8bad28",
       "max": 1e+40,
       "style": "IPY_MODEL_a6c7afd71cfa4524afb90b013b9e1f2c",
       "value": 10000
      }
     },
     "20c80c8b4ab842e297a1acec85944a83": {
      "model_module": "@jupyter-widgets/controls",
      "model_module_version": "1.5.0",
      "model_name": "DescriptionStyleModel",
      "state": {
       "description_width": ""
      }
     },
     "210fa8a670d043148be7ef4dffce9a7b": {
      "model_module": "@jupyter-widgets/controls",
      "model_module_version": "1.5.0",
      "model_name": "DescriptionStyleModel",
      "state": {
       "description_width": ""
      }
     },
     "2119fd66391d42d19e50aa1703728645": {
      "model_module": "@jupyter-widgets/base",
      "model_module_version": "1.2.0",
      "model_name": "LayoutModel",
      "state": {}
     },
     "217e43b1dbc549928b8cd667a9d02f13": {
      "model_module": "@jupyter-widgets/controls",
      "model_module_version": "1.5.0",
      "model_name": "HTMLModel",
      "state": {
       "layout": "IPY_MODEL_e8f20e225b824af1bc603f815370a3df",
       "style": "IPY_MODEL_79edea92e72843809404f01fbfba9847",
       "value": "Total number of mice used:"
      }
     },
     "21a25c01e3ad46a697d5b46497bff78d": {
      "model_module": "@jupyter-widgets/controls",
      "model_module_version": "1.5.0",
      "model_name": "BoundedFloatTextModel",
      "state": {
       "description": "prob twice:",
       "layout": "IPY_MODEL_719c58e2e02146cb9b6effbca22da88c",
       "max": 1,
       "step": 0.01,
       "style": "IPY_MODEL_3ebb37837fb040e5ae8fe7f83df23217",
       "value": 0.08
      }
     },
     "21cad4e12ac44c5981e85a7401185cdb": {
      "model_module": "@jupyter-widgets/controls",
      "model_module_version": "1.5.0",
      "model_name": "BoundedFloatTextModel",
      "state": {
       "continuous_update": true,
       "layout": "IPY_MODEL_deb908cb86b34307b43eec1669edf5c1",
       "max": 1,
       "step": 0.01,
       "style": "IPY_MODEL_6f763f85420c40c78aada5ba7d6657ee",
       "value": 0.05
      }
     },
     "220c580589f74767a432d7e10601b694": {
      "model_module": "@jupyter-widgets/controls",
      "model_module_version": "1.5.0",
      "model_name": "BoundedIntTextModel",
      "state": {
       "description": "number of mice:",
       "layout": "IPY_MODEL_04bdd7a9ff25498fa350dc17069d5367",
       "max": 10000,
       "style": "IPY_MODEL_6d005ea1007449c986d6d76359cc389d",
       "value": 5
      }
     },
     "220eb79ed9db4e4fbf7afdf17a855aba": {
      "model_module": "@jupyter-widgets/controls",
      "model_module_version": "1.5.0",
      "model_name": "BoundedIntTextModel",
      "state": {
       "continuous_update": true,
       "layout": "IPY_MODEL_09299dbcbe834c648a4136cac75558ca",
       "max": 1e+40,
       "style": "IPY_MODEL_d180ec4328714bc5b95f6a24682c068d",
       "value": 1000
      }
     },
     "2262ac2c4e7d4431b255084d7e79113d": {
      "model_module": "@jupyter-widgets/base",
      "model_module_version": "1.2.0",
      "model_name": "LayoutModel",
      "state": {
       "height": "100px",
       "width": "100%"
      }
     },
     "226e5ee0930844ab9b76c87af4299a0d": {
      "model_module": "@jupyter-widgets/controls",
      "model_module_version": "1.5.0",
      "model_name": "DescriptionStyleModel",
      "state": {
       "description_width": ""
      }
     },
     "22cbf7aa6c434abdb2c3ec2347b46143": {
      "model_module": "@jupyter-widgets/controls",
      "model_module_version": "1.5.0",
      "model_name": "HBoxModel",
      "state": {
       "children": [
        "IPY_MODEL_36d21975919e44588553a3552a144066",
        "IPY_MODEL_1582189168fd42fea7a67e53f51853d4"
       ],
       "layout": "IPY_MODEL_8bd2e78d5e78420d9aeb0c0103bb7ceb"
      }
     },
     "23373def45f847558145ebdd69a0abdf": {
      "model_module": "@jupyter-widgets/controls",
      "model_module_version": "1.5.0",
      "model_name": "BoundedIntTextModel",
      "state": {
       "description": "mouse threshold:",
       "layout": "IPY_MODEL_4234e1e0609c4c29965c18f4ff32598a",
       "max": 10000,
       "style": "IPY_MODEL_6c1539a4dca7489aad315d434520a8c9",
       "value": 2
      }
     },
     "238fb2eab5ff43c0908eec63c150d8aa": {
      "model_module": "@jupyter-widgets/controls",
      "model_module_version": "1.5.0",
      "model_name": "SliderStyleModel",
      "state": {
       "description_width": ""
      }
     },
     "2426531f7cde4d1fb3ac708c4625f1c9": {
      "model_module": "@jupyter-widgets/controls",
      "model_module_version": "1.5.0",
      "model_name": "DescriptionStyleModel",
      "state": {
       "description_width": ""
      }
     },
     "25cebadbabc04f12abe2b8a05fb78da0": {
      "model_module": "@jupyter-widgets/base",
      "model_module_version": "1.2.0",
      "model_name": "LayoutModel",
      "state": {}
     },
     "25f3363259a3441796fc1dcbba7af0ec": {
      "model_module": "@jupyter-widgets/base",
      "model_module_version": "1.2.0",
      "model_name": "LayoutModel",
      "state": {}
     },
     "268a801b96cd4d02a6b880cc34df5498": {
      "model_module": "@jupyter-widgets/controls",
      "model_module_version": "1.5.0",
      "model_name": "HTMLModel",
      "state": {
       "layout": "IPY_MODEL_36b4761f5f59400f8349fbabf50ba6ed",
       "style": "IPY_MODEL_18a9bc4584bc43d89faecae7e06980fc",
       "value": "False negative rate: 0.39; false positive rate: 0.03"
      }
     },
     "2779b6d8a16249999d4f84ae36ff9b92": {
      "model_module": "@jupyter-widgets/controls",
      "model_module_version": "1.5.0",
      "model_name": "DescriptionStyleModel",
      "state": {
       "description_width": ""
      }
     },
     "27d96f69313d4ab0907226304348ab67": {
      "model_module": "@jupyter-widgets/controls",
      "model_module_version": "1.5.0",
      "model_name": "DescriptionStyleModel",
      "state": {
       "description_width": ""
      }
     },
     "281bbe2587d04a5eb3aa1d9ddb8bad28": {
      "model_module": "@jupyter-widgets/base",
      "model_module_version": "1.2.0",
      "model_name": "LayoutModel",
      "state": {}
     },
     "2851e9be75744e01a96dbeea199a0fe3": {
      "model_module": "@jupyter-widgets/base",
      "model_module_version": "1.2.0",
      "model_name": "LayoutModel",
      "state": {}
     },
     "286b120395aa463fa0acce67367ce83d": {
      "model_module": "@jupyter-widgets/controls",
      "model_module_version": "1.5.0",
      "model_name": "HTMLModel",
      "state": {
       "layout": "IPY_MODEL_75b2f936748b46098b3085ba086dd622",
       "style": "IPY_MODEL_356f317134bf4e7b84db83e3ef7c3d3b",
       "value": "False negative rate: <b><font color=\"#be03fd\">1.964e-31<\font><\b>; false positive rate: <b><font color=\"#be03fd\">0.03<\font><\b>"
      }
     },
     "28d618f3c22546a2bc9359e5c87fa4f6": {
      "model_module": "@jupyter-widgets/controls",
      "model_module_version": "1.5.0",
      "model_name": "BoundedFloatTextModel",
      "state": {
       "description": "prob twice:",
       "layout": "IPY_MODEL_354ed49f29664fce885d339a99810d20",
       "max": 1,
       "step": 0.01,
       "style": "IPY_MODEL_7a80594419554f848ae28801ed54c0c5",
       "value": 0.05
      }
     },
     "28f7508fbc7e4fcba33d3190b891f25a": {
      "model_module": "@jupyter-widgets/base",
      "model_module_version": "1.2.0",
      "model_name": "LayoutModel",
      "state": {}
     },
     "29374fa7684c42209d13a0e9ebb90c28": {
      "model_module": "@jupyter-widgets/base",
      "model_module_version": "1.2.0",
      "model_name": "LayoutModel",
      "state": {
       "height": "100px",
       "width": "100%"
      }
     },
     "29ccbb2557d349c3a1bb23bb19807e25": {
      "model_module": "@jupyter-widgets/controls",
      "model_module_version": "1.5.0",
      "model_name": "HTMLModel",
      "state": {
       "layout": "IPY_MODEL_c0ae56286c254918bfeb0c9362b658d4",
       "style": "IPY_MODEL_83f21ed131ba47d38d769ae4fac4df86",
       "value": "Number of cells per mouse in which a barcode is induced:"
      }
     },
     "2a4aa169df8e4c03bd3117c091c737f5": {
      "model_module": "@jupyter-widgets/controls",
      "model_module_version": "1.5.0",
      "model_name": "DescriptionStyleModel",
      "state": {
       "description_width": ""
      }
     },
     "2a756107b2024fffa18a182c5413ba56": {
      "model_module": "@jupyter-widgets/controls",
      "model_module_version": "1.5.0",
      "model_name": "DescriptionStyleModel",
      "state": {
       "description_width": ""
      }
     },
     "2a96f25bf4fd4532a63bea6fe38790d4": {
      "model_module": "@jupyter-widgets/base",
      "model_module_version": "1.2.0",
      "model_name": "LayoutModel",
      "state": {}
     },
     "2b3d5c85e12b4987958471c6d9800d40": {
      "model_module": "@jupyter-widgets/base",
      "model_module_version": "1.2.0",
      "model_name": "LayoutModel",
      "state": {
       "height": "100px",
       "width": "100%"
      }
     },
     "2b67489e5055453ca10b653891af1b3f": {
      "model_module": "@jupyter-widgets/controls",
      "model_module_version": "1.5.0",
      "model_name": "DescriptionStyleModel",
      "state": {
       "description_width": ""
      }
     },
     "2b7e9951130849cfa921f4c499bf28f2": {
      "model_module": "@jupyter-widgets/output",
      "model_module_version": "1.0.0",
      "model_name": "OutputModel",
      "state": {
       "layout": "IPY_MODEL_f00833bfe83a44c88c880e4fb83a6eda",
       "outputs": [
        {
         "data": {
          "image/png": "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\n",
          "text/plain": "<Figure size 1080x360 with 2 Axes>"
         },
         "metadata": {},
         "output_type": "display_data"
        }
       ]
      }
     },
     "2ba77b78677c4cedb22974168d8a26cc": {
      "model_module": "@jupyter-widgets/base",
      "model_module_version": "1.2.0",
      "model_name": "LayoutModel",
      "state": {}
     },
     "2c12537ea9124a588da2ccda74474c12": {
      "model_module": "@jupyter-widgets/base",
      "model_module_version": "1.2.0",
      "model_name": "LayoutModel",
      "state": {}
     },
     "2c139d9d56ac4a889066afab7f5f53e5": {
      "model_module": "@jupyter-widgets/controls",
      "model_module_version": "1.5.0",
      "model_name": "BoundedFloatTextModel",
      "state": {
       "description": "prob twice:",
       "layout": "IPY_MODEL_c18320cb0d8d4e02a0aea9cf61c6286a",
       "max": 1,
       "step": 0.01,
       "style": "IPY_MODEL_6b08935c08f34d69b8bc2fa6c176cf9b",
       "value": 0.05
      }
     },
     "2c5ad0157330488eaba00487f33e34bd": {
      "model_module": "@jupyter-widgets/base",
      "model_module_version": "1.2.0",
      "model_name": "LayoutModel",
      "state": {}
     },
     "2c6d6bc75f02408e875b816cf38b2674": {
      "model_module": "@jupyter-widgets/controls",
      "model_module_version": "1.5.0",
      "model_name": "DescriptionStyleModel",
      "state": {
       "description_width": ""
      }
     },
     "2d8f6f0765fa4526b8584f4ca41cc188": {
      "model_module": "@jupyter-widgets/base",
      "model_module_version": "1.2.0",
      "model_name": "LayoutModel",
      "state": {}
     },
     "2e1dbe50388e43d285e894557bb31bda": {
      "model_module": "@jupyter-widgets/controls",
      "model_module_version": "1.5.0",
      "model_name": "BoundedIntTextModel",
      "state": {
       "continuous_update": true,
       "description": "number of cells:",
       "layout": "IPY_MODEL_4ce9edbccfcc4a0db6c647651a9bc319",
       "max": 1e+40,
       "style": "IPY_MODEL_2b67489e5055453ca10b653891af1b3f",
       "value": 10000
      }
     },
     "2e90f61f14754056a4773855c8f37766": {
      "model_module": "@jupyter-widgets/output",
      "model_module_version": "1.0.0",
      "model_name": "OutputModel",
      "state": {
       "layout": "IPY_MODEL_65d7a22b406d4a3f9c8d9379387e7dac",
       "outputs": [
        {
         "data": {
          "image/png": "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\n",
          "text/plain": "<Figure size 1080x360 with 2 Axes>"
         },
         "metadata": {},
         "output_type": "display_data"
        }
       ]
      }
     },
     "2f8adc560aec4a5b8fddf3f94bfc99e5": {
      "model_module": "@jupyter-widgets/base",
      "model_module_version": "1.2.0",
      "model_name": "LayoutModel",
      "state": {}
     },
     "2f918b64619e413383099ec70724c7a9": {
      "model_module": "@jupyter-widgets/controls",
      "model_module_version": "1.5.0",
      "model_name": "BoundedFloatTextModel",
      "state": {
       "description": "prob twice:",
       "layout": "IPY_MODEL_fa07523eb53648679cd94a806c992022",
       "max": 1,
       "step": 0.01,
       "style": "IPY_MODEL_b01d7e09e0734b6a9420addbb6edba0c",
       "value": 0.05
      }
     },
     "31087d30245f4e9e854e42809cdbd91c": {
      "model_module": "@jupyter-widgets/base",
      "model_module_version": "1.2.0",
      "model_name": "LayoutModel",
      "state": {}
     },
     "3127d57ecfe34ab3b108f95b647899b4": {
      "model_module": "@jupyter-widgets/controls",
      "model_module_version": "1.5.0",
      "model_name": "BoundedFloatTextModel",
      "state": {
       "description": "number of cells:",
       "layout": "IPY_MODEL_31087d30245f4e9e854e42809cdbd91c",
       "max": "inf",
       "step": null,
       "style": "IPY_MODEL_27d96f69313d4ab0907226304348ab67",
       "value": null
      }
     },
     "313c8f2186944e18906aff6b2560e085": {
      "model_module": "@jupyter-widgets/controls",
      "model_module_version": "1.5.0",
      "model_name": "DescriptionStyleModel",
      "state": {
       "description_width": ""
      }
     },
     "314053e60437426dbb48e8c294142669": {
      "model_module": "@jupyter-widgets/controls",
      "model_module_version": "1.5.0",
      "model_name": "HBoxModel",
      "state": {
       "children": [
        "IPY_MODEL_0e2068d2c5c84f5783c43ab203d7b6a8",
        "IPY_MODEL_c71127d75ddb4c41a648d9c7848f5df4"
       ],
       "layout": "IPY_MODEL_e7dbc0c746434845b406b9528e6aa76f"
      }
     },
     "31b186560a62482581a66a97bc7a1ede": {
      "model_module": "@jupyter-widgets/output",
      "model_module_version": "1.0.0",
      "model_name": "OutputModel",
      "state": {
       "layout": "IPY_MODEL_de839578395f4b6b91ae470f5c32b575"
      }
     },
     "31c5ecebaa1d46449cceb62a811d4e3c": {
      "model_module": "@jupyter-widgets/controls",
      "model_module_version": "1.5.0",
      "model_name": "BoundedIntTextModel",
      "state": {
       "description": "mouse threshold:",
       "layout": "IPY_MODEL_bf8cdda74fc3406d80cfab6c30c29483",
       "max": 10000,
       "style": "IPY_MODEL_a0bcfe14ffc24b8bab34e1c324a63ef5",
       "value": 5
      }
     },
     "31ccf30d03494525a0d17d3eded6f1e1": {
      "model_module": "@jupyter-widgets/base",
      "model_module_version": "1.2.0",
      "model_name": "LayoutModel",
      "state": {}
     },
     "329a1ef514c64ff4ae5fdf4f2b2cbbdc": {
      "model_module": "@jupyter-widgets/controls",
      "model_module_version": "1.5.0",
      "model_name": "DescriptionStyleModel",
      "state": {
       "description_width": ""
      }
     },
     "335ab5f3107a48e3a3df90d01cd14dfd": {
      "model_module": "@jupyter-widgets/controls",
      "model_module_version": "1.5.0",
      "model_name": "DescriptionStyleModel",
      "state": {
       "description_width": ""
      }
     },
     "33771dc4f512447b903f2e0d48cbae22": {
      "model_module": "@jupyter-widgets/controls",
      "model_module_version": "1.5.0",
      "model_name": "BoundedFloatTextModel",
      "state": {
       "continuous_update": true,
       "description": "prob twice:",
       "layout": "IPY_MODEL_6a06398e57f849bdafab4b29eba8972c",
       "max": 1,
       "step": 0.01,
       "style": "IPY_MODEL_e27a5ddbc441451d82a2f801464ecd90",
       "value": 0.01
      }
     },
     "339221de731143649b4156c2b763e08f": {
      "model_module": "@jupyter-widgets/controls",
      "model_module_version": "1.5.0",
      "model_name": "DescriptionStyleModel",
      "state": {
       "description_width": ""
      }
     },
     "354ed49f29664fce885d339a99810d20": {
      "model_module": "@jupyter-widgets/base",
      "model_module_version": "1.2.0",
      "model_name": "LayoutModel",
      "state": {}
     },
     "356f317134bf4e7b84db83e3ef7c3d3b": {
      "model_module": "@jupyter-widgets/controls",
      "model_module_version": "1.5.0",
      "model_name": "DescriptionStyleModel",
      "state": {
       "description_width": ""
      }
     },
     "357064c11f3346318e71f07d5039223b": {
      "model_module": "@jupyter-widgets/base",
      "model_module_version": "1.2.0",
      "model_name": "LayoutModel",
      "state": {}
     },
     "357cf203a3f34f55b9c81433b737a0f0": {
      "model_module": "@jupyter-widgets/controls",
      "model_module_version": "1.5.0",
      "model_name": "BoundedIntTextModel",
      "state": {
       "description": "mouse threshold:",
       "layout": "IPY_MODEL_89278a7da45645eb84d05e86193d0d26",
       "max": 10000,
       "style": "IPY_MODEL_36ed78a00c8f497d8a501a6bf1c91b5a",
       "value": 2
      }
     },
     "35a3ae8cde7c428fb789bc068136f663": {
      "model_module": "@jupyter-widgets/controls",
      "model_module_version": "1.5.0",
      "model_name": "DescriptionStyleModel",
      "state": {
       "description_width": ""
      }
     },
     "364cb08960914d1dbc662c2e31962597": {
      "model_module": "@jupyter-widgets/base",
      "model_module_version": "1.2.0",
      "model_name": "LayoutModel",
      "state": {
       "height": "100px",
       "width": "100%"
      }
     },
     "36b4761f5f59400f8349fbabf50ba6ed": {
      "model_module": "@jupyter-widgets/base",
      "model_module_version": "1.2.0",
      "model_name": "LayoutModel",
      "state": {
       "height": "100px",
       "width": "100%"
      }
     },
     "36d21975919e44588553a3552a144066": {
      "model_module": "@jupyter-widgets/controls",
      "model_module_version": "1.5.0",
      "model_name": "HTMLModel",
      "state": {
       "layout": "IPY_MODEL_4b2ad6f850fc433993a89b3853c5fe84",
       "style": "IPY_MODEL_00fe68d468f44d09a1b09639c0c0eac9",
       "value": "Total number of mice used:"
      }
     },
     "36ed78a00c8f497d8a501a6bf1c91b5a": {
      "model_module": "@jupyter-widgets/controls",
      "model_module_version": "1.5.0",
      "model_name": "DescriptionStyleModel",
      "state": {
       "description_width": ""
      }
     },
     "3776c3a0e744487fb891004409eb7b23": {
      "model_module": "@jupyter-widgets/base",
      "model_module_version": "1.2.0",
      "model_name": "LayoutModel",
      "state": {}
     },
     "3795abad13504996931d544cbdd7f8b2": {
      "model_module": "@jupyter-widgets/controls",
      "model_module_version": "1.5.0",
      "model_name": "DescriptionStyleModel",
      "state": {
       "description_width": ""
      }
     },
     "382ce0a983e4414eba2c4ab6bace50b9": {
      "model_module": "@jupyter-widgets/controls",
      "model_module_version": "1.5.0",
      "model_name": "HBoxModel",
      "state": {
       "children": [
        "IPY_MODEL_078522d927424af7be1755fb4bba9578",
        "IPY_MODEL_f88e2673e0a0424eba1c69ff3a1b9535"
       ],
       "layout": "IPY_MODEL_1407016e183e48e3b62d63a149f00054"
      }
     },
     "386e08502bbe43e5b9e2110ff112a4eb": {
      "model_module": "@jupyter-widgets/controls",
      "model_module_version": "1.5.0",
      "model_name": "DescriptionStyleModel",
      "state": {
       "description_width": ""
      }
     },
     "39710abe407340ff87b6d82048e1c55d": {
      "model_module": "@jupyter-widgets/base",
      "model_module_version": "1.2.0",
      "model_name": "LayoutModel",
      "state": {}
     },
     "39b0d34c732043ffa8dcfc9c1f4cd0c2": {
      "model_module": "@jupyter-widgets/controls",
      "model_module_version": "1.5.0",
      "model_name": "DescriptionStyleModel",
      "state": {
       "description_width": ""
      }
     },
     "39bce807909245c9888abae347cd9366": {
      "model_module": "@jupyter-widgets/controls",
      "model_module_version": "1.5.0",
      "model_name": "BoundedFloatTextModel",
      "state": {
       "description": "Probability that a barcode is generated twice in the same mouse:",
       "layout": "IPY_MODEL_e081de28fc7b464baf4ddfd8b5e217ec",
       "max": 1,
       "step": 0.01,
       "style": "IPY_MODEL_1030f66fb2ec484ea16d601c85e1e182",
       "value": 0.05
      }
     },
     "3aacc130080146ffaf0a6088f6233123": {
      "model_module": "@jupyter-widgets/controls",
      "model_module_version": "1.5.0",
      "model_name": "BoundedFloatTextModel",
      "state": {
       "description": "prob twice:",
       "layout": "IPY_MODEL_3ba4c39ad459481eb1ee18ff126c5121",
       "max": 1,
       "step": 0.01,
       "style": "IPY_MODEL_ebfeceea501d40319b3821a0115cd82b",
       "value": 0.001
      }
     },
     "3ad76838be8640febb5a885a9103cb77": {
      "model_module": "@jupyter-widgets/controls",
      "model_module_version": "1.5.0",
      "model_name": "DescriptionStyleModel",
      "state": {
       "description_width": ""
      }
     },
     "3ba4c39ad459481eb1ee18ff126c5121": {
      "model_module": "@jupyter-widgets/base",
      "model_module_version": "1.2.0",
      "model_name": "LayoutModel",
      "state": {}
     },
     "3bbc4042323f411884f5adb6f17f4d55": {
      "model_module": "@jupyter-widgets/controls",
      "model_module_version": "1.5.0",
      "model_name": "DescriptionStyleModel",
      "state": {
       "description_width": ""
      }
     },
     "3cb9b4e3c17e4a479657712b636fb9ed": {
      "model_module": "@jupyter-widgets/base",
      "model_module_version": "1.2.0",
      "model_name": "LayoutModel",
      "state": {}
     },
     "3d1761b369b24d73b7ef6e6b7d0a0fe7": {
      "model_module": "@jupyter-widgets/controls",
      "model_module_version": "1.5.0",
      "model_name": "DescriptionStyleModel",
      "state": {
       "description_width": ""
      }
     },
     "3d57fdb7c2414ef0b4555b9a804ba1af": {
      "model_module": "@jupyter-widgets/controls",
      "model_module_version": "1.5.0",
      "model_name": "DescriptionStyleModel",
      "state": {
       "description_width": ""
      }
     },
     "3ddd891eca3349eeb1c3d9233daa330d": {
      "model_module": "@jupyter-widgets/controls",
      "model_module_version": "1.5.0",
      "model_name": "DescriptionStyleModel",
      "state": {
       "description_width": ""
      }
     },
     "3ebb37837fb040e5ae8fe7f83df23217": {
      "model_module": "@jupyter-widgets/controls",
      "model_module_version": "1.5.0",
      "model_name": "DescriptionStyleModel",
      "state": {
       "description_width": ""
      }
     },
     "3f2a2a85f14a42eea1c7eeaba2ad8eb1": {
      "model_module": "@jupyter-widgets/controls",
      "model_module_version": "1.5.0",
      "model_name": "DescriptionStyleModel",
      "state": {
       "description_width": ""
      }
     },
     "3fb2715b0abc4f4da4c507851576153c": {
      "model_module": "@jupyter-widgets/controls",
      "model_module_version": "1.5.0",
      "model_name": "BoundedFloatTextModel",
      "state": {
       "description": "prob twice:",
       "layout": "IPY_MODEL_4528d8951d464e3ba28c71af6f9eb3a4",
       "max": 1,
       "step": 0.01,
       "style": "IPY_MODEL_1112e8a3e03d42a8a0db1e5f9f5bc1cc",
       "value": 0.05
      }
     },
     "3fd62ed1f44949dcb7cf915c401f7347": {
      "model_module": "@jupyter-widgets/base",
      "model_module_version": "1.2.0",
      "model_name": "LayoutModel",
      "state": {
       "height": "100px",
       "width": "100%"
      }
     },
     "40f943ca99164f3d929874c73afdd7af": {
      "model_module": "@jupyter-widgets/base",
      "model_module_version": "1.2.0",
      "model_name": "LayoutModel",
      "state": {}
     },
     "4117871d2c1443fca0aad748c8cd11d2": {
      "model_module": "@jupyter-widgets/base",
      "model_module_version": "1.2.0",
      "model_name": "LayoutModel",
      "state": {}
     },
     "413d08264c0649e188579ca7acc6b8fc": {
      "model_module": "@jupyter-widgets/controls",
      "model_module_version": "1.5.0",
      "model_name": "HBoxModel",
      "state": {
       "children": [
        "IPY_MODEL_9e54bf07c3c348f782f7e6e797e480a1",
        "IPY_MODEL_4d9065bedb104a3491c8133f97d1c25a"
       ],
       "layout": "IPY_MODEL_e0f0b1317f054023ba6aaeb0f5164df1"
      }
     },
     "416d0a7c14c74f9b9dfd30b0d84b31ba": {
      "model_module": "@jupyter-widgets/output",
      "model_module_version": "1.0.0",
      "model_name": "OutputModel",
      "state": {
       "layout": "IPY_MODEL_4db8d83303ff4e6c9029f035a40ff02d",
       "outputs": [
        {
         "ename": "NameError",
         "evalue": "name 'clear_output' is not defined",
         "output_type": "error",
         "traceback": [
          "\u001b[0;31m---------------------------------------------------------------------------\u001b[0m",
          "\u001b[0;31mNameError\u001b[0m                                 Traceback (most recent call last)",
          "\u001b[0;32m<ipython-input-16-e8e8c74446b4>\u001b[0m in \u001b[0;36mthreshold_plot_listener\u001b[0;34m(change)\u001b[0m\n\u001b[1;32m     12\u001b[0m     \u001b[0mplot_bc_size\u001b[0m\u001b[0;34m(\u001b[0m\u001b[0mchange\u001b[0m\u001b[0;34m[\u001b[0m\u001b[0;34m'new'\u001b[0m\u001b[0;34m]\u001b[0m\u001b[0;34m)\u001b[0m\u001b[0;34m\u001b[0m\u001b[0;34m\u001b[0m\u001b[0m\n\u001b[1;32m     13\u001b[0m     \u001b[0;32mwith\u001b[0m \u001b[0mbc_output\u001b[0m\u001b[0;34m:\u001b[0m\u001b[0;34m\u001b[0m\u001b[0;34m\u001b[0m\u001b[0m\n\u001b[0;32m---> 14\u001b[0;31m         \u001b[0mclear_output\u001b[0m\u001b[0;34m(\u001b[0m\u001b[0mwait\u001b[0m\u001b[0;34m=\u001b[0m\u001b[0;32mTrue\u001b[0m\u001b[0;34m)\u001b[0m\u001b[0;34m\u001b[0m\u001b[0;34m\u001b[0m\u001b[0m\n\u001b[0m\u001b[1;32m     15\u001b[0m         \u001b[0mdisplay\u001b[0m\u001b[0;34m(\u001b[0m\u001b[0mbc_dist_fig\u001b[0m\u001b[0;34m)\u001b[0m\u001b[0;34m\u001b[0m\u001b[0;34m\u001b[0m\u001b[0m\n\u001b[1;32m     16\u001b[0m \u001b[0;34m\u001b[0m\u001b[0m\n",
          "\u001b[0;31mNameError\u001b[0m: name 'clear_output' is not defined"
         ]
        },
        {
         "ename": "NameError",
         "evalue": "name 'clear_output' is not defined",
         "output_type": "error",
         "traceback": [
          "\u001b[0;31m---------------------------------------------------------------------------\u001b[0m",
          "\u001b[0;31mNameError\u001b[0m                                 Traceback (most recent call last)",
          "\u001b[0;32m<ipython-input-16-e8e8c74446b4>\u001b[0m in \u001b[0;36mthreshold_plot_listener\u001b[0;34m(change)\u001b[0m\n\u001b[1;32m     12\u001b[0m     \u001b[0mplot_bc_size\u001b[0m\u001b[0;34m(\u001b[0m\u001b[0mchange\u001b[0m\u001b[0;34m[\u001b[0m\u001b[0;34m'new'\u001b[0m\u001b[0;34m]\u001b[0m\u001b[0;34m)\u001b[0m\u001b[0;34m\u001b[0m\u001b[0;34m\u001b[0m\u001b[0m\n\u001b[1;32m     13\u001b[0m     \u001b[0;32mwith\u001b[0m \u001b[0mbc_output\u001b[0m\u001b[0;34m:\u001b[0m\u001b[0;34m\u001b[0m\u001b[0;34m\u001b[0m\u001b[0m\n\u001b[0;32m---> 14\u001b[0;31m         \u001b[0mclear_output\u001b[0m\u001b[0;34m(\u001b[0m\u001b[0mwait\u001b[0m\u001b[0;34m=\u001b[0m\u001b[0;32mTrue\u001b[0m\u001b[0;34m)\u001b[0m\u001b[0;34m\u001b[0m\u001b[0;34m\u001b[0m\u001b[0m\n\u001b[0m\u001b[1;32m     15\u001b[0m         \u001b[0mdisplay\u001b[0m\u001b[0;34m(\u001b[0m\u001b[0mbc_dist_fig\u001b[0m\u001b[0;34m)\u001b[0m\u001b[0;34m\u001b[0m\u001b[0;34m\u001b[0m\u001b[0m\n\u001b[1;32m     16\u001b[0m \u001b[0;34m\u001b[0m\u001b[0m\n",
          "\u001b[0;31mNameError\u001b[0m: name 'clear_output' is not defined"
         ]
        }
       ]
      }
     },
     "4181a8d4f6924473b3aae8c128903c47": {
      "model_module": "@jupyter-widgets/base",
      "model_module_version": "1.2.0",
      "model_name": "LayoutModel",
      "state": {
       "height": "100px",
       "width": "100%"
      }
     },
     "418aedecf12c463b89826edb4d4c968a": {
      "model_module": "@jupyter-widgets/output",
      "model_module_version": "1.0.0",
      "model_name": "OutputModel",
      "state": {
       "layout": "IPY_MODEL_04297004ecc345f6bbce5ffbb099a186",
       "outputs": [
        {
         "data": {
          "image/png": "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\n",
          "text/plain": "<Figure size 432x288 with 1 Axes>"
         },
         "metadata": {},
         "output_type": "display_data"
        }
       ]
      }
     },
     "41b6ab242da64cf79de3e1bd6c2f8c55": {
      "model_module": "@jupyter-widgets/base",
      "model_module_version": "1.2.0",
      "model_name": "LayoutModel",
      "state": {}
     },
     "4234e1e0609c4c29965c18f4ff32598a": {
      "model_module": "@jupyter-widgets/base",
      "model_module_version": "1.2.0",
      "model_name": "LayoutModel",
      "state": {}
     },
     "42791202f6964cec9590ac87a67ebcf2": {
      "model_module": "@jupyter-widgets/controls",
      "model_module_version": "1.5.0",
      "model_name": "HTMLModel",
      "state": {
       "layout": "IPY_MODEL_5060ef65630443a68356cde74cf67d5d",
       "style": "IPY_MODEL_13ecf3d786174d26856ce7367d0668bf",
       "value": "Mouse number threshold for calling overabundant barcodes:"
      }
     },
     "427a90c168204360ba5f5568d7db7ae9": {
      "model_module": "@jupyter-widgets/controls",
      "model_module_version": "1.5.0",
      "model_name": "DescriptionStyleModel",
      "state": {
       "description_width": ""
      }
     },
     "42892544adb2455a82ffc90eb4a4c62c": {
      "model_module": "@jupyter-widgets/controls",
      "model_module_version": "1.5.0",
      "model_name": "HTMLModel",
      "state": {
       "layout": "IPY_MODEL_2b3d5c85e12b4987958471c6d9800d40",
       "style": "IPY_MODEL_ce2c2b54d7dd48378cd260569f91671b",
       "value": "False negative rate: <b><font color=\"#be03fd\">1.190e-15</font></b>; false positive rate: <b><font color=\"#be03fd\">4.058e-03</font></b>"
      }
     },
     "42abf7beca544fcabe10f7726a092cd9": {
      "model_module": "@jupyter-widgets/controls",
      "model_module_version": "1.5.0",
      "model_name": "DescriptionStyleModel",
      "state": {
       "description_width": ""
      }
     },
     "42b8cc3f15b24cf8ae5edfe93c957fc9": {
      "model_module": "@jupyter-widgets/controls",
      "model_module_version": "1.5.0",
      "model_name": "HBoxModel",
      "state": {
       "children": [
        "IPY_MODEL_021c3645772e487db7ac3592ee95c7dc",
        "IPY_MODEL_6d825d18c63a42c58a78d2a24bc95ba5"
       ],
       "layout": "IPY_MODEL_f5d9f989bab64d1ea9fd9f8beaa20e09"
      }
     },
     "42ca8b698e894ae5bdba3eaf03483e05": {
      "model_module": "@jupyter-widgets/base",
      "model_module_version": "1.2.0",
      "model_name": "LayoutModel",
      "state": {}
     },
     "43355a50fffd48739e760b9ba77d4c1c": {
      "model_module": "@jupyter-widgets/output",
      "model_module_version": "1.0.0",
      "model_name": "OutputModel",
      "state": {
       "layout": "IPY_MODEL_f85eda7cd70b4c0a955e0c5d3a19df0c",
       "outputs": [
        {
         "data": {
          "image/png": "iVBORw0KGgoAAAANSUhEUgAAAXAAAAD4CAYAAAD1jb0+AAAABHNCSVQICAgIfAhkiAAAAAlwSFlzAAALEgAACxIB0t1+/AAAADh0RVh0U29mdHdhcmUAbWF0cGxvdGxpYiB2ZXJzaW9uMy4xLjEsIGh0dHA6Ly9tYXRwbG90bGliLm9yZy8QZhcZAAATHUlEQVR4nO3dcaxk5X3e8e9jILi13XrpLmjLrrrE2kQhkQx0RaloLcduMNAqa0uNtEi1V4mljZq1BJKrCid/2KlkKalip7LaUuFCvbSOCamNvIpI4g3BsizFkIWugfWWsMabsGbDrkNtsCq5Af/6x5wLw/Xce2fuzpmZ997vRxrNzDtnzvndd9773HPfc869qSokSe15w7wLkCStjwEuSY0ywCWpUQa4JDXKAJekRl3Yx0q3bt1au3bt6mPVEo8++uh3qmrbrLfruFaf1jOuewnwXbt2cfTo0T5WLZHkL+axXce1+rSece0UiiQ1ygCXpEYZ4JLUKANckhplgEtSowxwSWqUAS5JjTLAJalRBrgkNWq2AZ7MdHOStJG5By5JjTLAJalRBrgkNcoAl6RGGeCS1CgDXJIaZYBLUqMMcG0ISXYmeSjJiSTHk9zatX8sybeTHOtuNw+95yNJTiZ5Ksl75le9tD5j/Uu1JKeAl4BXgJerak+fRUnr8DLw4ap6LMlbgEeTHOle++2q+q3hhZNcCewDfhr4+8AfJ/mJqnplplVL52GS/4n5s1X1nd4qkc5DVZ0BznSPX0pyArh8lbfsBe6tqh8A30pyErgW+NPei5WmxCkUbThJdgFXAw93TR9K8niSu5Ns6douB54dettpRgR+kgNJjiY5eu7cuR6rliY3boAX8KUkjyY5MGoBB7oWQZI3A58HbquqF4E7gLcBVzHYQ//E0qIj3l4/0lB1Z1Xtqao927Zt66lqaX3GDfDrq+oa4CbgYJJ3LF/Aga55S3IRg/D+bFV9AaCqnq+qV6rqh8CnGUyTwGCPe+fQ23cAz82yXul8jRXgVfVcd38WuJ/XvgmkhZAkwF3Aiar65FD79qHF3gc82T0+DOxLcnGSK4DdwCOzqleahjUPYiZ5E/CG7sDQm4AbgH/Xe2XSZK4H3g88keRY1/arwC1JrmIwPXIK+GWAqjqe5D7gGwzOYDnoGShqzThnoVwG3D/YweFC4Heq6g97rUqaUFV9ldHz2g+s8p6PAx/vrSipZ2sGeFU9A7x9BrVIkibgaYSS1KjZB7j/Vk2SpsI9cElqlAEuSY0ywCWpUQa4JDXKAJekRhngktQoA1ySGmWAS1KjDHBJapQBLkmNMsAlqVEGuCQ1ygCXpEYZ4JLUKANckhplgEtSowxwSWqUAS5JjTLAJalRBrgkNcoAl6RGzSfA/c/0knTe3AOXpEYZ4JLUKANckhplgEtSowxwSWqUAa4NIcnOJA8lOZHkeJJbu/ZLkhxJ8nR3v6VrT5JPJTmZ5PEk18z3K5AmN3aAJ7kgyf9K8vt9FiSt08vAh6vqp4DrgINJrgRuBx6sqt3Ag91zgJuA3d3tAHDH7EuWzs8ke+C3Aif6KkQ6H1V1pqoe6x6/xGCsXg7sBQ51ix0C3ts93gvcUwNfA96aZPuMy5bOy1gBnmQH8M+B/9pvOdL5S7ILuBp4GLisqs7AIOSBS7vFLgeeHXrb6a5Nasa4e+D/Afi3wA9XWiDJgSRHkxw9d+7cVIqTJpXkzcDngduq6sXVFh3RViPW57jWwlozwJP8C+BsVT262nJVdWdV7amqPdu2bZtagdK4klzEILw/W1Vf6JqfX5oa6e7Pdu2ngZ1Db98BPLd8nY5rLbJx9sCvB34+ySngXuBdSf5Hr1VJE0oS4C7gRFV9cuilw8D+7vF+4ItD7R/ozka5Dvje0lSL1Io1A7yqPlJVO6pqF7AP+JOq+le9VyZN5nrg/Qx2MI51t5uB3wB+LsnTwM91zwEeAJ4BTgKfBn5lDjVL5+XCeRcgTUNVfZXR89oA7x6xfAEHey1K6tlEAV5VXwa+3EslkqSJeCWmJDXKAJekRhngktQoA1ySGmWAS1KjDHBJapQBLkmNMsAlqVEGuCQ1ygCXpEYZ4JLUKANckhplgEtSowxwSWqUAS5JjTLAJalRBrgkNcoAl6RGGeCS1CgDXJIaZYBLUqMMcElqlAEuSY0ywCWpUQa4JDXKAJekRhngktQoA1ySGmWAS1KjDHBtCEnuTnI2yZNDbR9L8u0kx7rbzUOvfSTJySRPJXnPfKqWzs+aAZ7kjUkeSfL1JMeT/PosCpMm9BngxhHtv11VV3W3BwCSXAnsA366e89/TnLBzCqVpmScPfAfAO+qqrcDVwE3Jrmu37KkyVTVV4AXxlx8L3BvVf2gqr4FnASu7a04qSdrBngNfL97elF3q16rkqbnQ0ke76ZYtnRtlwPPDi1zumuTmjLWHHiSC5IcA84CR6rq4RHLHEhyNMnRc+fOTbtOaT3uAN7G4DfHM8AnuvaMWHbkTonjWotsrACvqleq6ipgB3Btkp8ZscydVbWnqvZs27Zt2nVKE6uq57ux+0Pg07w2TXIa2Dm06A7guRXW4bjWwproLJSq+i7wZUYfLJIWSpLtQ0/fByydoXIY2Jfk4iRXALuBR2Zdn3S+LlxrgSTbgL+pqu8m+VvAPwN+s/fKpAkk+RzwTmBrktPAR4F3JrmKwfTIKeCXAarqeJL7gG8ALwMHq+qVedQtnY81AxzYDhzqTrN6A3BfVf1+v2VJk6mqW0Y037XK8h8HPt5fRVL/1gzwqnocuHoGtUiSJuCVmJLUKANckhplgEtSowxwSWqUAS5JjTLAJalRBrgkNcoAl6RGGeCS1CgDXJIaZYBLUqMMcElqlAEuSY0ywCWpUQa4JDXKAJekRhngktQoA1ySGmWAS1KjDHBJapQBLkmNMsAlqVEGuCQ1ygCXpEYZ4JLUKANckhplgEtSowxwSWqUAS5JjTLAtSEkuTvJ2SRPDrVdkuRIkqe7+y1de5J8KsnJJI8nuWZ+lUvrt2aAJ9mZ5KEkJ5IcT3LrLAqTJvQZ4MZlbbcDD1bVbuDB7jnATcDu7nYAuGNGNUpTNc4e+MvAh6vqp4DrgINJruy3LGkyVfUV4IVlzXuBQ93jQ8B7h9rvqYGvAW9Nsn02lUrTs2aAV9WZqnqse/wScAK4vO/CpCm4rKrOwGAcA5d27ZcDzw4tdxrHtBo00Rx4kl3A1cDDI147kORokqPnzp2bTnVSPzKirUYu6LjWAhs7wJO8Gfg8cFtVvbj89aq6s6r2VNWebdu2TbNGab2eX5oa6e7Pdu2ngZ1Dy+0Anhu1Ase1FtlYAZ7kIgbh/dmq+kK/JUlTcxjY3z3eD3xxqP0D3dko1wHfW5pqkVpy4VoLJAlwF3Ciqj7Zf0nS5JJ8DngnsDXJaeCjwG8A9yX5IPCXwC90iz8A3AycBP4v8IszL1iagjUDHLgeeD/wRJJjXduvVtUD/ZUlTaaqblnhpXePWLaAg/1WJPVvzQCvqq8y+qCPJGmOvBJTkhplgEtSowxwSWqUAS5JjTLAJalRBrgkNcoAl6RGGeCS1CgDXJIaZYBLUqMMcElq1NwCPP51FUk6L+6BS1Kj5h7g7olL0vrMPcBhEOIGuSRNZiECXJI0uXH+I89MLd8Tr5H/K1yStPB74E6vSNJoCx/gSwxySXq9hZtCGcdwkDvFImmzamYPfDXunUvajDZEgC8ZDnIDXdJGt6ECfLnlgW6oS9pINnSAj+JeuqSNYtMF+HLumUtq1aYP8GFLYe4euqQWNHka4Sx5yqKkReUe+ITcS5e0KNwDnwL30iXNgwHeAwNd0iysOYWS5O4kZ5M8OYuCNqLhaRenXGYvyakkTyQ5luRo13ZJkiNJnu7ut8y7TmlS48yBfwa4sec6NhUDfS5+tqquqqo93fPbgQerajfwYPdcasqaAV5VXwFemEEtm5pBPnN7gUPd40PAe+dYi7QuUzsLJcmBJEeTHD137ty0VrupeHZLbwr4UpJHkxzo2i6rqjMA3f2lo97ouNYim1qAV9WdVbWnqvZs27ZtWqvd1JxmmZrrq+oa4CbgYJJ3jPtGx7UWmeeBN8RAX5+qeq67PwvcD1wLPJ9kO0B3f3Z+FUrrY4A3zCBfW5I3JXnL0mPgBuBJ4DCwv1tsP/DF+VQord+a54En+RzwTmBrktPAR6vqrr4L03iWQtzzzVd0GXB/Bh11IfA7VfWHSf4MuC/JB4G/BH5hjjVK67JmgFfVLbMoROfHi4dGq6pngLePaP9r4N2zr0iaHqdQNiDnyaXNwQCXpEYZ4Buce+LSxmWAbwJOqUgbkwG+yRjm0sZhgG9ShrjUPgN8EzPEpbYZ4DLIpUYZ4AIMcalFBrheZYhLbTHAJalRBrh+hHviUhsMcElqlAGukdwLlxafAa4VGeLSYjPAtSpDXFpcBrgkNcoAl6RGGeCS1CgDXGPxz9BKi8cAl6RGGeCS1CgDXBNxGkVaHAa4JDXKAJekRhngktQoA1ySGmWAS1KjLpx3AdKGtJ7TdaqmX4c2NANcap0/LDatsaZQktyY5KkkJ5Pc3ndR0qw4ttWyNQM8yQXAfwJuAq4EbklyZd+FabFthAt6Fm5sL/3BmUlvi16jejPOFMq1wMmqegYgyb3AXuAbfRYmzcDmHduzDNb1bms90zyL/gNjylNX4wT45cCzQ89PA/9o+UJJDgAHuqffT/LUCuvbCnwH8iN9PU7fj/OeMZfp6pj6etdcZtJazmO9a75nWdvW5LU61lpPz98rr+uTZf7BlLax5tiefFzP1caqYf0DbHH7YfWvaeJxPU6Aj9rij/wYqao7gTvXXFlytKr2jLHdXi1KHbA4tSxKHTCzWtYc2y2Na2vYfDWMcxDzNLBz6PkO4Ll+ypFmyrGtpo0T4H8G7E5yRZIfA/YBh/stS5oJx7aatuYUSlW9nORDwB8BFwB3V9Xx89jmmr+Ozsii1AGLU8ui1AEzqGXKY3sR+s4aBjZNDSlP6JekJvm3UCSpUQa4JDVqZgE+y0uWk+xM8lCSE0mOJ7m1a/9Ykm8nOdbdbh56z0e62p5K8p4p13MqyRPdNo92bZckOZLk6e5+S9eeJJ/qank8yTVTrOMnh772Y0leTHLbLPolyd1JziZ5cqht4j5Isr9b/ukk+9dbzzRNe2xPa7ys1FdJ/mG3/pPde9O19/oZrbLd4W18O8m5ZTVMPD5X+kwyOGD9cLet383g4DVJLu6en+q+L07m9dkx6354dRurqqrebwwOEH0T+HHgx4CvA1f2uL3twDXd47cAf87gUumPAf9mxPJXdjVdDFzR1XrBFOs5BWxd1vbvgdu7x7cDv9k9vhn4AwbnKF8HPNzjZ/JXDC4e6L1fgHcA1wBPrrcPgEuAZ7r7Ld3jLbMYw7Mc29MYL6v1FfAI8I+79/wBcNMsPqNVtju8jf8CfGZZDRONz9U+E+A+YN/Qtv519/hXuufbu6/zd3l9dsy6H17dxmq3We2Bv3rJclX9P2DpkuVeVNWZqnqse/wScILBVXcr2QvcW1U/qKpvASe7mvu0FzjUPT4EvHeo/Z4a+Brw1iTbe9j+u4FvVtVfrFHjVPqlqr4CvDBi/ZP0wXuAI1X1QlX9H+AIcON66pmiWY3tqfRV99rfqao/rUFS3LO0rj4/o9W2u2wbvw780wn6ZNT4HPmZdHu67wL+5wpfz6GqOgP8FoPvj+/zWnbMuh+Gt7GiWQX4qEuWVwvUqUmyC7gaeLhr+lD3q87dQ7+i9F1fAV9K8mgGl2YDXNYNFrr7S2dUy5J9wOeGns+jXybtg7mNo1X0UdM0xstq7acnqHcW212+ja0j6phkfK7U/veA71bVyyNqePU93evfA67iteyYRz9cyhpmFeBjXY4/9Y0mbwY+D9xWVS8CdwBvY/DBnAE+MaP6rq+qaxj81buDSd6xyrK991U37/fzwO91TfPql5WstN151bOaPmqaxnjpuw9nud1Jx+d6alj+WoD/xmvZsZJ59T8wuwCf+SXLSS5iEN6fraovAFTV81X1SlX9EPg0r00H9FpfVT3X3Z8F7u+2+/zS1Eh3f3YWtXRuAh6rque7uubSL0zeB4t46fvUa5rSeFmtfccE9c5iu8u38bo/ArWO8blS+3cYTHFcuKz9detK8sbutXuWsmNO/XCWNcwqwGd6yXI313UXcKKqPjnUPjyX/D5g6Uj3YWBfdyT6CmA3gwMN06jlTUnesvQYuKHb7mFg6cj0fuCLQ7V8oDu6fR3wvaVfq6boFoamT+bRL0Prn6QP/gi4IcmW7tfoG7q2eZrq2J7ieBnZV91rLyW5rvs++cDQukaZxXaXb+PIsj6ZdHyO/Ey6OeeHgH+5wtezv6vtS8Cp4eyYUz+s9rkMrHWUc1o3Bkdr/5zB0eFf63lb/4TBryWPA8e6283Afwee6NoPA9uH3vNrXW1P0R0VnlItP87gKPjXgeNLXzuD+bgHgae7+0u69jD4JwPf7GrdM+W++dvAXwN/d6it935h8APjDPA3DPZCPriePgB+icHBqpPAL85q/M5qbE9zvKzUV8AeBiH4TeA/8toV2b1+Rqtsd3gbf9XdhmuYeHyu9Jl0/ftIV9vvARd37W/snp9mkB3/m9dnx6z74dVtrHbzUnpJapRXYkpSowxwSWqUAS5JjTLAJalRBrgkNcoAl6RGGeCS1Kj/Dw77zaWfDlyPAAAAAElFTkSuQmCC\n",
          "text/plain": "<Figure size 432x288 with 2 Axes>"
         },
         "metadata": {},
         "output_type": "display_data"
        }
       ]
      }
     },
     "433fbac98e88434b8970a4164f7a6a75": {
      "model_module": "@jupyter-widgets/base",
      "model_module_version": "1.2.0",
      "model_name": "LayoutModel",
      "state": {}
     },
     "43a7de5381b643669171337be3d11c7d": {
      "model_module": "@jupyter-widgets/base",
      "model_module_version": "1.2.0",
      "model_name": "LayoutModel",
      "state": {}
     },
     "43d2ab39e99942829d144af750a40934": {
      "model_module": "@jupyter-widgets/base",
      "model_module_version": "1.2.0",
      "model_name": "LayoutModel",
      "state": {}
     },
     "44274e4d099d469e8315633d842ef5fa": {
      "model_module": "@jupyter-widgets/base",
      "model_module_version": "1.2.0",
      "model_name": "LayoutModel",
      "state": {}
     },
     "450fbc22083945fa9f9608638b3416ea": {
      "model_module": "@jupyter-widgets/base",
      "model_module_version": "1.2.0",
      "model_name": "LayoutModel",
      "state": {}
     },
     "4528d8951d464e3ba28c71af6f9eb3a4": {
      "model_module": "@jupyter-widgets/base",
      "model_module_version": "1.2.0",
      "model_name": "LayoutModel",
      "state": {}
     },
     "464fe88317a14cba8f363165b0ffd3a5": {
      "model_module": "@jupyter-widgets/controls",
      "model_module_version": "1.5.0",
      "model_name": "TextModel",
      "state": {
       "layout": "IPY_MODEL_e416ad60cbb64c23bb1837e06e0e5dcd",
       "style": "IPY_MODEL_a9ed36d63ddf4ae99b7a684b7e78a184",
       "value": "Number of cells per mouse with barcodes induced:"
      }
     },
     "471fa7912cee4abc8f727cca5a1291ca": {
      "model_module": "@jupyter-widgets/controls",
      "model_module_version": "1.5.0",
      "model_name": "HBoxModel",
      "state": {
       "children": [
        "IPY_MODEL_6865fe7ef4f24ad49c6632a0d070c026",
        "IPY_MODEL_b9cede9a51a04546adf6f23bd68be1f1"
       ],
       "layout": "IPY_MODEL_7c3c998f1c6d46558c83b486bbe6ab13"
      }
     },
     "473cbd7d8dcd4198885ef67429971a22": {
      "model_module": "@jupyter-widgets/controls",
      "model_module_version": "1.5.0",
      "model_name": "TextModel",
      "state": {
       "layout": "IPY_MODEL_d8dd7824d22f4930a6e8aa2f4a640a40",
       "style": "IPY_MODEL_3795abad13504996931d544cbdd7f8b2",
       "value": "Total number of mice used:"
      }
     },
     "474d2fa4ce26402591b169122bc1fa0d": {
      "model_module": "@jupyter-widgets/base",
      "model_module_version": "1.2.0",
      "model_name": "LayoutModel",
      "state": {}
     },
     "478819f45da64305849273e871a7d932": {
      "model_module": "@jupyter-widgets/controls",
      "model_module_version": "1.5.0",
      "model_name": "BoundedFloatTextModel",
      "state": {
       "description": "prob twice:",
       "layout": "IPY_MODEL_5ecb6a270e8542938b24228060f9f6a0",
       "max": 1,
       "step": 0.01,
       "style": "IPY_MODEL_ab08a37c0c8649d9abcb9edd2033269c",
       "value": 0.05
      }
     },
     "47aa6cc21305414d9ef02a409460aa7c": {
      "model_module": "@jupyter-widgets/controls",
      "model_module_version": "1.5.0",
      "model_name": "HTMLModel",
      "state": {
       "layout": "IPY_MODEL_6a37f626430c462c92283407cf51f0a9",
       "style": "IPY_MODEL_a0feca1799a348a39440c9143a4ac909",
       "value": "Mouse number threshold for calling overabundant barcodes:"
      }
     },
     "47ecc7db837b43b4895547caf70adfa6": {
      "model_module": "@jupyter-widgets/output",
      "model_module_version": "1.0.0",
      "model_name": "OutputModel",
      "state": {
       "layout": "IPY_MODEL_7e78d118830142259470d4f26fa12f8f",
       "outputs": [
        {
         "data": {
          "image/png": "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\n",
          "text/plain": "<Figure size 1080x360 with 2 Axes>"
         },
         "metadata": {},
         "output_type": "display_data"
        }
       ]
      }
     },
     "48343ed4aa774e5cad02473a1f9b1a02": {
      "model_module": "@jupyter-widgets/controls",
      "model_module_version": "1.5.0",
      "model_name": "HBoxModel",
      "state": {
       "children": [
        "IPY_MODEL_0aa385bffff849db92931163cc63e465",
        "IPY_MODEL_a44f985c5bfd4d56a78dcc1a1f067c4b"
       ],
       "layout": "IPY_MODEL_8f4c47eab37b44a58f7c627632afde9e"
      }
     },
     "4834aad92b6e4f5ca63385a67761d9e8": {
      "model_module": "@jupyter-widgets/controls",
      "model_module_version": "1.5.0",
      "model_name": "DescriptionStyleModel",
      "state": {
       "description_width": ""
      }
     },
     "48e5564a96be4fa99463105ea65118be": {
      "model_module": "@jupyter-widgets/base",
      "model_module_version": "1.2.0",
      "model_name": "LayoutModel",
      "state": {}
     },
     "4919daf0853d4bd48de9fae1400a6cba": {
      "model_module": "@jupyter-widgets/controls",
      "model_module_version": "1.5.0",
      "model_name": "BoundedIntTextModel",
      "state": {
       "description": "number of mice:",
       "layout": "IPY_MODEL_688169e11d274f46a226a33ed475cf8f",
       "max": 10000,
       "style": "IPY_MODEL_cc272f2213a14dada3c224bb348620e1",
       "value": 5
      }
     },
     "4966841cd51f4bd7b8ecc14a08f60afa": {
      "model_module": "@jupyter-widgets/controls",
      "model_module_version": "1.5.0",
      "model_name": "DescriptionStyleModel",
      "state": {
       "description_width": ""
      }
     },
     "4968f007c9e446849b17b3beed99c4a7": {
      "model_module": "@jupyter-widgets/controls",
      "model_module_version": "1.5.0",
      "model_name": "HTMLModel",
      "state": {
       "layout": "IPY_MODEL_4f2d950fa9614dc895b2603a00f9f8ae",
       "style": "IPY_MODEL_fd1afde45fc041b689540f0628e2d186",
       "value": "Threshold probability of generating two or more of a particular barcode independently in a mouse:"
      }
     },
     "49c83983edcf4a3e9da50677647447e0": {
      "model_module": "@jupyter-widgets/controls",
      "model_module_version": "1.5.0",
      "model_name": "DescriptionStyleModel",
      "state": {
       "description_width": ""
      }
     },
     "4a6a1b1126c44785ba8288ddaefd7b0f": {
      "model_module": "@jupyter-widgets/output",
      "model_module_version": "1.0.0",
      "model_name": "OutputModel",
      "state": {
       "layout": "IPY_MODEL_69de2759d9474c9181caebd19e9bb6df",
       "outputs": [
        {
         "data": {
          "image/png": "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\n",
          "text/plain": "<Figure size 1080x360 with 2 Axes>"
         },
         "metadata": {},
         "output_type": "display_data"
        }
       ]
      }
     },
     "4aae117e38fb4f8990fdc738c63f6677": {
      "model_module": "@jupyter-widgets/controls",
      "model_module_version": "1.5.0",
      "model_name": "BoundedFloatTextModel",
      "state": {
       "description": "prob twice:",
       "layout": "IPY_MODEL_db3caa790dff4a9ea52a309802a130f0",
       "max": 1,
       "step": 0.01,
       "style": "IPY_MODEL_bdaf2f5846b44ee28c8a89254be5ec7e",
       "value": 0.05
      }
     },
     "4ab9162ad4994a9e87fae5c171180bc1": {
      "model_module": "@jupyter-widgets/output",
      "model_module_version": "1.0.0",
      "model_name": "OutputModel",
      "state": {
       "layout": "IPY_MODEL_1011bcbaac204760a3e11e7734f7be17"
      }
     },
     "4ae3098cddd9489891f8df01713d8325": {
      "model_module": "@jupyter-widgets/base",
      "model_module_version": "1.2.0",
      "model_name": "LayoutModel",
      "state": {}
     },
     "4b2522d07b11434e9180235ebe10d547": {
      "model_module": "@jupyter-widgets/base",
      "model_module_version": "1.2.0",
      "model_name": "LayoutModel",
      "state": {}
     },
     "4b2ad6f850fc433993a89b3853c5fe84": {
      "model_module": "@jupyter-widgets/base",
      "model_module_version": "1.2.0",
      "model_name": "LayoutModel",
      "state": {}
     },
     "4b50800671a84bef82aaaab2ea739b6f": {
      "model_module": "@jupyter-widgets/base",
      "model_module_version": "1.2.0",
      "model_name": "LayoutModel",
      "state": {}
     },
     "4b692ea14df8481f880c946fffbc4921": {
      "model_module": "@jupyter-widgets/base",
      "model_module_version": "1.2.0",
      "model_name": "LayoutModel",
      "state": {
       "height": "100px",
       "width": "100%"
      }
     },
     "4b75eb21916a48d5860e6737e8f1e7c7": {
      "model_module": "@jupyter-widgets/controls",
      "model_module_version": "1.5.0",
      "model_name": "BoundedFloatTextModel",
      "state": {
       "continuous_update": true,
       "description": "prob twice:",
       "layout": "IPY_MODEL_19583435271d488dab1f2bd91442f567",
       "max": 1,
       "step": 0.01,
       "style": "IPY_MODEL_85cd5fe7f22b43ecabdb54240e9db6cb",
       "value": 0.01
      }
     },
     "4ce9edbccfcc4a0db6c647651a9bc319": {
      "model_module": "@jupyter-widgets/base",
      "model_module_version": "1.2.0",
      "model_name": "LayoutModel",
      "state": {}
     },
     "4d0977ec55fd49ef8efe738ee09a5359": {
      "model_module": "@jupyter-widgets/controls",
      "model_module_version": "1.5.0",
      "model_name": "DescriptionStyleModel",
      "state": {
       "description_width": ""
      }
     },
     "4d9065bedb104a3491c8133f97d1c25a": {
      "model_module": "@jupyter-widgets/controls",
      "model_module_version": "1.5.0",
      "model_name": "BoundedFloatTextModel",
      "state": {
       "continuous_update": true,
       "layout": "IPY_MODEL_57d7a1eb8c174aacaa82b5d08d7e4204",
       "max": 1,
       "step": 0.01,
       "style": "IPY_MODEL_339221de731143649b4156c2b763e08f",
       "value": 0.05
      }
     },
     "4db8d83303ff4e6c9029f035a40ff02d": {
      "model_module": "@jupyter-widgets/base",
      "model_module_version": "1.2.0",
      "model_name": "LayoutModel",
      "state": {}
     },
     "4dc929bd4a70447ba63e6c1ccb4bdf4b": {
      "model_module": "@jupyter-widgets/output",
      "model_module_version": "1.0.0",
      "model_name": "OutputModel",
      "state": {
       "layout": "IPY_MODEL_6da25ca56dde461fa040faaab51f4487",
       "outputs": [
        {
         "name": "stdout",
         "output_type": "stream",
         "text": "2\n16\n22\n36\n41\n45\n47\n49\n50\n51\n50\n49\n"
        }
       ]
      }
     },
     "4ea9323a50b64c1dbc9444f984fbf1a9": {
      "model_module": "@jupyter-widgets/base",
      "model_module_version": "1.2.0",
      "model_name": "LayoutModel",
      "state": {}
     },
     "4eb87214d4164cf9a0f1d916688cce45": {
      "model_module": "@jupyter-widgets/controls",
      "model_module_version": "1.5.0",
      "model_name": "HTMLModel",
      "state": {
       "layout": "IPY_MODEL_c4f8fd009ce04c8a9797dead6576ecf7",
       "style": "IPY_MODEL_5f229d70978b445dad9ff550ab284991",
       "value": "Threshold probability to generate two or more of the same barcode independently in a mouse:"
      }
     },
     "4ef53900769648b187e7ebe25f6e7c0a": {
      "model_module": "@jupyter-widgets/controls",
      "model_module_version": "1.5.0",
      "model_name": "DescriptionStyleModel",
      "state": {
       "description_width": ""
      }
     },
     "4f2d950fa9614dc895b2603a00f9f8ae": {
      "model_module": "@jupyter-widgets/base",
      "model_module_version": "1.2.0",
      "model_name": "LayoutModel",
      "state": {}
     },
     "4f4c8d6e2c2745b9b8a311a3d8ac55e1": {
      "model_module": "@jupyter-widgets/base",
      "model_module_version": "1.2.0",
      "model_name": "LayoutModel",
      "state": {}
     },
     "4f80b6e4ba174a92bcdb30b9629b6313": {
      "model_module": "@jupyter-widgets/output",
      "model_module_version": "1.0.0",
      "model_name": "OutputModel",
      "state": {
       "layout": "IPY_MODEL_a60ee823a62c41748156298b17e0000d",
       "outputs": [
        {
         "data": {
          "image/png": "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\n",
          "text/plain": "<Figure size 1080x360 with 2 Axes>"
         },
         "metadata": {},
         "output_type": "display_data"
        }
       ]
      }
     },
     "4f893a97fcf44daf85533fb7aaed77d7": {
      "model_module": "@jupyter-widgets/base",
      "model_module_version": "1.2.0",
      "model_name": "LayoutModel",
      "state": {}
     },
     "50152a4f465f4932952b5ba6719eb5bb": {
      "model_module": "@jupyter-widgets/base",
      "model_module_version": "1.2.0",
      "model_name": "LayoutModel",
      "state": {}
     },
     "505a39f617414eda9845cae00bd2dd05": {
      "model_module": "@jupyter-widgets/controls",
      "model_module_version": "1.5.0",
      "model_name": "HBoxModel",
      "state": {
       "children": [
        "IPY_MODEL_d57d7e20f1a34d58a63e5270229d26e1",
        "IPY_MODEL_df0d87de72dd44198b9e95df360f66c8"
       ],
       "layout": "IPY_MODEL_42ca8b698e894ae5bdba3eaf03483e05"
      }
     },
     "5060ef65630443a68356cde74cf67d5d": {
      "model_module": "@jupyter-widgets/base",
      "model_module_version": "1.2.0",
      "model_name": "LayoutModel",
      "state": {}
     },
     "50fdacbbbf12447ebcf76ccb5e3a2223": {
      "model_module": "@jupyter-widgets/base",
      "model_module_version": "1.2.0",
      "model_name": "LayoutModel",
      "state": {}
     },
     "51e31666e32a413595c7d40d7089a26c": {
      "model_module": "@jupyter-widgets/controls",
      "model_module_version": "1.5.0",
      "model_name": "DescriptionStyleModel",
      "state": {
       "description_width": ""
      }
     },
     "52499058ef9b4e54aa03874e8c26bc3b": {
      "model_module": "@jupyter-widgets/controls",
      "model_module_version": "1.5.0",
      "model_name": "DescriptionStyleModel",
      "state": {
       "description_width": ""
      }
     },
     "528e835d7a5644939e307e31a522d279": {
      "model_module": "@jupyter-widgets/controls",
      "model_module_version": "1.5.0",
      "model_name": "DescriptionStyleModel",
      "state": {
       "description_width": ""
      }
     },
     "5339ad97268e405f97475c18c63c7ad3": {
      "model_module": "@jupyter-widgets/controls",
      "model_module_version": "1.5.0",
      "model_name": "BoundedFloatTextModel",
      "state": {
       "description": "prob twice:",
       "layout": "IPY_MODEL_ba2547b3dfc74ff89011c95d9ed48f74",
       "max": 1,
       "step": 0.01,
       "style": "IPY_MODEL_0b26fcac4ddd434b848d753bc5443a79",
       "value": 0.05
      }
     },
     "53a013b847de4a15963c6b5cdb1aa02a": {
      "model_module": "@jupyter-widgets/base",
      "model_module_version": "1.2.0",
      "model_name": "LayoutModel",
      "state": {}
     },
     "540a5ad3e9ad4b32a4b46363dff40cb7": {
      "model_module": "@jupyter-widgets/base",
      "model_module_version": "1.2.0",
      "model_name": "LayoutModel",
      "state": {}
     },
     "5470ef69806c472ea2e0c80c05d342f1": {
      "model_module": "@jupyter-widgets/base",
      "model_module_version": "1.2.0",
      "model_name": "LayoutModel",
      "state": {}
     },
     "54eae62140f74775a155b6594d0f2b8e": {
      "model_module": "@jupyter-widgets/controls",
      "model_module_version": "1.5.0",
      "model_name": "HBoxModel",
      "state": {
       "children": [
        "IPY_MODEL_b0fcf0a51fe14cefb68affd18c3058a7",
        "IPY_MODEL_b23f322b32f54aefa000ccf7513f2c00"
       ],
       "layout": "IPY_MODEL_73177ac88a034962b2b6dc33a133211e"
      }
     },
     "55057bafc3064033b3c3555e7d8670b0": {
      "model_module": "@jupyter-widgets/base",
      "model_module_version": "1.2.0",
      "model_name": "LayoutModel",
      "state": {}
     },
     "5526a7ef1ace4412b5119f2cde0c2dff": {
      "model_module": "@jupyter-widgets/base",
      "model_module_version": "1.2.0",
      "model_name": "LayoutModel",
      "state": {}
     },
     "5550a7344993415cae113a5bb792c6f9": {
      "model_module": "@jupyter-widgets/controls",
      "model_module_version": "1.5.0",
      "model_name": "DescriptionStyleModel",
      "state": {
       "description_width": ""
      }
     },
     "55981284a4c54c6f97aea0f24d62d38b": {
      "model_module": "@jupyter-widgets/controls",
      "model_module_version": "1.5.0",
      "model_name": "DescriptionStyleModel",
      "state": {
       "description_width": ""
      }
     },
     "55caa271261e43809e41eb327def795f": {
      "model_module": "@jupyter-widgets/controls",
      "model_module_version": "1.5.0",
      "model_name": "DescriptionStyleModel",
      "state": {
       "description_width": ""
      }
     },
     "5652322cc22945d4ad333755e9a1e073": {
      "model_module": "@jupyter-widgets/controls",
      "model_module_version": "1.5.0",
      "model_name": "BoundedIntTextModel",
      "state": {
       "continuous_update": true,
       "layout": "IPY_MODEL_7204156cb1ad41f0b0c1118682d633b7",
       "max": 1e+40,
       "style": "IPY_MODEL_15a3e4f717974bb8b344272751633b97",
       "value": 10000
      }
     },
     "565c1de1435541628069b789d1b1d8d9": {
      "model_module": "@jupyter-widgets/base",
      "model_module_version": "1.2.0",
      "model_name": "LayoutModel",
      "state": {}
     },
     "5694f3a7ca614edeb72acdb65fda626e": {
      "model_module": "@jupyter-widgets/controls",
      "model_module_version": "1.5.0",
      "model_name": "HBoxModel",
      "state": {
       "children": [
        "IPY_MODEL_575caad02bc64409b5ce3703d560ac84",
        "IPY_MODEL_5e1aebdc29644c82bca223305fdebd59"
       ],
       "layout": "IPY_MODEL_2c5ad0157330488eaba00487f33e34bd"
      }
     },
     "56fee554db2e4fc0a846e910b8f6f534": {
      "model_module": "@jupyter-widgets/controls",
      "model_module_version": "1.5.0",
      "model_name": "BoundedFloatTextModel",
      "state": {
       "description": "prob twice:",
       "layout": "IPY_MODEL_c65d85773a77440a86754e04cc02878b",
       "max": 1,
       "step": 0.01,
       "style": "IPY_MODEL_6cf8747725ac48d481c49110c5952398",
       "value": 0.05
      }
     },
     "575caad02bc64409b5ce3703d560ac84": {
      "model_module": "@jupyter-widgets/controls",
      "model_module_version": "1.5.0",
      "model_name": "HTMLModel",
      "state": {
       "layout": "IPY_MODEL_037ff7aae7254b84b9e3cd413eaf8443",
       "style": "IPY_MODEL_84fb44ac4b1049188d9acd38459aba2d",
       "value": "Mouse number threshold for calling overabundant barcodes:"
      }
     },
     "577b930d02f742e49d5a9f6298bf9e0e": {
      "model_module": "@jupyter-widgets/controls",
      "model_module_version": "1.5.0",
      "model_name": "HTMLModel",
      "state": {
       "layout": "IPY_MODEL_75039e5a7b1b493fbf35fa280e9e9f97",
       "style": "IPY_MODEL_ecff30632c60428c8dd408c5c47fd2cd",
       "value": "Total number of mice used:"
      }
     },
     "578f69626205451289f537a3c5eedafa": {
      "model_module": "@jupyter-widgets/controls",
      "model_module_version": "1.5.0",
      "model_name": "DescriptionStyleModel",
      "state": {
       "description_width": ""
      }
     },
     "57cd2ea90d7f44a9825c5888f64e390d": {
      "model_module": "@jupyter-widgets/base",
      "model_module_version": "1.2.0",
      "model_name": "LayoutModel",
      "state": {}
     },
     "57d0d77886044250b975fc081b57d918": {
      "model_module": "@jupyter-widgets/controls",
      "model_module_version": "1.5.0",
      "model_name": "HBoxModel",
      "state": {
       "children": [
        "IPY_MODEL_d0c6963c046f435d92945970467c16dc",
        "IPY_MODEL_fed9baca380443d0911a84216c6235ad"
       ],
       "layout": "IPY_MODEL_540a5ad3e9ad4b32a4b46363dff40cb7"
      }
     },
     "57d7a1eb8c174aacaa82b5d08d7e4204": {
      "model_module": "@jupyter-widgets/base",
      "model_module_version": "1.2.0",
      "model_name": "LayoutModel",
      "state": {}
     },
     "57f8ad40abcc4e3f8867c92a62b6ccf7": {
      "model_module": "@jupyter-widgets/controls",
      "model_module_version": "1.5.0",
      "model_name": "DescriptionStyleModel",
      "state": {
       "description_width": ""
      }
     },
     "5871e9dd271647b7bd0161d26e7a7319": {
      "model_module": "@jupyter-widgets/controls",
      "model_module_version": "1.5.0",
      "model_name": "DescriptionStyleModel",
      "state": {
       "description_width": ""
      }
     },
     "58c42dba7f504c77a043effcb2fa6faa": {
      "model_module": "@jupyter-widgets/base",
      "model_module_version": "1.2.0",
      "model_name": "LayoutModel",
      "state": {}
     },
     "58c91b50db8d4698ac95bd81d251061f": {
      "model_module": "@jupyter-widgets/controls",
      "model_module_version": "1.5.0",
      "model_name": "DescriptionStyleModel",
      "state": {
       "description_width": ""
      }
     },
     "590e409d02ad4962bf73e4f42e97a4a3": {
      "model_module": "@jupyter-widgets/base",
      "model_module_version": "1.2.0",
      "model_name": "LayoutModel",
      "state": {}
     },
     "598d6d8bf5bc4ec0b5f7224c8cb1bfce": {
      "model_module": "@jupyter-widgets/controls",
      "model_module_version": "1.5.0",
      "model_name": "DescriptionStyleModel",
      "state": {
       "description_width": ""
      }
     },
     "5a63bdb5217e40ae939c63752cab07ef": {
      "model_module": "@jupyter-widgets/controls",
      "model_module_version": "1.5.0",
      "model_name": "DescriptionStyleModel",
      "state": {
       "description_width": ""
      }
     },
     "5a94017e03304de9b8f9ddd3664a3644": {
      "model_module": "@jupyter-widgets/base",
      "model_module_version": "1.2.0",
      "model_name": "LayoutModel",
      "state": {}
     },
     "5abfc7c6f7a24b74a88085a5886b2473": {
      "model_module": "@jupyter-widgets/base",
      "model_module_version": "1.2.0",
      "model_name": "LayoutModel",
      "state": {}
     },
     "5aee97f2bcd149b3b9fba9accbe0e43b": {
      "model_module": "@jupyter-widgets/controls",
      "model_module_version": "1.5.0",
      "model_name": "BoundedFloatTextModel",
      "state": {
       "description": "Probability same mouse:",
       "layout": "IPY_MODEL_0f02c2853b2b4aeb88cdad2a0e2d3c39",
       "max": 1,
       "step": 0.01,
       "style": "IPY_MODEL_2426531f7cde4d1fb3ac708c4625f1c9",
       "value": 0.05
      }
     },
     "5b049d8f3bbd44dfa243264a74f06f78": {
      "model_module": "@jupyter-widgets/output",
      "model_module_version": "1.0.0",
      "model_name": "OutputModel",
      "state": {
       "layout": "IPY_MODEL_9e3e314c57b64a6197d1e2f6446ab391",
       "outputs": [
        {
         "data": {
          "image/png": "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\n",
          "text/plain": "<Figure size 1080x360 with 2 Axes>"
         },
         "metadata": {},
         "output_type": "display_data"
        }
       ]
      }
     },
     "5c90f59e883449dea79017cf3d1f9c88": {
      "model_module": "@jupyter-widgets/controls",
      "model_module_version": "1.5.0",
      "model_name": "DescriptionStyleModel",
      "state": {
       "description_width": ""
      }
     },
     "5cdd981698624943bced26a752cc89ad": {
      "model_module": "@jupyter-widgets/controls",
      "model_module_version": "1.5.0",
      "model_name": "BoundedFloatTextModel",
      "state": {
       "description": "Threshold probability that a barcode is generated twice independently in the same mouse:",
       "layout": "IPY_MODEL_d33bc584181b4a708b1fefe4c33f3f5a",
       "max": 1,
       "step": 0.01,
       "style": "IPY_MODEL_0abbba114b514c9992979b43c1ca3dbf",
       "value": 0.05
      }
     },
     "5ce84dfd08d8475094dba83c4bd3d4b3": {
      "model_module": "@jupyter-widgets/base",
      "model_module_version": "1.2.0",
      "model_name": "LayoutModel",
      "state": {}
     },
     "5d8c2090c8834646927cc9641013b80a": {
      "model_module": "@jupyter-widgets/controls",
      "model_module_version": "1.5.0",
      "model_name": "BoundedFloatTextModel",
      "state": {
       "description": "prob twice:",
       "layout": "IPY_MODEL_aa3b87287b864d95b90b7f6406bab193",
       "max": 1,
       "step": 0.01,
       "style": "IPY_MODEL_e7007221dde443678197546a3e6f18e6",
       "value": 0.05
      }
     },
     "5d8ec7817df249d6aaa65017ce12725c": {
      "model_module": "@jupyter-widgets/controls",
      "model_module_version": "1.5.0",
      "model_name": "HBoxModel",
      "state": {
       "children": [
        "IPY_MODEL_ea5c05a744e94e32b18404b37bdcf4b8",
        "IPY_MODEL_220eb79ed9db4e4fbf7afdf17a855aba"
       ],
       "layout": "IPY_MODEL_b6e1a8913587472fae8f326f3db1b4ed"
      }
     },
     "5e1aebdc29644c82bca223305fdebd59": {
      "model_module": "@jupyter-widgets/controls",
      "model_module_version": "1.5.0",
      "model_name": "BoundedIntTextModel",
      "state": {
       "continuous_update": true,
       "layout": "IPY_MODEL_f38f3415d0004bf1b5b0ebca990d247c",
       "max": 1e+40,
       "style": "IPY_MODEL_6dd23eb4778a49b088330af14db64d07",
       "value": 3
      }
     },
     "5e1eb2d7e1bc4d5ba965ef0b0f7d2551": {
      "model_module": "@jupyter-widgets/controls",
      "model_module_version": "1.5.0",
      "model_name": "BoundedIntTextModel",
      "state": {
       "continuous_update": true,
       "description": "mouse threshold:",
       "layout": "IPY_MODEL_63edd141015142c19c2b162397fa32f4",
       "max": 1e+40,
       "style": "IPY_MODEL_39b0d34c732043ffa8dcfc9c1f4cd0c2",
       "value": 5
      }
     },
     "5e295d41b8aa4cf3809881d7e121f483": {
      "model_module": "@jupyter-widgets/controls",
      "model_module_version": "1.5.0",
      "model_name": "DescriptionStyleModel",
      "state": {
       "description_width": ""
      }
     },
     "5ecb6a270e8542938b24228060f9f6a0": {
      "model_module": "@jupyter-widgets/base",
      "model_module_version": "1.2.0",
      "model_name": "LayoutModel",
      "state": {}
     },
     "5f0332d490bc4cbcab40ff175cfa06dd": {
      "model_module": "@jupyter-widgets/controls",
      "model_module_version": "1.5.0",
      "model_name": "DescriptionStyleModel",
      "state": {
       "description_width": ""
      }
     },
     "5f2022cc73f24341ad31e7137f1f41d0": {
      "model_module": "@jupyter-widgets/base",
      "model_module_version": "1.2.0",
      "model_name": "LayoutModel",
      "state": {}
     },
     "5f209b759e1247f38dfb85e5fca7ae14": {
      "model_module": "@jupyter-widgets/controls",
      "model_module_version": "1.5.0",
      "model_name": "DescriptionStyleModel",
      "state": {
       "description_width": ""
      }
     },
     "5f229d70978b445dad9ff550ab284991": {
      "model_module": "@jupyter-widgets/controls",
      "model_module_version": "1.5.0",
      "model_name": "DescriptionStyleModel",
      "state": {
       "description_width": ""
      }
     },
     "5f44fccb1b294c6fa30af329164594d4": {
      "model_module": "@jupyter-widgets/base",
      "model_module_version": "1.2.0",
      "model_name": "LayoutModel",
      "state": {}
     },
     "5f48d5d51abc463c9e045245e12f75ad": {
      "model_module": "@jupyter-widgets/controls",
      "model_module_version": "1.5.0",
      "model_name": "BoundedFloatTextModel",
      "state": {
       "description": "prob twice:",
       "layout": "IPY_MODEL_8b79a076d97542ad88800f1b0aaa96bc",
       "max": 1,
       "step": 0.01,
       "style": "IPY_MODEL_7c7c218d2d48443997405261d82bf336",
       "value": 0.24
      }
     },
     "5fa7993cefcd4de9a164b5f223aeff4b": {
      "model_module": "@jupyter-widgets/controls",
      "model_module_version": "1.5.0",
      "model_name": "DescriptionStyleModel",
      "state": {
       "description_width": ""
      }
     },
     "5fd4287436ad4fe88ce9a86567b5543c": {
      "model_module": "@jupyter-widgets/controls",
      "model_module_version": "1.5.0",
      "model_name": "BoundedIntTextModel",
      "state": {
       "continuous_update": true,
       "layout": "IPY_MODEL_9a9c0e9cfe7f466db6fb68421cc12dc8",
       "max": 1e+40,
       "style": "IPY_MODEL_621ba98ac7f5462e8adaea16dcc8792b",
       "value": 2
      }
     },
     "5fd49f42428f40899e437f3d7ffbb485": {
      "model_module": "@jupyter-widgets/base",
      "model_module_version": "1.2.0",
      "model_name": "LayoutModel",
      "state": {}
     },
     "5ff2e5cb176c4bd9943e22986db132b1": {
      "model_module": "@jupyter-widgets/controls",
      "model_module_version": "1.5.0",
      "model_name": "DescriptionStyleModel",
      "state": {
       "description_width": ""
      }
     },
     "603a05f0fc714205aa292ce96db9605e": {
      "model_module": "@jupyter-widgets/base",
      "model_module_version": "1.2.0",
      "model_name": "LayoutModel",
      "state": {}
     },
     "60adb88697594e88aa2d04cc34f67cde": {
      "model_module": "@jupyter-widgets/base",
      "model_module_version": "1.2.0",
      "model_name": "LayoutModel",
      "state": {}
     },
     "60e7283743a94fcb9b5a13af395595d7": {
      "model_module": "@jupyter-widgets/base",
      "model_module_version": "1.2.0",
      "model_name": "LayoutModel",
      "state": {
       "height": "100px",
       "width": "100%"
      }
     },
     "614ab8cc99c14c82938bf18077082621": {
      "model_module": "@jupyter-widgets/controls",
      "model_module_version": "1.5.0",
      "model_name": "HBoxModel",
      "state": {
       "children": [
        "IPY_MODEL_6d9aae96ff554df6a8c4cb50c1028e43",
        "IPY_MODEL_6d825d18c63a42c58a78d2a24bc95ba5"
       ],
       "layout": "IPY_MODEL_fd21d185fb954e1c8f361d01fae37bc8"
      }
     },
     "619a0725dabb48308f72f7a84ed8b0c8": {
      "model_module": "@jupyter-widgets/controls",
      "model_module_version": "1.5.0",
      "model_name": "TextModel",
      "state": {
       "layout": "IPY_MODEL_a072d7c25f3f48e5a412c9456daf1915",
       "style": "IPY_MODEL_0ef5110ad4884a6894122b3ef03af6ca",
       "value": "Threshold probability to generate two or more of the same barcode independently in a mouse:"
      }
     },
     "61b44e1f69914f8f9ed5076456829d73": {
      "model_module": "@jupyter-widgets/controls",
      "model_module_version": "1.5.0",
      "model_name": "BoundedIntTextModel",
      "state": {
       "continuous_update": true,
       "description": "number of cells:",
       "layout": "IPY_MODEL_f730c25123e64013986d4355ee2d680f",
       "max": 1e+40,
       "style": "IPY_MODEL_2a756107b2024fffa18a182c5413ba56",
       "value": 1000
      }
     },
     "61f5bd1ccefc4c3a8ed928e2caf9c280": {
      "model_module": "@jupyter-widgets/base",
      "model_module_version": "1.2.0",
      "model_name": "LayoutModel",
      "state": {}
     },
     "61fbd3f247c0442fa0a618eca9ba2fe4": {
      "model_module": "@jupyter-widgets/output",
      "model_module_version": "1.0.0",
      "model_name": "OutputModel",
      "state": {
       "layout": "IPY_MODEL_5a94017e03304de9b8f9ddd3664a3644",
       "outputs": [
        {
         "data": {
          "image/png": "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\n",
          "text/plain": "<Figure size 1080x360 with 2 Axes>"
         },
         "metadata": {},
         "output_type": "display_data"
        }
       ]
      }
     },
     "6216999887b54f2084e1394916dca43f": {
      "model_module": "@jupyter-widgets/controls",
      "model_module_version": "1.5.0",
      "model_name": "IntSliderModel",
      "state": {
       "layout": "IPY_MODEL_ea53476dce404537ad2e98d30dcc5916",
       "style": "IPY_MODEL_a2328a005e594f5a8497f77788b67538",
       "value": 49
      }
     },
     "621ba98ac7f5462e8adaea16dcc8792b": {
      "model_module": "@jupyter-widgets/controls",
      "model_module_version": "1.5.0",
      "model_name": "DescriptionStyleModel",
      "state": {
       "description_width": ""
      }
     },
     "62a1686f4a23441d8e9d641e1333bfdd": {
      "model_module": "@jupyter-widgets/controls",
      "model_module_version": "1.5.0",
      "model_name": "DescriptionStyleModel",
      "state": {
       "description_width": ""
      }
     },
     "630959d40262415db76bb1db5b5cf43a": {
      "model_module": "@jupyter-widgets/controls",
      "model_module_version": "1.5.0",
      "model_name": "BoundedFloatTextModel",
      "state": {
       "description": "prob twice:",
       "layout": "IPY_MODEL_c84b4d226bc64b17bd6e5e94bdf2e1ef",
       "max": 1,
       "step": 0.01,
       "style": "IPY_MODEL_5ff2e5cb176c4bd9943e22986db132b1",
       "value": 0.01
      }
     },
     "63239df647034a5b91dfdc9b6f51e218": {
      "model_module": "@jupyter-widgets/controls",
      "model_module_version": "1.5.0",
      "model_name": "DescriptionStyleModel",
      "state": {
       "description_width": ""
      }
     },
     "6336b056c3a44ccc8ba138d6104a7a62": {
      "model_module": "@jupyter-widgets/controls",
      "model_module_version": "1.5.0",
      "model_name": "DescriptionStyleModel",
      "state": {
       "description_width": ""
      }
     },
     "6374a8f310fb42a19b27e5fcb9c78d18": {
      "model_module": "@jupyter-widgets/controls",
      "model_module_version": "1.5.0",
      "model_name": "HBoxModel",
      "state": {
       "children": [
        "IPY_MODEL_c739176090b14bd8a0668f3a595ffa5a",
        "IPY_MODEL_d605df3c53e94044ab17e7c950f72b27"
       ],
       "layout": "IPY_MODEL_ae81d403fa9b4529b2441f4dcdc1a752"
      }
     },
     "63b98a705f07465aabd8113e2e361511": {
      "model_module": "@jupyter-widgets/base",
      "model_module_version": "1.2.0",
      "model_name": "LayoutModel",
      "state": {}
     },
     "63caddb7748943e6a70cb23295d17edd": {
      "model_module": "@jupyter-widgets/controls",
      "model_module_version": "1.5.0",
      "model_name": "BoundedIntTextModel",
      "state": {
       "description": "mouse threshold:",
       "layout": "IPY_MODEL_782db4413553458fb25f2df7d9c48eea",
       "max": 10000,
       "style": "IPY_MODEL_82b4a838cb764b758d69a7de8b9024b3",
       "value": 2
      }
     },
     "63edd141015142c19c2b162397fa32f4": {
      "model_module": "@jupyter-widgets/base",
      "model_module_version": "1.2.0",
      "model_name": "LayoutModel",
      "state": {}
     },
     "6405a6900a8a42e194ebdcc89927c674": {
      "model_module": "@jupyter-widgets/controls",
      "model_module_version": "1.5.0",
      "model_name": "BoundedFloatTextModel",
      "state": {
       "description": "prob twice:",
       "layout": "IPY_MODEL_15c300a4a90f4c6aa9b7f9a2ae1f569c",
       "max": 1,
       "step": 0.01,
       "style": "IPY_MODEL_728e79decc7a4384a24603fbe1ef8d39",
       "value": 0.05
      }
     },
     "644447da363146e0b2ccd4ec739588b5": {
      "model_module": "@jupyter-widgets/controls",
      "model_module_version": "1.5.0",
      "model_name": "BoundedIntTextModel",
      "state": {
       "description": "number of mice:",
       "layout": "IPY_MODEL_b1defc990d1843f186e3da7b85286232",
       "max": 10000,
       "style": "IPY_MODEL_ababb1eae15841ec949a4c685bb76908",
       "value": 5
      }
     },
     "6445aabea79948a5b73ad1fd651148e4": {
      "model_module": "@jupyter-widgets/base",
      "model_module_version": "1.2.0",
      "model_name": "LayoutModel",
      "state": {}
     },
     "644676374a0e47369444b3a05a69245e": {
      "model_module": "@jupyter-widgets/output",
      "model_module_version": "1.0.0",
      "model_name": "OutputModel",
      "state": {
       "layout": "IPY_MODEL_17cfae93eaf546b4bef950a0f23d3c3a",
       "outputs": [
        {
         "data": {
          "image/png": "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\n",
          "text/plain": "<Figure size 1080x360 with 2 Axes>"
         },
         "metadata": {},
         "output_type": "display_data"
        }
       ]
      }
     },
     "6592b1a142a8459ca5a1204c684ad928": {
      "model_module": "@jupyter-widgets/controls",
      "model_module_version": "1.5.0",
      "model_name": "HBoxModel",
      "state": {
       "children": [
        "IPY_MODEL_759d6613fd2442dc976170635fd7776f",
        "IPY_MODEL_c71127d75ddb4c41a648d9c7848f5df4"
       ],
       "layout": "IPY_MODEL_771c84081d964db5b2b939f80b57050a"
      }
     },
     "65bfff10b8d74162800924c74e9ab65e": {
      "model_module": "@jupyter-widgets/base",
      "model_module_version": "1.2.0",
      "model_name": "LayoutModel",
      "state": {}
     },
     "65d7a22b406d4a3f9c8d9379387e7dac": {
      "model_module": "@jupyter-widgets/base",
      "model_module_version": "1.2.0",
      "model_name": "LayoutModel",
      "state": {}
     },
     "661c38c6f20241ae932ca608d00c9be6": {
      "model_module": "@jupyter-widgets/controls",
      "model_module_version": "1.5.0",
      "model_name": "BoundedIntTextModel",
      "state": {
       "description": "mouse threshold:",
       "layout": "IPY_MODEL_58c42dba7f504c77a043effcb2fa6faa",
       "max": 10000,
       "style": "IPY_MODEL_62a1686f4a23441d8e9d641e1333bfdd",
       "value": 2
      }
     },
     "66b9a2a1eaae499abfe7f46a705e4102": {
      "model_module": "@jupyter-widgets/base",
      "model_module_version": "1.2.0",
      "model_name": "LayoutModel",
      "state": {}
     },
     "66c6ce5764bb4ae5ae660c8237d685d6": {
      "model_module": "@jupyter-widgets/controls",
      "model_module_version": "1.5.0",
      "model_name": "HBoxModel",
      "state": {
       "children": [
        "IPY_MODEL_989f2c721b5748ecae088c9a5e7fce00",
        "IPY_MODEL_ef8af96a16954f6e80ea7727976ce9b5"
       ],
       "layout": "IPY_MODEL_28f7508fbc7e4fcba33d3190b891f25a"
      }
     },
     "67405b84fff44e7fb1adbbb15d62c11c": {
      "model_module": "@jupyter-widgets/base",
      "model_module_version": "1.2.0",
      "model_name": "LayoutModel",
      "state": {}
     },
     "6785ce650b8e4d5e96edd0585efc7935": {
      "model_module": "@jupyter-widgets/controls",
      "model_module_version": "1.5.0",
      "model_name": "BoundedIntTextModel",
      "state": {
       "description": "mouse threshold:",
       "layout": "IPY_MODEL_6ddb791c862743ceb8e75090648373bf",
       "max": 1e+40,
       "style": "IPY_MODEL_8790b135b181418ba82455ef341dae17",
       "value": 1
      }
     },
     "67b3865a2d4b45de9c82fa05cea794c6": {
      "model_module": "@jupyter-widgets/controls",
      "model_module_version": "1.5.0",
      "model_name": "DescriptionStyleModel",
      "state": {
       "description_width": ""
      }
     },
     "67e69532b2044acaade35ded1246270d": {
      "model_module": "@jupyter-widgets/controls",
      "model_module_version": "1.5.0",
      "model_name": "BoundedIntTextModel",
      "state": {
       "continuous_update": true,
       "description": "number of cells:",
       "layout": "IPY_MODEL_0269ad2405c8453e809b5161f4cd9ded",
       "max": 1e+40,
       "style": "IPY_MODEL_da7e6e0a24ab48ca98b20ac3fe1d2144",
       "value": 10000
      }
     },
     "6865fe7ef4f24ad49c6632a0d070c026": {
      "model_module": "@jupyter-widgets/controls",
      "model_module_version": "1.5.0",
      "model_name": "HTMLModel",
      "state": {
       "layout": "IPY_MODEL_4f4c8d6e2c2745b9b8a311a3d8ac55e1",
       "style": "IPY_MODEL_dd2079bfff17457080cd72a153018dc4",
       "value": "Threshold probability of generating two or more of a particular barcode independently in a mouse:"
      }
     },
     "688169e11d274f46a226a33ed475cf8f": {
      "model_module": "@jupyter-widgets/base",
      "model_module_version": "1.2.0",
      "model_name": "LayoutModel",
      "state": {}
     },
     "68819bb86fd6446c9302d8c9fbcd662a": {
      "model_module": "@jupyter-widgets/controls",
      "model_module_version": "1.5.0",
      "model_name": "HTMLModel",
      "state": {
       "layout": "IPY_MODEL_9ab4fc35e87449e7b7644dccaee8c03b",
       "style": "IPY_MODEL_d20f5c0015ab44a6bb2056363e4d5dea",
       "value": "False negative rate: 2.286e-01\n False positive rate: 2.076e-01"
      }
     },
     "68d18a65e0914c469f63da39e5f533c9": {
      "model_module": "@jupyter-widgets/controls",
      "model_module_version": "1.5.0",
      "model_name": "DescriptionStyleModel",
      "state": {
       "description_width": ""
      }
     },
     "690765f258cc4075813c24cc65658551": {
      "model_module": "@jupyter-widgets/controls",
      "model_module_version": "1.5.0",
      "model_name": "BoundedFloatTextModel",
      "state": {
       "description": "prob twice:",
       "layout": "IPY_MODEL_c60d2a5464cc48d5b35a325bd764c594",
       "max": 1,
       "step": 0.01,
       "style": "IPY_MODEL_db1c75c8a8834dd5a6568be303651e22",
       "value": 0.05
      }
     },
     "69de2759d9474c9181caebd19e9bb6df": {
      "model_module": "@jupyter-widgets/base",
      "model_module_version": "1.2.0",
      "model_name": "LayoutModel",
      "state": {}
     },
     "6a06398e57f849bdafab4b29eba8972c": {
      "model_module": "@jupyter-widgets/base",
      "model_module_version": "1.2.0",
      "model_name": "LayoutModel",
      "state": {}
     },
     "6a37f626430c462c92283407cf51f0a9": {
      "model_module": "@jupyter-widgets/base",
      "model_module_version": "1.2.0",
      "model_name": "LayoutModel",
      "state": {}
     },
     "6a4c13efcc2648dca811d86cf9850e18": {
      "model_module": "@jupyter-widgets/controls",
      "model_module_version": "1.5.0",
      "model_name": "DescriptionStyleModel",
      "state": {
       "description_width": ""
      }
     },
     "6b08935c08f34d69b8bc2fa6c176cf9b": {
      "model_module": "@jupyter-widgets/controls",
      "model_module_version": "1.5.0",
      "model_name": "DescriptionStyleModel",
      "state": {
       "description_width": ""
      }
     },
     "6b0d568a32724f07a862d1a506c33105": {
      "model_module": "@jupyter-widgets/controls",
      "model_module_version": "1.5.0",
      "model_name": "HTMLModel",
      "state": {
       "layout": "IPY_MODEL_8970ab102e384f35a683e8bc63148b60",
       "style": "IPY_MODEL_84d168788ffc4db3aabdbc9e2d441eab",
       "value": "False negative rate: 9.672293962947018e-08\n False positive rate: 0.017639935914118863"
      }
     },
     "6b30970f2f654f80b466e497daa7a638": {
      "model_module": "@jupyter-widgets/base",
      "model_module_version": "1.2.0",
      "model_name": "LayoutModel",
      "state": {}
     },
     "6b3b74cd9f1b41d0b578eaebb59441f9": {
      "model_module": "@jupyter-widgets/controls",
      "model_module_version": "1.5.0",
      "model_name": "DescriptionStyleModel",
      "state": {
       "description_width": ""
      }
     },
     "6b784b2076284444bf3006a94b4e6a87": {
      "model_module": "@jupyter-widgets/controls",
      "model_module_version": "1.5.0",
      "model_name": "TextModel",
      "state": {
       "layout": "IPY_MODEL_00efe4ea450345849dfdb6e91af94da0",
       "style": "IPY_MODEL_ebcb25d7e49a4aeeaab3eb8a2706bb88",
       "value": "Threshold probability to generate two or more of the same barcode independently in a mouse:"
      }
     },
     "6baa3ff5a4824263bf16b59f5d3c17ec": {
      "model_module": "@jupyter-widgets/base",
      "model_module_version": "1.2.0",
      "model_name": "LayoutModel",
      "state": {}
     },
     "6be5be6703c044e79ccfa6fd16356b83": {
      "model_module": "@jupyter-widgets/controls",
      "model_module_version": "1.5.0",
      "model_name": "DescriptionStyleModel",
      "state": {
       "description_width": ""
      }
     },
     "6c0b00e5cc1e44f7bc01a8a0fad961cc": {
      "model_module": "@jupyter-widgets/controls",
      "model_module_version": "1.5.0",
      "model_name": "DescriptionStyleModel",
      "state": {
       "description_width": ""
      }
     },
     "6c1539a4dca7489aad315d434520a8c9": {
      "model_module": "@jupyter-widgets/controls",
      "model_module_version": "1.5.0",
      "model_name": "DescriptionStyleModel",
      "state": {
       "description_width": ""
      }
     },
     "6c42429746424f2194c638c8542ed5d2": {
      "model_module": "@jupyter-widgets/controls",
      "model_module_version": "1.5.0",
      "model_name": "BoundedIntTextModel",
      "state": {
       "description": "number of mice:",
       "layout": "IPY_MODEL_94914bca61cf44d8ae39d4565033c1b2",
       "max": 10000,
       "style": "IPY_MODEL_67b3865a2d4b45de9c82fa05cea794c6",
       "value": 5
      }
     },
     "6c9291a4de464e7bbd1f89dd0bfbd773": {
      "model_module": "@jupyter-widgets/base",
      "model_module_version": "1.2.0",
      "model_name": "LayoutModel",
      "state": {}
     },
     "6c994784ba5e4a24a98cf3df2c4fd9bd": {
      "model_module": "@jupyter-widgets/base",
      "model_module_version": "1.2.0",
      "model_name": "LayoutModel",
      "state": {}
     },
     "6ce737141ddf483a9d4bf4899c68d3a5": {
      "model_module": "@jupyter-widgets/controls",
      "model_module_version": "1.5.0",
      "model_name": "BoundedIntTextModel",
      "state": {
       "continuous_update": true,
       "description": "mouse threshold:",
       "layout": "IPY_MODEL_63b98a705f07465aabd8113e2e361511",
       "max": 1e+40,
       "style": "IPY_MODEL_5871e9dd271647b7bd0161d26e7a7319",
       "value": 2
      }
     },
     "6cf8747725ac48d481c49110c5952398": {
      "model_module": "@jupyter-widgets/controls",
      "model_module_version": "1.5.0",
      "model_name": "DescriptionStyleModel",
      "state": {
       "description_width": ""
      }
     },
     "6d005ea1007449c986d6d76359cc389d": {
      "model_module": "@jupyter-widgets/controls",
      "model_module_version": "1.5.0",
      "model_name": "DescriptionStyleModel",
      "state": {
       "description_width": ""
      }
     },
     "6d825d18c63a42c58a78d2a24bc95ba5": {
      "model_module": "@jupyter-widgets/controls",
      "model_module_version": "1.5.0",
      "model_name": "BoundedIntTextModel",
      "state": {
       "continuous_update": true,
       "layout": "IPY_MODEL_fc368c38acd84d90855fb1b07cd199c6",
       "max": 10000,
       "style": "IPY_MODEL_4ef53900769648b187e7ebe25f6e7c0a",
       "value": 5
      }
     },
     "6d9aae96ff554df6a8c4cb50c1028e43": {
      "model_module": "@jupyter-widgets/controls",
      "model_module_version": "1.5.0",
      "model_name": "HTMLModel",
      "state": {
       "layout": "IPY_MODEL_fa4fd3b1acf04c95ae2e0d2c49a89030",
       "style": "IPY_MODEL_4d0977ec55fd49ef8efe738ee09a5359",
       "value": "Total number of mice used:"
      }
     },
     "6da25ca56dde461fa040faaab51f4487": {
      "model_module": "@jupyter-widgets/base",
      "model_module_version": "1.2.0",
      "model_name": "LayoutModel",
      "state": {}
     },
     "6db2df8430f44d4bb1b06bb2a48ab2c8": {
      "model_module": "@jupyter-widgets/controls",
      "model_module_version": "1.5.0",
      "model_name": "HBoxModel",
      "state": {
       "children": [
        "IPY_MODEL_217e43b1dbc549928b8cd667a9d02f13",
        "IPY_MODEL_6eb33c445d8f4059aa2fd164f99bed6a"
       ],
       "layout": "IPY_MODEL_757c9f3440274658b51a21fa9d54edd0"
      }
     },
     "6dd23eb4778a49b088330af14db64d07": {
      "model_module": "@jupyter-widgets/controls",
      "model_module_version": "1.5.0",
      "model_name": "DescriptionStyleModel",
      "state": {
       "description_width": ""
      }
     },
     "6ddb791c862743ceb8e75090648373bf": {
      "model_module": "@jupyter-widgets/base",
      "model_module_version": "1.2.0",
      "model_name": "LayoutModel",
      "state": {}
     },
     "6eb33c445d8f4059aa2fd164f99bed6a": {
      "model_module": "@jupyter-widgets/controls",
      "model_module_version": "1.5.0",
      "model_name": "BoundedIntTextModel",
      "state": {
       "continuous_update": true,
       "layout": "IPY_MODEL_faf4d86d4d084b95acb5205a799609bf",
       "max": 10000,
       "style": "IPY_MODEL_74b10b3dd4504403ab9430194a77a235",
       "value": 5
      }
     },
     "6ef283b7e51e4599ab6ee517330bd199": {
      "model_module": "@jupyter-widgets/controls",
      "model_module_version": "1.5.0",
      "model_name": "DescriptionStyleModel",
      "state": {
       "description_width": ""
      }
     },
     "6f6d0547f8444e76b4172a77b61bb88e": {
      "model_module": "@jupyter-widgets/output",
      "model_module_version": "1.0.0",
      "model_name": "OutputModel",
      "state": {
       "layout": "IPY_MODEL_60adb88697594e88aa2d04cc34f67cde",
       "outputs": [
        {
         "data": {
          "image/png": "iVBORw0KGgoAAAANSUhEUgAAA2EAAAExCAYAAAD1HarhAAAABHNCSVQICAgIfAhkiAAAAAlwSFlzAAALEgAACxIB0t1+/AAAADh0RVh0U29mdHdhcmUAbWF0cGxvdGxpYiB2ZXJzaW9uMy4xLjEsIGh0dHA6Ly9tYXRwbG90bGliLm9yZy8QZhcZAAAaDUlEQVR4nO3db6xtZ10n8O+PXvAP/inQS9NpyxRjoxIyQHPD1GlCtDVOQWP7giYYlYY0uW+qg6OJVt8YHV9oMhElMU0ai14URVIlbbCiTYEYk6FyK6WAxfROh6F3WullKFUkylR/8+KsI6fn7vPn3p797LP3/nySk73W2s/Z57fXWees9V3rWc+u7g4AAABjvGDRBQAAAKwTIQwAAGAgIQwAAGAgIQwAAGAgIQwAAGAgIQwAAGCgfYWwqrqwqu6qqs9U1SNV9d3zLgwAAGAVHdlnu99I8sHufnNVvSjJN86xJgAAgJVVe31Yc1V9S5JPJPm23ucnO1900UV9xRVXPP/qADjUHnzwwS9099FF17Es7B8B1sdu+8j9XAn7tiRnkvx2Vb0myYNJ3t7d/7jTN1xxxRU5efLkeRULwPKoqv+96BqWif0jwPrYbR+5n3vCjiS5Ksnt3f26JP+Y5LYZP+R4VZ2sqpNnzpw572IBYFFm3QNdVS+tqvuq6tHp8SVT26qqd1bVqap6uKquWnT9ACyH/YSw00lOd/cD0/xd2Qhlz9Hdd3T3se4+dvSonikALKXNe6C/M8lrkjySjROP93f3lUnuz9dORL4xyZXT1/Ekt48vF4BltGcI6+6/S/J4VX3HtOi6JH8z16oAYLDpHug3JLkzSbr7q939pSQ3JDkxNTuR5MZp+oYk7+4NH01yYVVdMrhsAJbQfkdH/Ikk75lGRnwsydvmVxIALMTMe6CTXNzdTyZJdz9ZVS+f2l+a5PEt3396WvbkuJIBWEb7CmHd/VCSY3OuBQAWafMe6J/o7geq6jcy4x7oLWrGsrNGEa6q49norphXvOIVB1EnAEtuXx/WDABrYKd7oD+/2c1wenxqS/vLt3z/ZUme2P6i7pkGYDshDACy6z3Q9yS5eVp2c5K7p+l7krx1GiXx6iTPbHZbBIDd7PeeMABYB7PugX5BkvdV1S1JPpfkpqntvUnelORUkq/E/dIA7JMQBgCTXe6Bvm5G205y69yLAmDl6I4IAAAwkBAGAAAwkO6IAMBC1KxB/pdYn/UBBQCzuRIGAAAwkBAGAAAwkBAGAAAwkBAGAAAwkBAGAAAwkBAGAAAwkBAGAAAwkBAGAAAwkBAGAAAwkBAGAAAwkBAGAAAwkBAGAAAwkBAGAAAwkBAGAAAwkBAGAAAwkBAGAAAwkBAGAAAwkBAGAAAwkBAGAAAwkBAGAAAwkBAGAAAwkBAGAAAwkBAGAAAw0OEOYVWLrgAAAOBAHe4QBgAAsGKEMAAAgIGEMAAAgIGEMAAAgIGEMAAAgIGO7KdRVX02yT8k+Zckz3b3sXkW9dyfnXSP+mkAAADzta8QNvne7v7C3CoBAABYA7ojAgAADLTfENZJ/ryqHqyq4/MsCAAAYJXtN4Rd091XJXljklur6g3bG1TV8ao6WVUnz5w5c6BFAsAIVfXZqvpkVT1UVSenZS+tqvuq6tHp8SXT8qqqd1bVqap6uKquWmz1ACyLfYWw7n5ienwqyfuTvH5Gmzu6+1h3Hzt69OjBVgkA43xvd792yyBUtyW5v7uvTHL/NJ9snJi8cvo6nuT24ZUCsJT2DGFV9eKq+ubN6STfn+RT8y4MAA6JG5KcmKZPJLlxy/J394aPJrmwqi5ZRIEALJf9XAm7OMlfVtUnkvxVkj/p7g/OtywAWIhZ90Bf3N1PJsn0+PJp+aVJHt/yvaenZQCwqz2HqO/ux5K8ZkAtALBo13T3E1X18iT3VdVndmlbM5ad9cmWU5g7niSveMUrDqZKAJaaIeoBYLLDPdCf3+xmOD0+NTU/neTyLd9+WZInZryme6YBeI6lCGE161wjABygXe6BvifJzVOzm5PcPU3fk+St0yiJVyd5ZrPbIgDsZs/uiACwJi5O8v7aOPN3JMnvd/cHq+pjSd5XVbck+VySm6b29yZ5U5JTSb6S5G3jSwZgGQlhAJCd74Hu7v+b5LoZyzvJrQNKA2DFLEV3RAAAgFUhhAEAAAwkhAEAAAwkhAEAAAwkhAEAAAwkhAEAAAwkhAEAAAwkhAEAAAwkhAEAAAwkhAEAAAy0NCGsatEVAAAAPH9LE8IAAABWgRAGAAAwkBAGAAAwkBAGAAAwkBAGAAAwkBAGAAAwkBAGAAAwkBAGAAAwkBAGAAAwkBAGAAAw0FKFsKpFVwAAAPD8LFUIAwAAWHZCGAAAwEBCGAAAwEBCGAAAwEBCGAAAwEBCGAAAwEBCGAAAwEBCGAAAwEBCGAAAwEBCGAAAwED7DmFVdUFVfbyqPjDPggAAAFbZuVwJe3uSR+ZVCAAAwDrYVwirqsuS/ECS35pvOQAAAKttv1fCfj3JzyT51znWAgALt737fVW9sqoeqKpHq+oPq+pF0/Kvm+ZPTc9fsci6AVgee4awqvrBJE9194N7tDteVSer6uSZM2cOrEAAGGx79/tfTfKO7r4yydNJbpmW35Lk6e7+9iTvmNoBwJ72cyXsmiQ/VFWfTfLeJNdW1e9tb9Tdd3T3se4+dvTo0QMuEwDmb3v3+6qqJNcmuWtqciLJjdP0DdN8puevm9oDwK72DGHd/XPdfVl3X5HkLUk+1N0/OvfKAGC87d3vX5bkS9397DR/Osml0/SlSR5Pkun5Z6b2ALArnxMGANmx+/2sK1u9j+e2vq7u+gA8xzmFsO7+SHf/4LyKAYAFOqv7fTaujF1YVUemNpcleWKaPp3k8iSZnv/WJF/c/qK66wOwnSthAJAdu9//SJIPJ3nz1OzmJHdP0/dM85me/1B3n3Ul7KBVrc4XwLoSwgBgdz+b5Keq6lQ27vm6c1p+Z5KXTct/KsltC6oPgCVzZO8mALBeuvsjST4yTT+W5PUz2vxTkpuGFgbASnAlDAAAYCAhDAAAYCAhDAAAYCAhDAAAYCAhDAAAYCAhDAAAYCAhDAAAYCAhDAAAYCAhDAAAYCAhDAAAYCAhDAAAYCAhDAAAYCAhDAAAYCAhDAAAYCAhDAAAYCAhDAAAYCAhDAAAYCAhDAAAYCAhDAAAYCAhDAAAYCAhDAAAYCAhDAAAYCAhDAAAYCAhDAAAYCAhDAAAYCAhDAAAYCAhDAAAYCAhDAAAYKClC2FVi64AAADg/C1dCAMAAFhmQhgAAMBAQhgAAMBAQhgAAMBAe4awqvr6qvqrqvpEVX26qn5xRGEAAACr6Mg+2vxzkmu7+8tV9cIkf1lVf9rdH51zbQAAACtnzythveHL0+wLp6+ea1UAMNhOPT+q6pVV9UBVPVpVf1hVL5qWf900f2p6/opF1g/A8tjXPWFVdUFVPZTkqST3dfcD8y0LAIbb7PnxmiSvTXJ9VV2d5FeTvKO7r0zydJJbpva3JHm6u789yTumdgCwp32FsO7+l+5+bZLLkry+ql69vU1VHa+qk1V18syZMwddJwDM1S49P65Ncte0/ESSG6fpG6b5TM9fV1U1qFwAltg5jY7Y3V9K8pEk18947o7uPtbdx44ePXpA5QHAONt7fiT5n0m+1N3PTk1OJ7l0mr40yeNJMj3/TJKXja0YgGW0n9ERj1bVhdP0NyT5viSfmXdhADDa9p4fSb5rVrPpcdZVr7PumdZTBIDt9nMl7JIkH66qh5N8LBv3hH1gvmUBwOJs6flxdZILq2pzNOHLkjwxTZ9OcnmSTM9/a5IvzngtPUUAeI79jI74cHe/rrv/Q3e/urt/aURhADDSDj0/Hkny4SRvnprdnOTuafqeaT7T8x/qbqMHA7Cn/XxOGACsg0uSnKiqC7JxkvJ93f2BqvqbJO+tql9O8vEkd07t70zyu1V1KhtXwN6yiKIBWD5CGABko+dHktfNWP5YNu4P2778n5LcNKA0AFbMOY2OCAAAwPMjhAEAAAwkhAEAAAwkhAEAAAwkhAEAAAwkhAEAAAwkhAEAAAwkhAEAAAwkhAEAAAwkhAEAAAwkhAEAAAwkhAEAAAwkhAEAAAwkhAEAAAwkhAEAAAwkhAEAAAwkhAEAAAwkhAEAAAwkhAEAAAwkhAEAAAwkhAEAAAwkhAEAAAwkhAEAAAwkhAEAAAwkhAEAAAwkhAEAAAwkhAEAAAwkhAEAAAwkhAEAAAwkhAEAAAwkhAEAAAwkhAEAAAwkhAEAAAwkhAEAAAy0Zwirqsur6sNV9UhVfbqq3j6iMAAAgFW0nythzyb56e7+riRXJ7m1ql4137IAYKydTjpW1Uur6r6qenR6fMm0vKrqnVV1qqoerqqrFvsOAFgWe4aw7n6yu/96mv6HJI8kuXTehQHAYDuddLwtyf3dfWWS+6f5JHljkiunr+NJbh9fMgDL6JzuCauqK5K8LskD8ygGABZll5OONyQ5MTU7keTGafqGJO/uDR9NcmFVXTK4bACW0L5DWFV9U5I/SvKT3f33M54/XlUnq+rkmTNnDrJGABhq20nHi7v7yWQjqCV5+dTs0iSPb/m209FTBIB92FcIq6oXZiOAvae7/3hWm+6+o7uPdfexo0ePHmSNADDMXicdtzadsaxnvJ6TlAA8x35GR6wkdyZ5pLt/bf4lAcBi7HDS8fOb3Qynx6em5aeTXL7l2y9L8sT213SSEoDt9nMl7JokP5bk2qp6aPp605zrAoChdjnpeE+Sm6fpm5PcvWX5W6dREq9O8sxmt0UA2M2RvRp0919mdpcLAFglmycdP1lVD03Lfj7JryR5X1XdkuRzSW6anrs3yZuSnErylSRvG1suAMtqzxAGAOtgj5OO181o30lunWtRAKykcxqiHgAAgOdHCAMAABhICAMAABhICAMAABhICAMAABhICAMAABhICAMAABhICAMAABhICAMAABhICAMAABhICAMAABhICAMAABhoKUNY1aIrAAAAOD9LGcIAAACWlRAGAAAwkBAGAAAw0NKHMPeHAQAAy+TIogs4CFuDWPfi6gAAANjLSoSwrQQyAADgMFv67oj7ocsiAABwWKzclbCd7BTEXC0DAABGWpsQthchDQAAGEEI28NmOOt2vxkAAPD8CWHnadaVs82gJqABAAA7EcLmYLeBQAQ0AABYb0LYgghqAACwnoSwQ8xgIQAAsHqEsCW09b4zV9QAAGC5CGFrQFADAIDDQwgjye5BLTHyIwAAHBQhjHPiqhoAADw/QhgHzoAiAACwsxcsugDWx9ZwVvW1LwAAWCeuhLFw24PY9pEfXUEDAGCVCGEcerOulglqAAAsqz27I1bVu6rqqar61IiC4Hxs7d6omyMAAIfZfu4J+50k18+5DpibWQFNUAO2m3XSsapeWlX3VdWj0+NLpuVVVe+sqlNV9XBVXbW4ygFYNnuGsO7+iyRfHFALLIyABmT2Scfbktzf3VcmuX+aT5I3Jrly+jqe5PZBNQKwAoyOCDvYHsiENFhtO5x0vCHJiWn6RJIbtyx/d2/4aJILq+qSMZUCsOwOLIRV1fGqOllVJ8+cOXNQLwuHllAGa+Hi7n4ySabHl0/LL03y+JZ2p6dlALCnAwth3X1Hdx/r7mNHjx49qJeFpSOcwVqY9dc9c5xWJykB2E53RJizWYFMQIOl8fnNbobT41PT8tNJLt/S7rIkT8x6AScpAdhuP0PU/0GS/5HkO6rqdFXdMv+yYD0YEAQOvXuS3DxN35zk7i3L3zqNknh1kmc2uy0CwF72/LDm7v7hEYUAz7Xbh1QDB2866fg9SS6qqtNJfiHJryR533QC8nNJbpqa35vkTUlOJflKkrcNLxiApbVnCAMOj81gthnGtgY1AQ2en11OOl43o20nuXW+FQGwqoQwWBHbr5wJZQAAh5MQBivO1TIAgMNFCIM14moZAMDiGaIeMCojAMBAroQBSXRbBAAYRQgDzqLbIgDA/AhhwL4IZgAAB0MIA86L7osAAOfHwBzA82ZgDwCA/RPCgAMlkAEA7E4IAw5clTAGALATIQyYG2EMAOBsQhgwd8IYAMDXCGHAcEIZALDODFEPLIzPHgMA1pErYcCh4eoYALAOhDDgUBLIAIBVJYQBh5Z7xwCAVSSEAYeeMAYArBIhDFgaghgAsAqEMGCpCGIAwLITwgAAAAYSwgAAAAYSwoClZcAOAGAZCWHA0hPEAIBlIoQBAAAMJIQBK8HVMABgWQhhwMoQxACAZSCEAQAADCSEASvFiIkAwGEnhAEAAAwkhAErzVUxAOCwEcKAlSeIAQCHiRAGrAVBDAA4LI4sugAAAGBvq3RCsXvRFSzWvq6EVdX1VfW3VXWqqm6bd1EA87BKOy8OB/tHAM7HniGsqi5I8ptJ3pjkVUl+uKpeNe/CAOAws38E4Hzt50rY65Oc6u7HuvurSd6b5Ib5lgUAh579IwDnZT/3hF2a5PEt86eT/Mf5lAMAS8P+kZWl+zYLsbnhnc8NY1Vnf9+sZefzOnOwnxA268/wrMqq6niS49Psl6vqb59PYUkuSvKF2T9+f/8cDqrN6J+3S5tpnazt+5/V5t/Wybx+1kG+1sA2F1XNXi/n+rP2224J2lyU5AsOLJ5jx7+fc/DvD6KQJbXg/ePaWJr3e4D/X5bmPR8Q73e1zXy/u/69nO8f06zvO5/Xen5/zFvf7477yP2EsNNJLt8yf1mSJ7Y36u47ktxxDgXuqqpOdvexg3q9VWCdnM06mc16OZt1cjbr5Hmzfxxg3d5vsn7v2ftdbd7vbPu5J+xjSa6sqldW1YuSvCXJPc+3QABYcvaPAJyXPa+EdfezVfXjSf4syQVJ3tXdn557ZQBwiNk/AnC+9vVhzd19b5J751zLdgfWdWOFWCdns05ms17OZp2czTp5nuwfh1i395us33v2fleb9ztD9bp/XDUAAMBA+7knDAAAgANyKENYVV1fVX9bVaeq6rZF1zNKVV1eVR+uqkeq6tNV9fZp+Uur6r6qenR6fMm0vKrqndN6eriqrlrsO5iPqrqgqj5eVR+Y5l9ZVQ9M6+MPpxviU1VfN82fmp6/YpF1z1NVXVhVd1XVZ6bt5bttJ/Vfp7+bT1XVH1TV16/jtlJV76qqp6rqU1uWnfO2UVU3T+0fraqbF/FeONs67R9nbcurbKdjgFU1/Y/+q6r6xPR+f3HRNY2w/ZhmlVXVZ6vqk1X1UFWdXHQ98zbr2Gy39ocuhFXVBUl+M8kbk7wqyQ9X1asWW9Uwzyb56e7+riRXJ7l1eu+3Jbm/u69Mcv80n2ysoyunr+NJbh9f8hBvT/LIlvlfTfKOaX08neSWafktSZ7u7m9P8o6p3ar6jSQf7O7vTPKabKyftd1OqurSJP8lybHufnU2Bkl4S9ZzW/mdJNdvW3ZO20ZVvTTJL2Tjg4dfn+QXNoMbi7OG+8ffydnb8irb6RhgVf1zkmu7+zVJXpvk+qq6esE1jbD9mGbVfW93v3ZNhqifdWy2o0MXwrKxwz/V3Y9191eTvDfJDQuuaYjufrK7/3qa/ods/PIuzcb7PzE1O5Hkxmn6hiTv7g0fTXJhVV0yuOy5qqrLkvxAkt+a5ivJtUnumppsXx+b6+muJNdN7VdKVX1LkjckuTNJuvur3f2lrPF2MjmS5Buq6kiSb0zyZNZwW+nuv0jyxW2Lz3Xb+M9J7uvuL3b300nuy3odDB9Wa7V/3GFbXlm7HAOspOn/zpen2RdOXys9UMH2YxpWxy7HZjs6jCHs0iSPb5k/nRX+J7STqXvU65I8kOTi7n4y2fgnneTlU7N1WFe/nuRnkvzrNP+yJF/q7men+a3v+d/Wx/T8M1P7VfNtSc4k+e2pS8NvVdWLs8bbSXf/nyT/PcnnshG+nknyYGwrm85121j5bWZJ+b2siW3HACtr6pr3UJKnsnHiZ6Xfb84+pll1neTPq+rBqjq+6GLmbKdjsx0dxhA262z0Sp8Z2a6qvinJHyX5ye7++92azli2Muuqqn4wyVPd/eDWxTOa9j6eWyVHklyV5Pbufl2Sf8zXupfNsvLrZeoqd0OSVyb5d0lenI0uW9ut27ayl53Wg/VzOPm9rIFzOAZYet39L9392iSXJXl9Vb160TXNyw7HNKvumu6+Khv741ur6g2LLmiOzvXY7FCGsNNJLt8yf1mSJxZUy3BV9cJs/PN9T3f/8bT485vdx6bHp6blq76urknyQ1X12Wx0u7k2G2eRLpy6nCXPfc//tj6m5781q9mV5XSS01vOGN6VjT/8dd1OkuT7kvyv7j7T3f8vyR8n+U+xrWw6121jHbaZZeT3suJ2OAZYeVO3rY9ktbs9n3VMU1W/t9iS5qu7n5gen0ry/mx0qV5VOx2b7egwhrCPJblyGtXsRdm4uf6eBdc0xHRPyp1JHunuX9vy1D1JNkcnuznJ3VuWv3Ua4ezqJM9sdjlaBd39c919WXdfkY3t4EPd/SNJPpzkzVOz7etjcz29eWq/cmeJu/vvkjxeVd8xLbouyd9kTbeTyeeSXF1V3zj9HW2uk7XeVrY4123jz5J8f1W9ZLrK+P3TMhZrbfeP62CXY4CVVFVHq+rCafobsnEy7TOLrWp+djim+dEFlzU3VfXiqvrmzels7EdWdqTTXY7NdnRktycXobufraofz8YO/4Ik7+ruTy+4rFGuSfJjST459ZFOkp9P8itJ3ldVt2TjYPOm6bl7k7wpyakkX0nytrHlLszPJnlvVf1yko9nuglyevzdqjqVjasab1lQfSP8RJL3TAdij2Xjd/+CrOl20t0PVNVdSf46GyOMfTwbn1j/J1mzbaWq/iDJ9yS5qKpOZ2OUw3P6H9LdX6yq/5aNg/4k+aXuXuUrhUth3faPs7bl7r5z9+9aajOPAbr73gXWNE+XJDkxjfr5giTv6+6VH7Z9jVyc5P3TmFdHkvx+d39wsSXN3axjsx3Vap/8BQAAOFwOY3dEAACAlSWEAQAADCSEAQAADCSEAQAADCSEAQAADCSEAQAADCSEAQAADCSEAQAADPT/AVJXrdzp6VuOAAAAAElFTkSuQmCC\n",
          "text/plain": "<Figure size 1080x360 with 2 Axes>"
         },
         "metadata": {},
         "output_type": "display_data"
        }
       ]
      }
     },
     "6f763f85420c40c78aada5ba7d6657ee": {
      "model_module": "@jupyter-widgets/controls",
      "model_module_version": "1.5.0",
      "model_name": "DescriptionStyleModel",
      "state": {
       "description_width": ""
      }
     },
     "70d1bc6fbd5f475db3c4ebdf51d6da1d": {
      "model_module": "@jupyter-widgets/base",
      "model_module_version": "1.2.0",
      "model_name": "LayoutModel",
      "state": {}
     },
     "719c58e2e02146cb9b6effbca22da88c": {
      "model_module": "@jupyter-widgets/base",
      "model_module_version": "1.2.0",
      "model_name": "LayoutModel",
      "state": {}
     },
     "71b48270b2354467b61dae0a8e549c8b": {
      "model_module": "@jupyter-widgets/controls",
      "model_module_version": "1.5.0",
      "model_name": "BoundedFloatTextModel",
      "state": {
       "continuous_update": true,
       "description": "prob twice:",
       "layout": "IPY_MODEL_70d1bc6fbd5f475db3c4ebdf51d6da1d",
       "max": 1,
       "step": 0.01,
       "style": "IPY_MODEL_3d1761b369b24d73b7ef6e6b7d0a0fe7",
       "value": 0.05
      }
     },
     "71e8955849844717855964ebd04d8807": {
      "model_module": "@jupyter-widgets/controls",
      "model_module_version": "1.5.0",
      "model_name": "DescriptionStyleModel",
      "state": {
       "description_width": ""
      }
     },
     "7204156cb1ad41f0b0c1118682d633b7": {
      "model_module": "@jupyter-widgets/base",
      "model_module_version": "1.2.0",
      "model_name": "LayoutModel",
      "state": {}
     },
     "728e79decc7a4384a24603fbe1ef8d39": {
      "model_module": "@jupyter-widgets/controls",
      "model_module_version": "1.5.0",
      "model_name": "DescriptionStyleModel",
      "state": {
       "description_width": ""
      }
     },
     "72d78c307c9845c5b6c441765eca172d": {
      "model_module": "@jupyter-widgets/controls",
      "model_module_version": "1.5.0",
      "model_name": "BoundedIntTextModel",
      "state": {
       "description": "number of cells:",
       "layout": "IPY_MODEL_ad933321209c4c2e8864aec2c7e300ae",
       "max": 1e+40,
       "style": "IPY_MODEL_903ff03cd3cc4bf8a6dcff9803702cc5",
       "value": 100
      }
     },
     "7312e3c48cb141d69003e088dfe43056": {
      "model_module": "@jupyter-widgets/controls",
      "model_module_version": "1.5.0",
      "model_name": "DescriptionStyleModel",
      "state": {
       "description_width": ""
      }
     },
     "73177ac88a034962b2b6dc33a133211e": {
      "model_module": "@jupyter-widgets/base",
      "model_module_version": "1.2.0",
      "model_name": "LayoutModel",
      "state": {}
     },
     "737003a469424deaa5e60d3224e5a892": {
      "model_module": "@jupyter-widgets/base",
      "model_module_version": "1.2.0",
      "model_name": "LayoutModel",
      "state": {}
     },
     "743cb4858d154b1db211cb044449c3a3": {
      "model_module": "@jupyter-widgets/output",
      "model_module_version": "1.0.0",
      "model_name": "OutputModel",
      "state": {
       "layout": "IPY_MODEL_8e2630e8e5384571b4dc09de3c61bc36",
       "outputs": [
        {
         "name": "stdout",
         "output_type": "stream",
         "text": "2\n7\n14\n22\n28\n33\n38\n40\n42\n44\n45\n46\n47\n48\n50\n52\n53\n55\n56\n57\n58\n57\n56\n55\n53\n49\n44\n38\n33\n28\n26\n22\n20\n17\n14\n12\n11\n10\n9\n8\n7\n6\n5\n4\n3\n2\n"
        }
       ]
      }
     },
     "74af0f972b3f4c8a8831a4be25090b27": {
      "model_module": "@jupyter-widgets/base",
      "model_module_version": "1.2.0",
      "model_name": "LayoutModel",
      "state": {}
     },
     "74b10b3dd4504403ab9430194a77a235": {
      "model_module": "@jupyter-widgets/controls",
      "model_module_version": "1.5.0",
      "model_name": "DescriptionStyleModel",
      "state": {
       "description_width": ""
      }
     },
     "74be1d54bb2049ceb785e32ac488384d": {
      "model_module": "@jupyter-widgets/controls",
      "model_module_version": "1.5.0",
      "model_name": "BoundedIntTextModel",
      "state": {
       "description": "mouse threshold:",
       "layout": "IPY_MODEL_843e529396df40baacfc94d8c4fd1897",
       "max": 10000,
       "style": "IPY_MODEL_335ab5f3107a48e3a3df90d01cd14dfd",
       "value": 5
      }
     },
     "75039e5a7b1b493fbf35fa280e9e9f97": {
      "model_module": "@jupyter-widgets/base",
      "model_module_version": "1.2.0",
      "model_name": "LayoutModel",
      "state": {}
     },
     "757c9f3440274658b51a21fa9d54edd0": {
      "model_module": "@jupyter-widgets/base",
      "model_module_version": "1.2.0",
      "model_name": "LayoutModel",
      "state": {}
     },
     "759d6613fd2442dc976170635fd7776f": {
      "model_module": "@jupyter-widgets/controls",
      "model_module_version": "1.5.0",
      "model_name": "HTMLModel",
      "state": {
       "layout": "IPY_MODEL_74af0f972b3f4c8a8831a4be25090b27",
       "style": "IPY_MODEL_528e835d7a5644939e307e31a522d279",
       "value": "Mouse number threshold for calling overabundant barcodes:"
      }
     },
     "75b2f936748b46098b3085ba086dd622": {
      "model_module": "@jupyter-widgets/base",
      "model_module_version": "1.2.0",
      "model_name": "LayoutModel",
      "state": {
       "height": "100px",
       "width": "100%"
      }
     },
     "75d475d4d3e745558e22922f19be63fb": {
      "model_module": "@jupyter-widgets/controls",
      "model_module_version": "1.5.0",
      "model_name": "HBoxModel",
      "state": {
       "children": [
        "IPY_MODEL_9fdef03cef1a40639416573ea5644995",
        "IPY_MODEL_06ac84e49e344367bc7dc2edf58e91c6"
       ],
       "layout": "IPY_MODEL_a9b25733e423421b9820fdee961da45a"
      }
     },
     "764153fdab3e45009cb60e84d286bd64": {
      "model_module": "@jupyter-widgets/controls",
      "model_module_version": "1.5.0",
      "model_name": "DescriptionStyleModel",
      "state": {
       "description_width": ""
      }
     },
     "771c84081d964db5b2b939f80b57050a": {
      "model_module": "@jupyter-widgets/base",
      "model_module_version": "1.2.0",
      "model_name": "LayoutModel",
      "state": {}
     },
     "77d5f1e6866f4efc8b0de67b4ee9d3e7": {
      "model_module": "@jupyter-widgets/base",
      "model_module_version": "1.2.0",
      "model_name": "LayoutModel",
      "state": {
       "height": "100px",
       "width": "100%"
      }
     },
     "77f6fd2e5d4e4dd98a8406afaf59adad": {
      "model_module": "@jupyter-widgets/controls",
      "model_module_version": "1.5.0",
      "model_name": "HTMLModel",
      "state": {
       "layout": "IPY_MODEL_8f807b1044d94682bc7252ff7445db71",
       "style": "IPY_MODEL_80ffa980c7ad453ea30bf0db81ea3613",
       "value": "False negative rate: 0.0\n False positive rate: 0.03183545575881526"
      }
     },
     "781c23898b1b41f2ad679b46319dc912": {
      "model_module": "@jupyter-widgets/controls",
      "model_module_version": "1.5.0",
      "model_name": "BoundedFloatTextModel",
      "state": {
       "description": "prob twice:",
       "layout": "IPY_MODEL_e2277a64a3614f7682d45c56f0041aaa",
       "max": 1,
       "step": 0.01,
       "style": "IPY_MODEL_5550a7344993415cae113a5bb792c6f9",
       "value": 0.001
      }
     },
     "782db4413553458fb25f2df7d9c48eea": {
      "model_module": "@jupyter-widgets/base",
      "model_module_version": "1.2.0",
      "model_name": "LayoutModel",
      "state": {}
     },
     "78703c1275cf48babb939635efd1d38f": {
      "model_module": "@jupyter-widgets/controls",
      "model_module_version": "1.5.0",
      "model_name": "BoundedFloatTextModel",
      "state": {
       "description": "prob twice:",
       "layout": "IPY_MODEL_4ea9323a50b64c1dbc9444f984fbf1a9",
       "max": 1,
       "step": 0.01,
       "style": "IPY_MODEL_f4c33648109243abb22f86c29d1bc26e",
       "value": 0.05
      }
     },
     "78e44cb4e0684d92a5d98b23568f0fdd": {
      "model_module": "@jupyter-widgets/output",
      "model_module_version": "1.0.0",
      "model_name": "OutputModel",
      "state": {
       "layout": "IPY_MODEL_a259d9233c1f43949c5c973bd02179cc"
      }
     },
     "79edea92e72843809404f01fbfba9847": {
      "model_module": "@jupyter-widgets/controls",
      "model_module_version": "1.5.0",
      "model_name": "DescriptionStyleModel",
      "state": {
       "description_width": ""
      }
     },
     "7a80594419554f848ae28801ed54c0c5": {
      "model_module": "@jupyter-widgets/controls",
      "model_module_version": "1.5.0",
      "model_name": "DescriptionStyleModel",
      "state": {
       "description_width": ""
      }
     },
     "7a88413bf3d0488287c4c10355d493d3": {
      "model_module": "@jupyter-widgets/controls",
      "model_module_version": "1.5.0",
      "model_name": "BoundedIntTextModel",
      "state": {
       "description": "mouse threshold:",
       "layout": "IPY_MODEL_450fbc22083945fa9f9608638b3416ea",
       "max": 10000,
       "style": "IPY_MODEL_0acb39eee53d4249b43e640d458550ac",
       "value": 2
      }
     },
     "7adc24a701ab49a5aed0001c2328b86b": {
      "model_module": "@jupyter-widgets/controls",
      "model_module_version": "1.5.0",
      "model_name": "HBoxModel",
      "state": {
       "children": [
        "IPY_MODEL_47aa6cc21305414d9ef02a409460aa7c",
        "IPY_MODEL_5fd4287436ad4fe88ce9a86567b5543c"
       ],
       "layout": "IPY_MODEL_31ccf30d03494525a0d17d3eded6f1e1"
      }
     },
     "7ae19f313ca649d2bf8917429cb53921": {
      "model_module": "@jupyter-widgets/controls",
      "model_module_version": "1.5.0",
      "model_name": "DescriptionStyleModel",
      "state": {
       "description_width": ""
      }
     },
     "7af663845e1942fab17c2eeefb07f228": {
      "model_module": "@jupyter-widgets/base",
      "model_module_version": "1.2.0",
      "model_name": "LayoutModel",
      "state": {}
     },
     "7b7a590e51eb435c9c479ba790c0c2c3": {
      "model_module": "@jupyter-widgets/controls",
      "model_module_version": "1.5.0",
      "model_name": "HBoxModel",
      "state": {
       "children": [
        "IPY_MODEL_ec5d34014b36498393060ecbcaa84b5f",
        "IPY_MODEL_5652322cc22945d4ad333755e9a1e073"
       ],
       "layout": "IPY_MODEL_8832b6aacea941b7ab53af48fa91b0db"
      }
     },
     "7ba63334a4dd480c8d0fd0051bd67916": {
      "model_module": "@jupyter-widgets/output",
      "model_module_version": "1.0.0",
      "model_name": "OutputModel",
      "state": {
       "layout": "IPY_MODEL_cf73e7f08bf84100a749f774a339d453",
       "outputs": [
        {
         "data": {
          "image/png": "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\n",
          "text/plain": "<Figure size 1080x360 with 2 Axes>"
         },
         "metadata": {},
         "output_type": "display_data"
        }
       ]
      }
     },
     "7c3c998f1c6d46558c83b486bbe6ab13": {
      "model_module": "@jupyter-widgets/base",
      "model_module_version": "1.2.0",
      "model_name": "LayoutModel",
      "state": {}
     },
     "7c457513fdbd4e9191cc5bc6c01205ce": {
      "model_module": "@jupyter-widgets/controls",
      "model_module_version": "1.5.0",
      "model_name": "BoundedIntTextModel",
      "state": {
       "layout": "IPY_MODEL_ffe974160475440299168d9d3bf86e44",
       "max": 1e+40,
       "style": "IPY_MODEL_2c6d6bc75f02408e875b816cf38b2674",
       "value": 10000
      }
     },
     "7c7c218d2d48443997405261d82bf336": {
      "model_module": "@jupyter-widgets/controls",
      "model_module_version": "1.5.0",
      "model_name": "DescriptionStyleModel",
      "state": {
       "description_width": ""
      }
     },
     "7c99e65c6b5b4925ad75c090092092c5": {
      "model_module": "@jupyter-widgets/controls",
      "model_module_version": "1.5.0",
      "model_name": "DescriptionStyleModel",
      "state": {
       "description_width": ""
      }
     },
     "7cc6cdbdbbd8479bbc0f08b75c773b33": {
      "model_module": "@jupyter-widgets/controls",
      "model_module_version": "1.5.0",
      "model_name": "HTMLModel",
      "state": {
       "layout": "IPY_MODEL_db6b28dee1e14296b0a15890f5ff5bce",
       "style": "IPY_MODEL_6336b056c3a44ccc8ba138d6104a7a62",
       "value": "False negative rate: 0.03646068521169861\n False positive rate: 5.484916178945114e-06"
      }
     },
     "7d035ee1ffae47d5ba0749042e119a83": {
      "model_module": "@jupyter-widgets/base",
      "model_module_version": "1.2.0",
      "model_name": "LayoutModel",
      "state": {
       "height": "100px",
       "width": "100%"
      }
     },
     "7d662deb7374445a91519826abcfe85b": {
      "model_module": "@jupyter-widgets/controls",
      "model_module_version": "1.5.0",
      "model_name": "HTMLModel",
      "state": {
       "layout": "IPY_MODEL_f87bef009e23489abd4cff1d3173649c",
       "style": "IPY_MODEL_5a63bdb5217e40ae939c63752cab07ef",
       "value": "False negative rate: 3.282669995006722e-07\n False positive rate: 0.026212998569552576"
      }
     },
     "7dc9cf81f50542b9beb2c204d0da7e09": {
      "model_module": "@jupyter-widgets/controls",
      "model_module_version": "1.5.0",
      "model_name": "BoundedIntTextModel",
      "state": {
       "continuous_update": true,
       "description": "number of mice:",
       "layout": "IPY_MODEL_7ebc4aa0ed4d4e719acb17fa718dbd8b",
       "max": 10000,
       "style": "IPY_MODEL_f3eee27bcd2540e59c0fba1e609ed282",
       "value": 5
      }
     },
     "7e1516874c1246febe95c222578e1ddd": {
      "model_module": "@jupyter-widgets/base",
      "model_module_version": "1.2.0",
      "model_name": "LayoutModel",
      "state": {
       "height": "100px",
       "width": "100%"
      }
     },
     "7e6d84396d6f4b60bfec23d601f7551f": {
      "model_module": "@jupyter-widgets/base",
      "model_module_version": "1.2.0",
      "model_name": "LayoutModel",
      "state": {}
     },
     "7e78d118830142259470d4f26fa12f8f": {
      "model_module": "@jupyter-widgets/base",
      "model_module_version": "1.2.0",
      "model_name": "LayoutModel",
      "state": {}
     },
     "7eb38d1d5a1f485ea548f4f4986ced26": {
      "model_module": "@jupyter-widgets/controls",
      "model_module_version": "1.5.0",
      "model_name": "BoundedIntTextModel",
      "state": {
       "continuous_update": true,
       "description": "number of cells:",
       "layout": "IPY_MODEL_2c12537ea9124a588da2ccda74474c12",
       "max": 1e+40,
       "style": "IPY_MODEL_df22d251c395441ca10e6d3c4e5dd5d9",
       "value": 10000
      }
     },
     "7eb87d74df134997ac9161883f6d0eb2": {
      "model_module": "@jupyter-widgets/controls",
      "model_module_version": "1.5.0",
      "model_name": "BoundedFloatTextModel",
      "state": {
       "continuous_update": true,
       "description": "prob twice:",
       "layout": "IPY_MODEL_6b30970f2f654f80b466e497daa7a638",
       "max": 1,
       "step": 0.01,
       "style": "IPY_MODEL_35a3ae8cde7c428fb789bc068136f663",
       "value": 0.05
      }
     },
     "7ebc4aa0ed4d4e719acb17fa718dbd8b": {
      "model_module": "@jupyter-widgets/base",
      "model_module_version": "1.2.0",
      "model_name": "LayoutModel",
      "state": {}
     },
     "7f2abc9653514404831b1da84b1d387f": {
      "model_module": "@jupyter-widgets/controls",
      "model_module_version": "1.5.0",
      "model_name": "DescriptionStyleModel",
      "state": {
       "description_width": ""
      }
     },
     "803c9b36f3a040759d32e7f526a4b222": {
      "model_module": "@jupyter-widgets/controls",
      "model_module_version": "1.5.0",
      "model_name": "DescriptionStyleModel",
      "state": {
       "description_width": ""
      }
     },
     "80fb127d71f9451e975756cae6ec3323": {
      "model_module": "@jupyter-widgets/controls",
      "model_module_version": "1.5.0",
      "model_name": "IntSliderModel",
      "state": {
       "layout": "IPY_MODEL_a348ed84cbe640718d5d4ec5a760090f",
       "style": "IPY_MODEL_238fb2eab5ff43c0908eec63c150d8aa",
       "value": 2
      }
     },
     "80ffa980c7ad453ea30bf0db81ea3613": {
      "model_module": "@jupyter-widgets/controls",
      "model_module_version": "1.5.0",
      "model_name": "DescriptionStyleModel",
      "state": {
       "description_width": ""
      }
     },
     "8248020dce6b4627a77ac2fb459df872": {
      "model_module": "@jupyter-widgets/controls",
      "model_module_version": "1.5.0",
      "model_name": "DescriptionStyleModel",
      "state": {
       "description_width": ""
      }
     },
     "82b4a838cb764b758d69a7de8b9024b3": {
      "model_module": "@jupyter-widgets/controls",
      "model_module_version": "1.5.0",
      "model_name": "DescriptionStyleModel",
      "state": {
       "description_width": ""
      }
     },
     "83381ecd7163425ca335fc283a127e91": {
      "model_module": "@jupyter-widgets/base",
      "model_module_version": "1.2.0",
      "model_name": "LayoutModel",
      "state": {}
     },
     "833a2616a84b4c49a438d74e2dddab1c": {
      "model_module": "@jupyter-widgets/controls",
      "model_module_version": "1.5.0",
      "model_name": "DescriptionStyleModel",
      "state": {
       "description_width": ""
      }
     },
     "835fa5c5d3a84da59fa8b8c727810118": {
      "model_module": "@jupyter-widgets/base",
      "model_module_version": "1.2.0",
      "model_name": "LayoutModel",
      "state": {}
     },
     "83c82989b17a4359a68b26d604663185": {
      "model_module": "@jupyter-widgets/controls",
      "model_module_version": "1.5.0",
      "model_name": "SliderStyleModel",
      "state": {
       "description_width": ""
      }
     },
     "83f21ed131ba47d38d769ae4fac4df86": {
      "model_module": "@jupyter-widgets/controls",
      "model_module_version": "1.5.0",
      "model_name": "DescriptionStyleModel",
      "state": {
       "description_width": ""
      }
     },
     "83fcecae1bbd453c9fb837f80ca2f800": {
      "model_module": "@jupyter-widgets/base",
      "model_module_version": "1.2.0",
      "model_name": "LayoutModel",
      "state": {}
     },
     "843e529396df40baacfc94d8c4fd1897": {
      "model_module": "@jupyter-widgets/base",
      "model_module_version": "1.2.0",
      "model_name": "LayoutModel",
      "state": {}
     },
     "848d205a15b54f4eae98db151fcdc3dc": {
      "model_module": "@jupyter-widgets/controls",
      "model_module_version": "1.5.0",
      "model_name": "HBoxModel",
      "state": {
       "children": [
        "IPY_MODEL_0704afa316594264982b75fbfe788434",
        "IPY_MODEL_026a7f923ca641fd9a9e4a5cf38c6c4f"
       ],
       "layout": "IPY_MODEL_a225f1588fb34195b7bcf0e2a6e19759"
      }
     },
     "84d168788ffc4db3aabdbc9e2d441eab": {
      "model_module": "@jupyter-widgets/controls",
      "model_module_version": "1.5.0",
      "model_name": "DescriptionStyleModel",
      "state": {
       "description_width": ""
      }
     },
     "84fb44ac4b1049188d9acd38459aba2d": {
      "model_module": "@jupyter-widgets/controls",
      "model_module_version": "1.5.0",
      "model_name": "DescriptionStyleModel",
      "state": {
       "description_width": ""
      }
     },
     "852807b5b04a4aa8899631368d1b7e75": {
      "model_module": "@jupyter-widgets/output",
      "model_module_version": "1.0.0",
      "model_name": "OutputModel",
      "state": {
       "layout": "IPY_MODEL_603a05f0fc714205aa292ce96db9605e"
      }
     },
     "8589fd7547654143aa81ed20790975f8": {
      "model_module": "@jupyter-widgets/controls",
      "model_module_version": "1.5.0",
      "model_name": "DescriptionStyleModel",
      "state": {
       "description_width": ""
      }
     },
     "858bc2d639af436e9d44b8c1cb49c944": {
      "model_module": "@jupyter-widgets/base",
      "model_module_version": "1.2.0",
      "model_name": "LayoutModel",
      "state": {}
     },
     "85cd5fe7f22b43ecabdb54240e9db6cb": {
      "model_module": "@jupyter-widgets/controls",
      "model_module_version": "1.5.0",
      "model_name": "DescriptionStyleModel",
      "state": {
       "description_width": ""
      }
     },
     "861f197da32847d2a0bd65713616f3c3": {
      "model_module": "@jupyter-widgets/base",
      "model_module_version": "1.2.0",
      "model_name": "LayoutModel",
      "state": {}
     },
     "8620d54433d047b0a8f5a5296e0cb4ce": {
      "model_module": "@jupyter-widgets/controls",
      "model_module_version": "1.5.0",
      "model_name": "BoundedIntTextModel",
      "state": {
       "continuous_update": true,
       "layout": "IPY_MODEL_14981174464d4307b70f8c605722deae",
       "max": 10000,
       "style": "IPY_MODEL_1ee64f03798a4697a9e9df162373ac4b",
       "value": 5
      }
     },
     "8790b135b181418ba82455ef341dae17": {
      "model_module": "@jupyter-widgets/controls",
      "model_module_version": "1.5.0",
      "model_name": "DescriptionStyleModel",
      "state": {
       "description_width": ""
      }
     },
     "8832b6aacea941b7ab53af48fa91b0db": {
      "model_module": "@jupyter-widgets/base",
      "model_module_version": "1.2.0",
      "model_name": "LayoutModel",
      "state": {}
     },
     "883a1965ecf042c5a206b98a394653d6": {
      "model_module": "@jupyter-widgets/base",
      "model_module_version": "1.2.0",
      "model_name": "LayoutModel",
      "state": {}
     },
     "8865945848f54e5fb35e56ef8443a579": {
      "model_module": "@jupyter-widgets/base",
      "model_module_version": "1.2.0",
      "model_name": "LayoutModel",
      "state": {}
     },
     "8868e4107fce4396a885f8e306680d8b": {
      "model_module": "@jupyter-widgets/controls",
      "model_module_version": "1.5.0",
      "model_name": "DescriptionStyleModel",
      "state": {
       "description_width": ""
      }
     },
     "890905f1d3024b6c85426d481462caf7": {
      "model_module": "@jupyter-widgets/base",
      "model_module_version": "1.2.0",
      "model_name": "LayoutModel",
      "state": {}
     },
     "890a9abc8fbc43a185b662767bff101c": {
      "model_module": "@jupyter-widgets/controls",
      "model_module_version": "1.5.0",
      "model_name": "HBoxModel",
      "state": {
       "children": [
        "IPY_MODEL_b974d672d1af4bcd86c32024543e38b8",
        "IPY_MODEL_06ac84e49e344367bc7dc2edf58e91c6"
       ],
       "layout": "IPY_MODEL_ea6e3db9785143339153bb8785b3af7d"
      }
     },
     "89278a7da45645eb84d05e86193d0d26": {
      "model_module": "@jupyter-widgets/base",
      "model_module_version": "1.2.0",
      "model_name": "LayoutModel",
      "state": {}
     },
     "895b2ac26ef44771beda70997a9845df": {
      "model_module": "@jupyter-widgets/controls",
      "model_module_version": "1.5.0",
      "model_name": "DescriptionStyleModel",
      "state": {
       "description_width": ""
      }
     },
     "8970ab102e384f35a683e8bc63148b60": {
      "model_module": "@jupyter-widgets/base",
      "model_module_version": "1.2.0",
      "model_name": "LayoutModel",
      "state": {
       "height": "100px",
       "width": "100%"
      }
     },
     "898f6cb0132a471aa31ae248cb56a3d8": {
      "model_module": "@jupyter-widgets/controls",
      "model_module_version": "1.5.0",
      "model_name": "BoundedFloatTextModel",
      "state": {
       "description": "prob twice:",
       "layout": "IPY_MODEL_f672531163bf4f15b1f441b8769ddb47",
       "max": 1,
       "step": 0.01,
       "style": "IPY_MODEL_dfa87c2a6c474e2b96d036163e19d9fc",
       "value": 0.06
      }
     },
     "8a4c79ce2b464a47895c196f52d1aa1f": {
      "model_module": "@jupyter-widgets/controls",
      "model_module_version": "1.5.0",
      "model_name": "DescriptionStyleModel",
      "state": {
       "description_width": ""
      }
     },
     "8a9c8c8e4fea41f69198305b98aa409c": {
      "model_module": "@jupyter-widgets/controls",
      "model_module_version": "1.5.0",
      "model_name": "BoundedIntTextModel",
      "state": {
       "description": "number of mice:",
       "layout": "IPY_MODEL_ce3170272905408aaa42ccd4540db1d8",
       "max": 10000,
       "style": "IPY_MODEL_9b3e9c7f746e49b4a95512b4a75580b8",
       "value": 3
      }
     },
     "8abb4721c61f4c43aacee06e98d46a0e": {
      "model_module": "@jupyter-widgets/controls",
      "model_module_version": "1.5.0",
      "model_name": "BoundedFloatTextModel",
      "state": {
       "description": "prob twice:",
       "layout": "IPY_MODEL_a448de48bb8041679be06c92d49982b1",
       "max": 1,
       "step": 0.01,
       "style": "IPY_MODEL_faea822fd683498085bb05102e6852a8",
       "value": 0.05
      }
     },
     "8b112e78242f4d609c642fbc822d118a": {
      "model_module": "@jupyter-widgets/base",
      "model_module_version": "1.2.0",
      "model_name": "LayoutModel",
      "state": {}
     },
     "8b79a076d97542ad88800f1b0aaa96bc": {
      "model_module": "@jupyter-widgets/base",
      "model_module_version": "1.2.0",
      "model_name": "LayoutModel",
      "state": {}
     },
     "8bd2e78d5e78420d9aeb0c0103bb7ceb": {
      "model_module": "@jupyter-widgets/base",
      "model_module_version": "1.2.0",
      "model_name": "LayoutModel",
      "state": {}
     },
     "8bea470ed5134062bf5e11352b23de33": {
      "model_module": "@jupyter-widgets/base",
      "model_module_version": "1.2.0",
      "model_name": "LayoutModel",
      "state": {}
     },
     "8c002717558c49029e729411c319f135": {
      "model_module": "@jupyter-widgets/base",
      "model_module_version": "1.2.0",
      "model_name": "LayoutModel",
      "state": {}
     },
     "8cbcb9952dae4fefbc8fc5412fa3d6e9": {
      "model_module": "@jupyter-widgets/controls",
      "model_module_version": "1.5.0",
      "model_name": "HBoxModel",
      "state": {
       "children": [
        "IPY_MODEL_d26d2b3b48e7442388e18411d1b2b200",
        "IPY_MODEL_026a7f923ca641fd9a9e4a5cf38c6c4f"
       ],
       "layout": "IPY_MODEL_8bea470ed5134062bf5e11352b23de33"
      }
     },
     "8cf19dcc40d9488e9d6bd250dbc5845e": {
      "model_module": "@jupyter-widgets/base",
      "model_module_version": "1.2.0",
      "model_name": "LayoutModel",
      "state": {}
     },
     "8e21ef20c56b42aab3f156195ad9d088": {
      "model_module": "@jupyter-widgets/base",
      "model_module_version": "1.2.0",
      "model_name": "LayoutModel",
      "state": {}
     },
     "8e2630e8e5384571b4dc09de3c61bc36": {
      "model_module": "@jupyter-widgets/base",
      "model_module_version": "1.2.0",
      "model_name": "LayoutModel",
      "state": {}
     },
     "8e30038676b04f10a70c150b9e9f7f95": {
      "model_module": "@jupyter-widgets/controls",
      "model_module_version": "1.5.0",
      "model_name": "BoundedFloatTextModel",
      "state": {
       "description": "prob twice:",
       "layout": "IPY_MODEL_6c994784ba5e4a24a98cf3df2c4fd9bd",
       "max": 1,
       "step": 0.01,
       "style": "IPY_MODEL_52499058ef9b4e54aa03874e8c26bc3b",
       "value": 0.06
      }
     },
     "8e910d9b81384678b9f6352f29fbf8ce": {
      "model_module": "@jupyter-widgets/controls",
      "model_module_version": "1.5.0",
      "model_name": "BoundedFloatTextModel",
      "state": {
       "description": "prob twice:",
       "layout": "IPY_MODEL_2a96f25bf4fd4532a63bea6fe38790d4",
       "max": 1,
       "step": 0.01,
       "style": "IPY_MODEL_7ae19f313ca649d2bf8917429cb53921",
       "value": 0.47
      }
     },
     "8eafe399710c4cf19dcf2040e9818fa4": {
      "model_module": "@jupyter-widgets/base",
      "model_module_version": "1.2.0",
      "model_name": "LayoutModel",
      "state": {}
     },
     "8ebc92b54af0432c9cda52719d3f768a": {
      "model_module": "@jupyter-widgets/controls",
      "model_module_version": "1.5.0",
      "model_name": "HTMLModel",
      "state": {
       "layout": "IPY_MODEL_7d035ee1ffae47d5ba0749042e119a83",
       "style": "IPY_MODEL_f91d7b8fe8b24e6f82c0102d9d9d7282",
       "value": "False negative rate: 0.0\n False positive rate: 0.05258000679607063"
      }
     },
     "8f3d4386f6564d39b88a1c52c2a58712": {
      "model_module": "@jupyter-widgets/output",
      "model_module_version": "1.0.0",
      "model_name": "OutputModel",
      "state": {
       "layout": "IPY_MODEL_4f893a97fcf44daf85533fb7aaed77d7",
       "outputs": [
        {
         "data": {
          "image/png": "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\n",
          "text/plain": "<Figure size 1080x360 with 2 Axes>"
         },
         "metadata": {},
         "output_type": "display_data"
        }
       ]
      }
     },
     "8f4c47eab37b44a58f7c627632afde9e": {
      "model_module": "@jupyter-widgets/base",
      "model_module_version": "1.2.0",
      "model_name": "LayoutModel",
      "state": {}
     },
     "8f5235f55cb647e392e0931c8ef57c15": {
      "model_module": "@jupyter-widgets/controls",
      "model_module_version": "1.5.0",
      "model_name": "BoundedFloatTextModel",
      "state": {
       "description": "prob twice:",
       "layout": "IPY_MODEL_3cb9b4e3c17e4a479657712b636fb9ed",
       "max": 1,
       "step": 0.01,
       "style": "IPY_MODEL_174b3ef38fa54a3fbdbd6ab5c3bc2c2b",
       "value": 0.6
      }
     },
     "8f807b1044d94682bc7252ff7445db71": {
      "model_module": "@jupyter-widgets/base",
      "model_module_version": "1.2.0",
      "model_name": "LayoutModel",
      "state": {
       "height": "100px",
       "width": "100%"
      }
     },
     "903ff03cd3cc4bf8a6dcff9803702cc5": {
      "model_module": "@jupyter-widgets/controls",
      "model_module_version": "1.5.0",
      "model_name": "DescriptionStyleModel",
      "state": {
       "description_width": ""
      }
     },
     "90e3332258fa4582a2c5481a8eacb685": {
      "model_module": "@jupyter-widgets/controls",
      "model_module_version": "1.5.0",
      "model_name": "DescriptionStyleModel",
      "state": {
       "description_width": ""
      }
     },
     "90fd3755a3b64ddbacc25b4e7d12f2c5": {
      "model_module": "@jupyter-widgets/output",
      "model_module_version": "1.0.0",
      "model_name": "OutputModel",
      "state": {
       "layout": "IPY_MODEL_9c495921e50b4d618e535f4eccd9e85f",
       "outputs": [
        {
         "data": {
          "image/png": "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\n",
          "text/plain": "<Figure size 1080x360 with 2 Axes>"
         },
         "metadata": {},
         "output_type": "display_data"
        }
       ]
      }
     },
     "916db439fd5a4b37b7ba5983d675c849": {
      "model_module": "@jupyter-widgets/base",
      "model_module_version": "1.2.0",
      "model_name": "LayoutModel",
      "state": {}
     },
     "926e5e8a3f56465d8150e5f82fe428ac": {
      "model_module": "@jupyter-widgets/output",
      "model_module_version": "1.0.0",
      "model_name": "OutputModel",
      "state": {
       "layout": "IPY_MODEL_1dbf3a8eef9d4e2d878c22d73e7eb0f9"
      }
     },
     "92b57e3424d44aca98ea9e16f60924d7": {
      "model_module": "@jupyter-widgets/controls",
      "model_module_version": "1.5.0",
      "model_name": "HBoxModel",
      "state": {
       "children": [
        "IPY_MODEL_a3ae23bc0a0844f3a9893b167f5360ba",
        "IPY_MODEL_f88e2673e0a0424eba1c69ff3a1b9535"
       ],
       "layout": "IPY_MODEL_d972faad0b5b42dd8ac039f002b01659"
      }
     },
     "92c173e068be4b9182dce95b2676fc63": {
      "model_module": "@jupyter-widgets/controls",
      "model_module_version": "1.5.0",
      "model_name": "DescriptionStyleModel",
      "state": {
       "description_width": ""
      }
     },
     "93ed8a93eec34a878b6f0c586fa2bb49": {
      "model_module": "@jupyter-widgets/controls",
      "model_module_version": "1.5.0",
      "model_name": "HTMLModel",
      "state": {
       "layout": "IPY_MODEL_4b692ea14df8481f880c946fffbc4921",
       "style": "IPY_MODEL_b9f84c1ad60a4f009ca667b7f4bf0e1a",
       "value": "False negative rate: 3.651e-56\n False positive rate: 2.486e-01"
      }
     },
     "93f23b2efb06444b80bf84cafa7043f6": {
      "model_module": "@jupyter-widgets/controls",
      "model_module_version": "1.5.0",
      "model_name": "HBoxModel",
      "state": {
       "children": [
        "IPY_MODEL_cda001bdb3eb4304b2b7995ea1da90c4",
        "IPY_MODEL_6eb33c445d8f4059aa2fd164f99bed6a"
       ],
       "layout": "IPY_MODEL_25f3363259a3441796fc1dcbba7af0ec"
      }
     },
     "945b150e4e474803a9a1581452c4334d": {
      "model_module": "@jupyter-widgets/base",
      "model_module_version": "1.2.0",
      "model_name": "LayoutModel",
      "state": {}
     },
     "94914bca61cf44d8ae39d4565033c1b2": {
      "model_module": "@jupyter-widgets/base",
      "model_module_version": "1.2.0",
      "model_name": "LayoutModel",
      "state": {}
     },
     "94e60f64afec4fa190c861accc302373": {
      "model_module": "@jupyter-widgets/controls",
      "model_module_version": "1.5.0",
      "model_name": "BoundedIntTextModel",
      "state": {
       "description": "mouse threshold:",
       "layout": "IPY_MODEL_4117871d2c1443fca0aad748c8cd11d2",
       "max": 1e+40,
       "style": "IPY_MODEL_b6b865c376f340deb329f66811246724",
       "value": 2
      }
     },
     "95b7f34e5feb4702ad7611f337d3357a": {
      "model_module": "@jupyter-widgets/controls",
      "model_module_version": "1.5.0",
      "model_name": "HTMLModel",
      "state": {
       "layout": "IPY_MODEL_4181a8d4f6924473b3aae8c128903c47",
       "style": "IPY_MODEL_57f8ad40abcc4e3f8867c92a62b6ccf7",
       "value": "False negative rate: <b><font color=\"#be03fd\">1.513e-49</font></b>; false positive rate: <b><font color=\"#be03fd\">0.02</font></b>"
      }
     },
     "97ac59d6fc1e471eb3b4f2a167a002b5": {
      "model_module": "@jupyter-widgets/controls",
      "model_module_version": "1.5.0",
      "model_name": "DescriptionStyleModel",
      "state": {
       "description_width": ""
      }
     },
     "97b38eb4b45443f3965b811cf9a61c92": {
      "model_module": "@jupyter-widgets/base",
      "model_module_version": "1.2.0",
      "model_name": "LayoutModel",
      "state": {}
     },
     "97c9f07c10844fccbe86f6edf6515a83": {
      "model_module": "@jupyter-widgets/controls",
      "model_module_version": "1.5.0",
      "model_name": "DescriptionStyleModel",
      "state": {
       "description_width": ""
      }
     },
     "97e5f48ed930426387d52345e22cc354": {
      "model_module": "@jupyter-widgets/base",
      "model_module_version": "1.2.0",
      "model_name": "LayoutModel",
      "state": {}
     },
     "97f2ca9055f64ead8e51329a2bccee4c": {
      "model_module": "@jupyter-widgets/base",
      "model_module_version": "1.2.0",
      "model_name": "LayoutModel",
      "state": {}
     },
     "98870410f04042b791f0cd7b2355e069": {
      "model_module": "@jupyter-widgets/controls",
      "model_module_version": "1.5.0",
      "model_name": "DescriptionStyleModel",
      "state": {
       "description_width": ""
      }
     },
     "989f2c721b5748ecae088c9a5e7fce00": {
      "model_module": "@jupyter-widgets/controls",
      "model_module_version": "1.5.0",
      "model_name": "HTMLModel",
      "state": {
       "layout": "IPY_MODEL_e9bba9d0f86443d9a10ea71b83322337",
       "style": "IPY_MODEL_49c83983edcf4a3e9da50677647447e0",
       "value": "Threshold probability to generate two or more of the same barcode independently in a mouse:"
      }
     },
     "992d98b143004baaa1fbf6e3f4acd256": {
      "model_module": "@jupyter-widgets/controls",
      "model_module_version": "1.5.0",
      "model_name": "HTMLModel",
      "state": {
       "layout": "IPY_MODEL_364cb08960914d1dbc662c2e31962597",
       "style": "IPY_MODEL_fd823869425e439bb93c37b51e08e309",
       "value": "False negative rate: 2.7053402046595724e-17\n False positive rate: 0.0287714998576923"
      }
     },
     "993376d5ae134cde999f71e3d22cbb38": {
      "model_module": "@jupyter-widgets/controls",
      "model_module_version": "1.5.0",
      "model_name": "DescriptionStyleModel",
      "state": {
       "description_width": ""
      }
     },
     "9937387001314e868780af9bdff49498": {
      "model_module": "@jupyter-widgets/base",
      "model_module_version": "1.2.0",
      "model_name": "LayoutModel",
      "state": {}
     },
     "993cd39239094d27bd08166f852aa78c": {
      "model_module": "@jupyter-widgets/controls",
      "model_module_version": "1.5.0",
      "model_name": "DescriptionStyleModel",
      "state": {
       "description_width": ""
      }
     },
     "9945cf6fc6b34346a2646a695cc9ef88": {
      "model_module": "@jupyter-widgets/base",
      "model_module_version": "1.2.0",
      "model_name": "LayoutModel",
      "state": {}
     },
     "99d5cb201eec4c769506f4961a720c30": {
      "model_module": "@jupyter-widgets/controls",
      "model_module_version": "1.5.0",
      "model_name": "BoundedIntTextModel",
      "state": {
       "description": "mouse threshold:",
       "layout": "IPY_MODEL_2ba77b78677c4cedb22974168d8a26cc",
       "max": 10000,
       "style": "IPY_MODEL_5f209b759e1247f38dfb85e5fca7ae14",
       "value": 2
      }
     },
     "9a9c0e9cfe7f466db6fb68421cc12dc8": {
      "model_module": "@jupyter-widgets/base",
      "model_module_version": "1.2.0",
      "model_name": "LayoutModel",
      "state": {}
     },
     "9ab4fc35e87449e7b7644dccaee8c03b": {
      "model_module": "@jupyter-widgets/base",
      "model_module_version": "1.2.0",
      "model_name": "LayoutModel",
      "state": {
       "height": "100px",
       "width": "100%"
      }
     },
     "9b3e9c7f746e49b4a95512b4a75580b8": {
      "model_module": "@jupyter-widgets/controls",
      "model_module_version": "1.5.0",
      "model_name": "DescriptionStyleModel",
      "state": {
       "description_width": ""
      }
     },
     "9b598f1ce1c74c3c8f61aa56dc8c665f": {
      "model_module": "@jupyter-widgets/controls",
      "model_module_version": "1.5.0",
      "model_name": "DescriptionStyleModel",
      "state": {
       "description_width": ""
      }
     },
     "9ba25bafaf574de8aa4d05f057de6886": {
      "model_module": "@jupyter-widgets/base",
      "model_module_version": "1.2.0",
      "model_name": "LayoutModel",
      "state": {}
     },
     "9c0c72b26aae47ef85aa0a523e68e695": {
      "model_module": "@jupyter-widgets/base",
      "model_module_version": "1.2.0",
      "model_name": "LayoutModel",
      "state": {}
     },
     "9c495921e50b4d618e535f4eccd9e85f": {
      "model_module": "@jupyter-widgets/base",
      "model_module_version": "1.2.0",
      "model_name": "LayoutModel",
      "state": {}
     },
     "9dcd8d171ed64fd39238008469d57ee1": {
      "model_module": "@jupyter-widgets/base",
      "model_module_version": "1.2.0",
      "model_name": "LayoutModel",
      "state": {}
     },
     "9e178b8ead8046d6a704cfc04cb95e55": {
      "model_module": "@jupyter-widgets/base",
      "model_module_version": "1.2.0",
      "model_name": "LayoutModel",
      "state": {}
     },
     "9e3e314c57b64a6197d1e2f6446ab391": {
      "model_module": "@jupyter-widgets/base",
      "model_module_version": "1.2.0",
      "model_name": "LayoutModel",
      "state": {}
     },
     "9e54bf07c3c348f782f7e6e797e480a1": {
      "model_module": "@jupyter-widgets/controls",
      "model_module_version": "1.5.0",
      "model_name": "HTMLModel",
      "state": {
       "layout": "IPY_MODEL_50fdacbbbf12447ebcf76ccb5e3a2223",
       "style": "IPY_MODEL_68d18a65e0914c469f63da39e5f533c9",
       "value": "Threshold probability of generating two or more of a particular barcode independently in a mouse:"
      }
     },
     "9e85af8705b94ed3baa5bcd3cdae145c": {
      "model_module": "@jupyter-widgets/controls",
      "model_module_version": "1.5.0",
      "model_name": "BoundedIntTextModel",
      "state": {
       "description": "mouse threshold:",
       "layout": "IPY_MODEL_890905f1d3024b6c85426d481462caf7",
       "max": 1e+40,
       "style": "IPY_MODEL_55caa271261e43809e41eb327def795f",
       "value": 2
      }
     },
     "9e8a2da5fc474659be3de1ffedf6bc80": {
      "model_module": "@jupyter-widgets/base",
      "model_module_version": "1.2.0",
      "model_name": "LayoutModel",
      "state": {}
     },
     "9f152d8062bc4f39ab85607eaeb0ecc1": {
      "model_module": "@jupyter-widgets/controls",
      "model_module_version": "1.5.0",
      "model_name": "HBoxModel",
      "state": {
       "children": [
        "IPY_MODEL_08ed85ef3cf9493c84121b71a70f72c1",
        "IPY_MODEL_1b3400e353b34b2dba588803bc7f83c3"
       ],
       "layout": "IPY_MODEL_beabc7ecdabd436e97b4f8b01eb6c750"
      }
     },
     "9f558c78e9f34837afc583a4ead841e0": {
      "model_module": "@jupyter-widgets/base",
      "model_module_version": "1.2.0",
      "model_name": "LayoutModel",
      "state": {}
     },
     "9fcd0a23dfe24fb1b99f72f4c02d46bb": {
      "model_module": "@jupyter-widgets/controls",
      "model_module_version": "1.5.0",
      "model_name": "BoundedIntTextModel",
      "state": {
       "description": "mouse threshold:",
       "layout": "IPY_MODEL_2119fd66391d42d19e50aa1703728645",
       "max": 10000,
       "style": "IPY_MODEL_0b62f60f8850429db3f4f8e3061989f7",
       "value": 2
      }
     },
     "9fdef03cef1a40639416573ea5644995": {
      "model_module": "@jupyter-widgets/controls",
      "model_module_version": "1.5.0",
      "model_name": "HTMLModel",
      "state": {
       "layout": "IPY_MODEL_d7584771fb124eccb89a8a851574b9d6",
       "style": "IPY_MODEL_c04d275b7f80403c870832c93cb2a6e6",
       "value": "Mouse number threshold for calling overabundant barcodes:"
      }
     },
     "a03d4f821b634fcaaddf2ccb506f2798": {
      "model_module": "@jupyter-widgets/controls",
      "model_module_version": "1.5.0",
      "model_name": "DescriptionStyleModel",
      "state": {
       "description_width": ""
      }
     },
     "a03f9623da8143df89251148bbe297d1": {
      "model_module": "@jupyter-widgets/controls",
      "model_module_version": "1.5.0",
      "model_name": "DescriptionStyleModel",
      "state": {
       "description_width": ""
      }
     },
     "a072d7c25f3f48e5a412c9456daf1915": {
      "model_module": "@jupyter-widgets/base",
      "model_module_version": "1.2.0",
      "model_name": "LayoutModel",
      "state": {}
     },
     "a073b0ac43264f84a6b85201b86f5a77": {
      "model_module": "@jupyter-widgets/controls",
      "model_module_version": "1.5.0",
      "model_name": "BoundedIntTextModel",
      "state": {
       "description": "number of cells:",
       "layout": "IPY_MODEL_f162e155694443b28f88b64dcacb4016",
       "max": 1e+40,
       "style": "IPY_MODEL_63239df647034a5b91dfdc9b6f51e218",
       "value": 10000
      }
     },
     "a0780f0c08b747e5aa2793be961e1110": {
      "model_module": "@jupyter-widgets/base",
      "model_module_version": "1.2.0",
      "model_name": "LayoutModel",
      "state": {}
     },
     "a09d36a9059743bf87bae5f3e06bfa43": {
      "model_module": "@jupyter-widgets/base",
      "model_module_version": "1.2.0",
      "model_name": "LayoutModel",
      "state": {}
     },
     "a0bcfe14ffc24b8bab34e1c324a63ef5": {
      "model_module": "@jupyter-widgets/controls",
      "model_module_version": "1.5.0",
      "model_name": "DescriptionStyleModel",
      "state": {
       "description_width": ""
      }
     },
     "a0feca1799a348a39440c9143a4ac909": {
      "model_module": "@jupyter-widgets/controls",
      "model_module_version": "1.5.0",
      "model_name": "DescriptionStyleModel",
      "state": {
       "description_width": ""
      }
     },
     "a10d1543e1d04471905fb2275f802dad": {
      "model_module": "@jupyter-widgets/base",
      "model_module_version": "1.2.0",
      "model_name": "LayoutModel",
      "state": {}
     },
     "a14d2c3cbf6c4154a4f0d967e5871a5a": {
      "model_module": "@jupyter-widgets/base",
      "model_module_version": "1.2.0",
      "model_name": "LayoutModel",
      "state": {}
     },
     "a1fe2a4b45f2430ba48eb7ccf5d4e146": {
      "model_module": "@jupyter-widgets/base",
      "model_module_version": "1.2.0",
      "model_name": "LayoutModel",
      "state": {}
     },
     "a225f1588fb34195b7bcf0e2a6e19759": {
      "model_module": "@jupyter-widgets/base",
      "model_module_version": "1.2.0",
      "model_name": "LayoutModel",
      "state": {}
     },
     "a2328a005e594f5a8497f77788b67538": {
      "model_module": "@jupyter-widgets/controls",
      "model_module_version": "1.5.0",
      "model_name": "SliderStyleModel",
      "state": {
       "description_width": ""
      }
     },
     "a259d9233c1f43949c5c973bd02179cc": {
      "model_module": "@jupyter-widgets/base",
      "model_module_version": "1.2.0",
      "model_name": "LayoutModel",
      "state": {}
     },
     "a31932ff757c4f79b855e63db68dc897": {
      "model_module": "@jupyter-widgets/base",
      "model_module_version": "1.2.0",
      "model_name": "LayoutModel",
      "state": {}
     },
     "a348ed84cbe640718d5d4ec5a760090f": {
      "model_module": "@jupyter-widgets/base",
      "model_module_version": "1.2.0",
      "model_name": "LayoutModel",
      "state": {}
     },
     "a3ae23bc0a0844f3a9893b167f5360ba": {
      "model_module": "@jupyter-widgets/controls",
      "model_module_version": "1.5.0",
      "model_name": "HTMLModel",
      "state": {
       "layout": "IPY_MODEL_0fc7892ef475487e86f1eee2166645a4",
       "style": "IPY_MODEL_2a4aa169df8e4c03bd3117c091c737f5",
       "value": "Number of cells per mouse in which a barcode is induced:"
      }
     },
     "a3eb8c2f28ae4ed2a70ecc47ac643183": {
      "model_module": "@jupyter-widgets/base",
      "model_module_version": "1.2.0",
      "model_name": "LayoutModel",
      "state": {}
     },
     "a448de48bb8041679be06c92d49982b1": {
      "model_module": "@jupyter-widgets/base",
      "model_module_version": "1.2.0",
      "model_name": "LayoutModel",
      "state": {}
     },
     "a44f985c5bfd4d56a78dcc1a1f067c4b": {
      "model_module": "@jupyter-widgets/controls",
      "model_module_version": "1.5.0",
      "model_name": "BoundedIntTextModel",
      "state": {
       "continuous_update": true,
       "layout": "IPY_MODEL_55057bafc3064033b3c3555e7d8670b0",
       "max": 10000,
       "style": "IPY_MODEL_f85622c367794b0cbdbc96da65eb5f22",
       "value": 3
      }
     },
     "a5494580b73f4680b8ea7c1fd5236e4c": {
      "model_module": "@jupyter-widgets/controls",
      "model_module_version": "1.5.0",
      "model_name": "DescriptionStyleModel",
      "state": {
       "description_width": ""
      }
     },
     "a5dfdeed597542afa918945a17d08807": {
      "model_module": "@jupyter-widgets/controls",
      "model_module_version": "1.5.0",
      "model_name": "HTMLModel",
      "state": {
       "layout": "IPY_MODEL_c61d22d95fc6419095de5971d13790a9",
       "style": "IPY_MODEL_51e31666e32a413595c7d40d7089a26c",
       "value": "False negative rate: 2.270e-07\n False positive rate: 1.816e-06"
      }
     },
     "a5ecdfbfed3943d3a2f0babcad873108": {
      "model_module": "@jupyter-widgets/base",
      "model_module_version": "1.2.0",
      "model_name": "LayoutModel",
      "state": {}
     },
     "a60ee823a62c41748156298b17e0000d": {
      "model_module": "@jupyter-widgets/base",
      "model_module_version": "1.2.0",
      "model_name": "LayoutModel",
      "state": {}
     },
     "a67fedbee0374262995871e163a353c2": {
      "model_module": "@jupyter-widgets/controls",
      "model_module_version": "1.5.0",
      "model_name": "HBoxModel",
      "state": {
       "children": [
        "IPY_MODEL_c5eedb1cff484efc8bc3a148c28b97a5",
        "IPY_MODEL_b77a351e018d4a8aaa0d8f004ec2f61b"
       ],
       "layout": "IPY_MODEL_b19be9feaad34711b152bb5cfde07c9b"
      }
     },
     "a6c7afd71cfa4524afb90b013b9e1f2c": {
      "model_module": "@jupyter-widgets/controls",
      "model_module_version": "1.5.0",
      "model_name": "DescriptionStyleModel",
      "state": {
       "description_width": ""
      }
     },
     "a73b6ab3b24c42f7a68cd15f52b9f3f5": {
      "model_module": "@jupyter-widgets/controls",
      "model_module_version": "1.5.0",
      "model_name": "BoundedIntTextModel",
      "state": {
       "description": "mouse threshold:",
       "layout": "IPY_MODEL_945b150e4e474803a9a1581452c4334d",
       "max": 10000,
       "style": "IPY_MODEL_5c90f59e883449dea79017cf3d1f9c88",
       "value": 2
      }
     },
     "a7c071a073ea45459b5d596c484b6e24": {
      "model_module": "@jupyter-widgets/output",
      "model_module_version": "1.0.0",
      "model_name": "OutputModel",
      "state": {
       "layout": "IPY_MODEL_2851e9be75744e01a96dbeea199a0fe3"
      }
     },
     "a7edf8d8e6384d9abdab9087c3f8cff6": {
      "model_module": "@jupyter-widgets/controls",
      "model_module_version": "1.5.0",
      "model_name": "BoundedIntTextModel",
      "state": {
       "description": "mouse threshold:",
       "layout": "IPY_MODEL_e5cdf2e1ac6541a2ac9ef5afeaec8cfd",
       "max": 10000,
       "style": "IPY_MODEL_7f2abc9653514404831b1da84b1d387f",
       "value": 5
      }
     },
     "a851ad1f03a04503b48bb073fcbc4af9": {
      "model_module": "@jupyter-widgets/base",
      "model_module_version": "1.2.0",
      "model_name": "LayoutModel",
      "state": {}
     },
     "a8a39b60fa07473890c05564db2fb7aa": {
      "model_module": "@jupyter-widgets/controls",
      "model_module_version": "1.5.0",
      "model_name": "HBoxModel",
      "state": {
       "children": [
        "IPY_MODEL_464fe88317a14cba8f363165b0ffd3a5",
        "IPY_MODEL_67e69532b2044acaade35ded1246270d"
       ],
       "layout": "IPY_MODEL_737003a469424deaa5e60d3224e5a892"
      }
     },
     "a8b7b583ef624492aa1316d26894f7d5": {
      "model_module": "@jupyter-widgets/controls",
      "model_module_version": "1.5.0",
      "model_name": "IntTextModel",
      "state": {
       "description": "Any:",
       "layout": "IPY_MODEL_8865945848f54e5fb35e56ef8443a579",
       "step": 1,
       "style": "IPY_MODEL_10eb3f3cc18041e882024c643f68dd89",
       "value": 90
      }
     },
     "a9135a6047b54d1a928ee38e257bf970": {
      "model_module": "@jupyter-widgets/controls",
      "model_module_version": "1.5.0",
      "model_name": "BoundedFloatTextModel",
      "state": {
       "description": "prob twice:",
       "layout": "IPY_MODEL_f717b598bd04420fb3a115433b990581",
       "max": 1,
       "step": 0.01,
       "style": "IPY_MODEL_2018089b158849dc8d4935cdc03092a1",
       "value": 0.006
      }
     },
     "a96f2f3757014778962f1a54c9b11e80": {
      "model_module": "@jupyter-widgets/output",
      "model_module_version": "1.0.0",
      "model_name": "OutputModel",
      "state": {
       "layout": "IPY_MODEL_4b2522d07b11434e9180235ebe10d547",
       "outputs": [
        {
         "data": {
          "image/png": "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\n",
          "text/plain": "<Figure size 1080x360 with 2 Axes>"
         },
         "metadata": {},
         "output_type": "display_data"
        }
       ]
      }
     },
     "a99a186923954c8d8b7637ee5f878381": {
      "model_module": "@jupyter-widgets/base",
      "model_module_version": "1.2.0",
      "model_name": "LayoutModel",
      "state": {}
     },
     "a9b25733e423421b9820fdee961da45a": {
      "model_module": "@jupyter-widgets/base",
      "model_module_version": "1.2.0",
      "model_name": "LayoutModel",
      "state": {}
     },
     "a9e1edb041a547509a43308cef989950": {
      "model_module": "@jupyter-widgets/output",
      "model_module_version": "1.0.0",
      "model_name": "OutputModel",
      "state": {
       "layout": "IPY_MODEL_1c9bf9227d8441fb85739a8790a37ad2",
       "outputs": [
        {
         "data": {
          "image/png": "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\n",
          "text/plain": "<Figure size 1080x360 with 2 Axes>"
         },
         "metadata": {},
         "output_type": "display_data"
        }
       ]
      }
     },
     "a9ed36d63ddf4ae99b7a684b7e78a184": {
      "model_module": "@jupyter-widgets/controls",
      "model_module_version": "1.5.0",
      "model_name": "DescriptionStyleModel",
      "state": {
       "description_width": ""
      }
     },
     "aa3b87287b864d95b90b7f6406bab193": {
      "model_module": "@jupyter-widgets/base",
      "model_module_version": "1.2.0",
      "model_name": "LayoutModel",
      "state": {}
     },
     "aad915bef79c4237a5ee123dc93ee3fe": {
      "model_module": "@jupyter-widgets/controls",
      "model_module_version": "1.5.0",
      "model_name": "HBoxModel",
      "state": {
       "children": [
        "IPY_MODEL_f926d1d1703642ccb082b33c2d029777",
        "IPY_MODEL_1b3400e353b34b2dba588803bc7f83c3"
       ],
       "layout": "IPY_MODEL_5f2022cc73f24341ad31e7137f1f41d0"
      }
     },
     "ab08a37c0c8649d9abcb9edd2033269c": {
      "model_module": "@jupyter-widgets/controls",
      "model_module_version": "1.5.0",
      "model_name": "DescriptionStyleModel",
      "state": {
       "description_width": ""
      }
     },
     "ab458e83b939434ba10d52749602416b": {
      "model_module": "@jupyter-widgets/output",
      "model_module_version": "1.0.0",
      "model_name": "OutputModel",
      "state": {
       "layout": "IPY_MODEL_018488ff3c124f8e8925c1fc7aef685e",
       "outputs": [
        {
         "data": {
          "image/png": "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\n",
          "text/plain": "<Figure size 1080x360 with 2 Axes>"
         },
         "metadata": {},
         "output_type": "display_data"
        }
       ]
      }
     },
     "ab9e7df6d7184ec5a819fdfbd14d9330": {
      "model_module": "@jupyter-widgets/controls",
      "model_module_version": "1.5.0",
      "model_name": "BoundedFloatTextModel",
      "state": {
       "description": "prob twice:",
       "layout": "IPY_MODEL_97f2ca9055f64ead8e51329a2bccee4c",
       "max": 1,
       "step": 0.01,
       "style": "IPY_MODEL_6b3b74cd9f1b41d0b578eaebb59441f9",
       "value": 0.13
      }
     },
     "ababb1eae15841ec949a4c685bb76908": {
      "model_module": "@jupyter-widgets/controls",
      "model_module_version": "1.5.0",
      "model_name": "DescriptionStyleModel",
      "state": {
       "description_width": ""
      }
     },
     "ac4614671a364b6a824e37e2dd95abeb": {
      "model_module": "@jupyter-widgets/controls",
      "model_module_version": "1.5.0",
      "model_name": "BoundedFloatTextModel",
      "state": {
       "description": "prob twice:",
       "layout": "IPY_MODEL_9945cf6fc6b34346a2646a695cc9ef88",
       "max": 1,
       "step": 0.01,
       "style": "IPY_MODEL_833a2616a84b4c49a438d74e2dddab1c",
       "value": 0.06
      }
     },
     "ac4a0d182b2746a4aaf29a279fbf7fc1": {
      "model_module": "@jupyter-widgets/base",
      "model_module_version": "1.2.0",
      "model_name": "LayoutModel",
      "state": {}
     },
     "ad199db845f145509c6b843fe4202744": {
      "model_module": "@jupyter-widgets/controls",
      "model_module_version": "1.5.0",
      "model_name": "HBoxModel",
      "state": {
       "children": [
        "IPY_MODEL_29ccbb2557d349c3a1bb23bb19807e25",
        "IPY_MODEL_7c457513fdbd4e9191cc5bc6c01205ce"
       ],
       "layout": "IPY_MODEL_9e178b8ead8046d6a704cfc04cb95e55"
      }
     },
     "ad1f46c5a2f34918bd92b436603f5963": {
      "model_module": "@jupyter-widgets/output",
      "model_module_version": "1.0.0",
      "model_name": "OutputModel",
      "state": {
       "layout": "IPY_MODEL_7af663845e1942fab17c2eeefb07f228"
      }
     },
     "ad933321209c4c2e8864aec2c7e300ae": {
      "model_module": "@jupyter-widgets/base",
      "model_module_version": "1.2.0",
      "model_name": "LayoutModel",
      "state": {}
     },
     "ae2d5e9d9cca4e1aa0e77938e9fa5669": {
      "model_module": "@jupyter-widgets/base",
      "model_module_version": "1.2.0",
      "model_name": "LayoutModel",
      "state": {}
     },
     "ae50909a60594fc6b28f5d944537c660": {
      "model_module": "@jupyter-widgets/controls",
      "model_module_version": "1.5.0",
      "model_name": "HTMLModel",
      "state": {
       "layout": "IPY_MODEL_2d8f6f0765fa4526b8584f4ca41cc188",
       "style": "IPY_MODEL_1a5459c94839424cb7b3e8ca0b61f0df",
       "value": "Threshold probability of generating two or more of a particular barcode independently in a mouse:"
      }
     },
     "ae68a93a249c4f078fc24ea60d7f3a5a": {
      "model_module": "@jupyter-widgets/controls",
      "model_module_version": "1.5.0",
      "model_name": "BoundedIntTextModel",
      "state": {
       "description": "mouse threshold:",
       "layout": "IPY_MODEL_5fd49f42428f40899e437f3d7ffbb485",
       "max": 10000,
       "style": "IPY_MODEL_7312e3c48cb141d69003e088dfe43056",
       "value": 5
      }
     },
     "ae81d403fa9b4529b2441f4dcdc1a752": {
      "model_module": "@jupyter-widgets/base",
      "model_module_version": "1.2.0",
      "model_name": "LayoutModel",
      "state": {}
     },
     "af356c5abb58495abe37659bb726f6d5": {
      "model_module": "@jupyter-widgets/output",
      "model_module_version": "1.0.0",
      "model_name": "OutputModel",
      "state": {
       "layout": "IPY_MODEL_861f197da32847d2a0bd65713616f3c3",
       "outputs": [
        {
         "data": {
          "image/png": "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\n",
          "text/plain": "<Figure size 432x288 with 1 Axes>"
         },
         "metadata": {},
         "output_type": "display_data"
        }
       ]
      }
     },
     "b018a41cde6a4709b806f2cda9afd43f": {
      "model_module": "@jupyter-widgets/base",
      "model_module_version": "1.2.0",
      "model_name": "LayoutModel",
      "state": {}
     },
     "b01d7e09e0734b6a9420addbb6edba0c": {
      "model_module": "@jupyter-widgets/controls",
      "model_module_version": "1.5.0",
      "model_name": "DescriptionStyleModel",
      "state": {
       "description_width": ""
      }
     },
     "b0952c24ad3d41d6be3c9bc90766cc2c": {
      "model_module": "@jupyter-widgets/controls",
      "model_module_version": "1.5.0",
      "model_name": "BoundedIntTextModel",
      "state": {
       "continuous_update": true,
       "description": "number of mice:",
       "layout": "IPY_MODEL_f1efbcdff7ae45e4ba8c7af771e32e29",
       "max": 10000,
       "style": "IPY_MODEL_a03d4f821b634fcaaddf2ccb506f2798",
       "value": 5
      }
     },
     "b096fb27d590452396e1d356b97e15ae": {
      "model_module": "@jupyter-widgets/controls",
      "model_module_version": "1.5.0",
      "model_name": "DescriptionStyleModel",
      "state": {
       "description_width": ""
      }
     },
     "b0fcf0a51fe14cefb68affd18c3058a7": {
      "model_module": "@jupyter-widgets/controls",
      "model_module_version": "1.5.0",
      "model_name": "HTMLModel",
      "state": {
       "layout": "IPY_MODEL_6baa3ff5a4824263bf16b59f5d3c17ec",
       "style": "IPY_MODEL_90e3332258fa4582a2c5481a8eacb685",
       "value": "Number of cells per mouse with barcodes induced:"
      }
     },
     "b10c8cc5002444f883e4248982ed77b3": {
      "model_module": "@jupyter-widgets/base",
      "model_module_version": "1.2.0",
      "model_name": "LayoutModel",
      "state": {}
     },
     "b132028dbcb04d07930c21c2c377d093": {
      "model_module": "@jupyter-widgets/output",
      "model_module_version": "1.0.0",
      "model_name": "OutputModel",
      "state": {
       "layout": "IPY_MODEL_034f3ab17c634d1d9d0dabc76de396d8",
       "outputs": [
        {
         "data": {
          "image/png": "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\n",
          "text/plain": "<Figure size 1080x360 with 2 Axes>"
         },
         "metadata": {},
         "output_type": "display_data"
        }
       ]
      }
     },
     "b19be9feaad34711b152bb5cfde07c9b": {
      "model_module": "@jupyter-widgets/base",
      "model_module_version": "1.2.0",
      "model_name": "LayoutModel",
      "state": {}
     },
     "b1defc990d1843f186e3da7b85286232": {
      "model_module": "@jupyter-widgets/base",
      "model_module_version": "1.2.0",
      "model_name": "LayoutModel",
      "state": {}
     },
     "b23f322b32f54aefa000ccf7513f2c00": {
      "model_module": "@jupyter-widgets/controls",
      "model_module_version": "1.5.0",
      "model_name": "BoundedIntTextModel",
      "state": {
       "continuous_update": true,
       "layout": "IPY_MODEL_43d2ab39e99942829d144af750a40934",
       "max": 1e+40,
       "style": "IPY_MODEL_427a90c168204360ba5f5568d7db7ae9",
       "value": 1000
      }
     },
     "b2f7d50b8a9541c4aa9f54ca889bd4b6": {
      "model_module": "@jupyter-widgets/base",
      "model_module_version": "1.2.0",
      "model_name": "LayoutModel",
      "state": {
       "height": "100px",
       "width": "100%"
      }
     },
     "b5c789d2174b4554b291e719b7449000": {
      "model_module": "@jupyter-widgets/output",
      "model_module_version": "1.0.0",
      "model_name": "OutputModel",
      "state": {
       "layout": "IPY_MODEL_cdced9c7eb9d409c997f234a53f840bf",
       "outputs": [
        {
         "data": {
          "image/png": "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\n",
          "text/plain": "<Figure size 1080x360 with 2 Axes>"
         },
         "metadata": {},
         "output_type": "display_data"
        }
       ]
      }
     },
     "b5e0538edf564b4f9f04b4305a6c318c": {
      "model_module": "@jupyter-widgets/controls",
      "model_module_version": "1.5.0",
      "model_name": "HTMLModel",
      "state": {
       "layout": "IPY_MODEL_66b9a2a1eaae499abfe7f46a705e4102",
       "style": "IPY_MODEL_226e5ee0930844ab9b76c87af4299a0d",
       "value": "Threshold probability of generating two or more of a particular barcode independently in a mouse:"
      }
     },
     "b66433d2d2064de695a36bbc96fba5c5": {
      "model_module": "@jupyter-widgets/controls",
      "model_module_version": "1.5.0",
      "model_name": "DescriptionStyleModel",
      "state": {
       "description_width": ""
      }
     },
     "b6a567b222254a9bbc1767cd58440391": {
      "model_module": "@jupyter-widgets/output",
      "model_module_version": "1.0.0",
      "model_name": "OutputModel",
      "state": {
       "layout": "IPY_MODEL_565c1de1435541628069b789d1b1d8d9",
       "outputs": [
        {
         "data": {
          "image/png": "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\n",
          "text/plain": "<Figure size 1080x720 with 2 Axes>"
         },
         "metadata": {},
         "output_type": "display_data"
        }
       ]
      }
     },
     "b6b865c376f340deb329f66811246724": {
      "model_module": "@jupyter-widgets/controls",
      "model_module_version": "1.5.0",
      "model_name": "DescriptionStyleModel",
      "state": {
       "description_width": ""
      }
     },
     "b6d8c340516b4d8c95223915eab4b6aa": {
      "model_module": "@jupyter-widgets/base",
      "model_module_version": "1.2.0",
      "model_name": "LayoutModel",
      "state": {}
     },
     "b6e18da75ac946fb9e588c2b86f6ed64": {
      "model_module": "@jupyter-widgets/output",
      "model_module_version": "1.0.0",
      "model_name": "OutputModel",
      "state": {
       "layout": "IPY_MODEL_fe4e6d21e8ed489582217c8ccc450dba",
       "outputs": [
        {
         "ename": "TraitError",
         "evalue": "The 'children' trait of a Box instance must be a tuple, but a value of class 'matplotlib.figure.Figure' (i.e. <Figure size 432x288 with 1 Axes>) was specified.",
         "output_type": "error",
         "traceback": [
          "\u001b[0;31m---------------------------------------------------------------------------\u001b[0m",
          "\u001b[0;31mTraitError\u001b[0m                                Traceback (most recent call last)",
          "\u001b[0;32m<ipython-input-14-3e7e2cf22d40>\u001b[0m in \u001b[0;36mthreshold_plot_listener\u001b[0;34m(change)\u001b[0m\n\u001b[1;32m     12\u001b[0m     \u001b[0mplot_bc_size\u001b[0m\u001b[0;34m(\u001b[0m\u001b[0mchange\u001b[0m\u001b[0;34m[\u001b[0m\u001b[0;34m'new'\u001b[0m\u001b[0;34m]\u001b[0m\u001b[0;34m)\u001b[0m\u001b[0;34m\u001b[0m\u001b[0;34m\u001b[0m\u001b[0m\n\u001b[1;32m     13\u001b[0m     \u001b[0;32mwith\u001b[0m \u001b[0mbc_output\u001b[0m\u001b[0;34m:\u001b[0m\u001b[0;34m\u001b[0m\u001b[0;34m\u001b[0m\u001b[0m\n\u001b[0;32m---> 14\u001b[0;31m         \u001b[0mdisplay\u001b[0m\u001b[0;34m(\u001b[0m\u001b[0mwidgets\u001b[0m\u001b[0;34m.\u001b[0m\u001b[0mBox\u001b[0m\u001b[0;34m(\u001b[0m\u001b[0mbc_dist_fig\u001b[0m\u001b[0;34m)\u001b[0m\u001b[0;34m)\u001b[0m\u001b[0;34m\u001b[0m\u001b[0;34m\u001b[0m\u001b[0m\n\u001b[0m\u001b[1;32m     15\u001b[0m \u001b[0;34m\u001b[0m\u001b[0m\n\u001b[1;32m     16\u001b[0m \u001b[0mplot_bc_size\u001b[0m\u001b[0;34m(\u001b[0m\u001b[0;36m0.01\u001b[0m\u001b[0;34m)\u001b[0m\u001b[0;34m\u001b[0m\u001b[0;34m\u001b[0m\u001b[0m\n",
          "\u001b[0;32m~/opt/anaconda3/lib/python3.7/site-packages/ipywidgets/widgets/widget_box.py\u001b[0m in \u001b[0;36m__init__\u001b[0;34m(self, children, **kwargs)\u001b[0m\n\u001b[1;32m     62\u001b[0m     \u001b[0;32mdef\u001b[0m \u001b[0m__init__\u001b[0m\u001b[0;34m(\u001b[0m\u001b[0mself\u001b[0m\u001b[0;34m,\u001b[0m \u001b[0mchildren\u001b[0m\u001b[0;34m=\u001b[0m\u001b[0;34m(\u001b[0m\u001b[0;34m)\u001b[0m\u001b[0;34m,\u001b[0m \u001b[0;34m**\u001b[0m\u001b[0mkwargs\u001b[0m\u001b[0;34m)\u001b[0m\u001b[0;34m:\u001b[0m\u001b[0;34m\u001b[0m\u001b[0;34m\u001b[0m\u001b[0m\n\u001b[1;32m     63\u001b[0m         \u001b[0mkwargs\u001b[0m\u001b[0;34m[\u001b[0m\u001b[0;34m'children'\u001b[0m\u001b[0;34m]\u001b[0m \u001b[0;34m=\u001b[0m \u001b[0mchildren\u001b[0m\u001b[0;34m\u001b[0m\u001b[0;34m\u001b[0m\u001b[0m\n\u001b[0;32m---> 64\u001b[0;31m         \u001b[0msuper\u001b[0m\u001b[0;34m(\u001b[0m\u001b[0mBox\u001b[0m\u001b[0;34m,\u001b[0m \u001b[0mself\u001b[0m\u001b[0;34m)\u001b[0m\u001b[0;34m.\u001b[0m\u001b[0m__init__\u001b[0m\u001b[0;34m(\u001b[0m\u001b[0;34m**\u001b[0m\u001b[0mkwargs\u001b[0m\u001b[0;34m)\u001b[0m\u001b[0;34m\u001b[0m\u001b[0;34m\u001b[0m\u001b[0m\n\u001b[0m\u001b[1;32m     65\u001b[0m         \u001b[0mself\u001b[0m\u001b[0;34m.\u001b[0m\u001b[0mon_displayed\u001b[0m\u001b[0;34m(\u001b[0m\u001b[0mBox\u001b[0m\u001b[0;34m.\u001b[0m\u001b[0m_fire_children_displayed\u001b[0m\u001b[0;34m)\u001b[0m\u001b[0;34m\u001b[0m\u001b[0;34m\u001b[0m\u001b[0m\n\u001b[1;32m     66\u001b[0m \u001b[0;34m\u001b[0m\u001b[0m\n",
          "\u001b[0;32m~/opt/anaconda3/lib/python3.7/site-packages/ipywidgets/widgets/widget.py\u001b[0m in \u001b[0;36m__init__\u001b[0;34m(self, **kwargs)\u001b[0m\n\u001b[1;32m    410\u001b[0m         \u001b[0;34m\"\"\"Public constructor\"\"\"\u001b[0m\u001b[0;34m\u001b[0m\u001b[0;34m\u001b[0m\u001b[0m\n\u001b[1;32m    411\u001b[0m         \u001b[0mself\u001b[0m\u001b[0;34m.\u001b[0m\u001b[0m_model_id\u001b[0m \u001b[0;34m=\u001b[0m \u001b[0mkwargs\u001b[0m\u001b[0;34m.\u001b[0m\u001b[0mpop\u001b[0m\u001b[0;34m(\u001b[0m\u001b[0;34m'model_id'\u001b[0m\u001b[0;34m,\u001b[0m \u001b[0;32mNone\u001b[0m\u001b[0;34m)\u001b[0m\u001b[0;34m\u001b[0m\u001b[0;34m\u001b[0m\u001b[0m\n\u001b[0;32m--> 412\u001b[0;31m         \u001b[0msuper\u001b[0m\u001b[0;34m(\u001b[0m\u001b[0mWidget\u001b[0m\u001b[0;34m,\u001b[0m \u001b[0mself\u001b[0m\u001b[0;34m)\u001b[0m\u001b[0;34m.\u001b[0m\u001b[0m__init__\u001b[0m\u001b[0;34m(\u001b[0m\u001b[0;34m**\u001b[0m\u001b[0mkwargs\u001b[0m\u001b[0;34m)\u001b[0m\u001b[0;34m\u001b[0m\u001b[0;34m\u001b[0m\u001b[0m\n\u001b[0m\u001b[1;32m    413\u001b[0m \u001b[0;34m\u001b[0m\u001b[0m\n\u001b[1;32m    414\u001b[0m         \u001b[0mWidget\u001b[0m\u001b[0;34m.\u001b[0m\u001b[0m_call_widget_constructed\u001b[0m\u001b[0;34m(\u001b[0m\u001b[0mself\u001b[0m\u001b[0;34m)\u001b[0m\u001b[0;34m\u001b[0m\u001b[0;34m\u001b[0m\u001b[0m\n",
          "\u001b[0;32m~/opt/anaconda3/lib/python3.7/site-packages/traitlets/traitlets.py\u001b[0m in \u001b[0;36m__init__\u001b[0;34m(self, *args, **kwargs)\u001b[0m\n\u001b[1;32m    995\u001b[0m             \u001b[0;32mfor\u001b[0m \u001b[0mkey\u001b[0m\u001b[0;34m,\u001b[0m \u001b[0mvalue\u001b[0m \u001b[0;32min\u001b[0m \u001b[0mkwargs\u001b[0m\u001b[0;34m.\u001b[0m\u001b[0mitems\u001b[0m\u001b[0;34m(\u001b[0m\u001b[0;34m)\u001b[0m\u001b[0;34m:\u001b[0m\u001b[0;34m\u001b[0m\u001b[0;34m\u001b[0m\u001b[0m\n\u001b[1;32m    996\u001b[0m                 \u001b[0;32mif\u001b[0m \u001b[0mself\u001b[0m\u001b[0;34m.\u001b[0m\u001b[0mhas_trait\u001b[0m\u001b[0;34m(\u001b[0m\u001b[0mkey\u001b[0m\u001b[0;34m)\u001b[0m\u001b[0;34m:\u001b[0m\u001b[0;34m\u001b[0m\u001b[0;34m\u001b[0m\u001b[0m\n\u001b[0;32m--> 997\u001b[0;31m                     \u001b[0msetattr\u001b[0m\u001b[0;34m(\u001b[0m\u001b[0mself\u001b[0m\u001b[0;34m,\u001b[0m \u001b[0mkey\u001b[0m\u001b[0;34m,\u001b[0m \u001b[0mvalue\u001b[0m\u001b[0;34m)\u001b[0m\u001b[0;34m\u001b[0m\u001b[0;34m\u001b[0m\u001b[0m\n\u001b[0m\u001b[1;32m    998\u001b[0m                 \u001b[0;32melse\u001b[0m\u001b[0;34m:\u001b[0m\u001b[0;34m\u001b[0m\u001b[0;34m\u001b[0m\u001b[0m\n\u001b[1;32m    999\u001b[0m                     \u001b[0;31m# passthrough args that don't set traits to super\u001b[0m\u001b[0;34m\u001b[0m\u001b[0;34m\u001b[0m\u001b[0;34m\u001b[0m\u001b[0m\n",
          "\u001b[0;32m~/opt/anaconda3/lib/python3.7/site-packages/traitlets/traitlets.py\u001b[0m in \u001b[0;36m__set__\u001b[0;34m(self, obj, value)\u001b[0m\n\u001b[1;32m    583\u001b[0m             \u001b[0;32mraise\u001b[0m \u001b[0mTraitError\u001b[0m\u001b[0;34m(\u001b[0m\u001b[0;34m'The \"%s\" trait is read-only.'\u001b[0m \u001b[0;34m%\u001b[0m \u001b[0mself\u001b[0m\u001b[0;34m.\u001b[0m\u001b[0mname\u001b[0m\u001b[0;34m)\u001b[0m\u001b[0;34m\u001b[0m\u001b[0;34m\u001b[0m\u001b[0m\n\u001b[1;32m    584\u001b[0m         \u001b[0;32melse\u001b[0m\u001b[0;34m:\u001b[0m\u001b[0;34m\u001b[0m\u001b[0;34m\u001b[0m\u001b[0m\n\u001b[0;32m--> 585\u001b[0;31m             \u001b[0mself\u001b[0m\u001b[0;34m.\u001b[0m\u001b[0mset\u001b[0m\u001b[0;34m(\u001b[0m\u001b[0mobj\u001b[0m\u001b[0;34m,\u001b[0m \u001b[0mvalue\u001b[0m\u001b[0;34m)\u001b[0m\u001b[0;34m\u001b[0m\u001b[0;34m\u001b[0m\u001b[0m\n\u001b[0m\u001b[1;32m    586\u001b[0m \u001b[0;34m\u001b[0m\u001b[0m\n\u001b[1;32m    587\u001b[0m     \u001b[0;32mdef\u001b[0m \u001b[0m_validate\u001b[0m\u001b[0;34m(\u001b[0m\u001b[0mself\u001b[0m\u001b[0;34m,\u001b[0m \u001b[0mobj\u001b[0m\u001b[0;34m,\u001b[0m \u001b[0mvalue\u001b[0m\u001b[0;34m)\u001b[0m\u001b[0;34m:\u001b[0m\u001b[0;34m\u001b[0m\u001b[0;34m\u001b[0m\u001b[0m\n",
          "\u001b[0;32m~/opt/anaconda3/lib/python3.7/site-packages/traitlets/traitlets.py\u001b[0m in \u001b[0;36mset\u001b[0;34m(self, obj, value)\u001b[0m\n\u001b[1;32m    557\u001b[0m \u001b[0;34m\u001b[0m\u001b[0m\n\u001b[1;32m    558\u001b[0m     \u001b[0;32mdef\u001b[0m \u001b[0mset\u001b[0m\u001b[0;34m(\u001b[0m\u001b[0mself\u001b[0m\u001b[0;34m,\u001b[0m \u001b[0mobj\u001b[0m\u001b[0;34m,\u001b[0m \u001b[0mvalue\u001b[0m\u001b[0;34m)\u001b[0m\u001b[0;34m:\u001b[0m\u001b[0;34m\u001b[0m\u001b[0;34m\u001b[0m\u001b[0m\n\u001b[0;32m--> 559\u001b[0;31m         \u001b[0mnew_value\u001b[0m \u001b[0;34m=\u001b[0m \u001b[0mself\u001b[0m\u001b[0;34m.\u001b[0m\u001b[0m_validate\u001b[0m\u001b[0;34m(\u001b[0m\u001b[0mobj\u001b[0m\u001b[0;34m,\u001b[0m \u001b[0mvalue\u001b[0m\u001b[0;34m)\u001b[0m\u001b[0;34m\u001b[0m\u001b[0;34m\u001b[0m\u001b[0m\n\u001b[0m\u001b[1;32m    560\u001b[0m         \u001b[0;32mtry\u001b[0m\u001b[0;34m:\u001b[0m\u001b[0;34m\u001b[0m\u001b[0;34m\u001b[0m\u001b[0m\n\u001b[1;32m    561\u001b[0m             \u001b[0mold_value\u001b[0m \u001b[0;34m=\u001b[0m \u001b[0mobj\u001b[0m\u001b[0;34m.\u001b[0m\u001b[0m_trait_values\u001b[0m\u001b[0;34m[\u001b[0m\u001b[0mself\u001b[0m\u001b[0;34m.\u001b[0m\u001b[0mname\u001b[0m\u001b[0;34m]\u001b[0m\u001b[0;34m\u001b[0m\u001b[0;34m\u001b[0m\u001b[0m\n",
          "\u001b[0;32m~/opt/anaconda3/lib/python3.7/site-packages/traitlets/traitlets.py\u001b[0m in \u001b[0;36m_validate\u001b[0;34m(self, obj, value)\u001b[0m\n\u001b[1;32m    589\u001b[0m             \u001b[0;32mreturn\u001b[0m \u001b[0mvalue\u001b[0m\u001b[0;34m\u001b[0m\u001b[0;34m\u001b[0m\u001b[0m\n\u001b[1;32m    590\u001b[0m         \u001b[0;32mif\u001b[0m \u001b[0mhasattr\u001b[0m\u001b[0;34m(\u001b[0m\u001b[0mself\u001b[0m\u001b[0;34m,\u001b[0m \u001b[0;34m'validate'\u001b[0m\u001b[0;34m)\u001b[0m\u001b[0;34m:\u001b[0m\u001b[0;34m\u001b[0m\u001b[0;34m\u001b[0m\u001b[0m\n\u001b[0;32m--> 591\u001b[0;31m             \u001b[0mvalue\u001b[0m \u001b[0;34m=\u001b[0m \u001b[0mself\u001b[0m\u001b[0;34m.\u001b[0m\u001b[0mvalidate\u001b[0m\u001b[0;34m(\u001b[0m\u001b[0mobj\u001b[0m\u001b[0;34m,\u001b[0m \u001b[0mvalue\u001b[0m\u001b[0;34m)\u001b[0m\u001b[0;34m\u001b[0m\u001b[0;34m\u001b[0m\u001b[0m\n\u001b[0m\u001b[1;32m    592\u001b[0m         \u001b[0;32mif\u001b[0m \u001b[0mobj\u001b[0m\u001b[0;34m.\u001b[0m\u001b[0m_cross_validation_lock\u001b[0m \u001b[0;32mis\u001b[0m \u001b[0;32mFalse\u001b[0m\u001b[0;34m:\u001b[0m\u001b[0;34m\u001b[0m\u001b[0;34m\u001b[0m\u001b[0m\n\u001b[1;32m    593\u001b[0m             \u001b[0mvalue\u001b[0m \u001b[0;34m=\u001b[0m \u001b[0mself\u001b[0m\u001b[0;34m.\u001b[0m\u001b[0m_cross_validate\u001b[0m\u001b[0;34m(\u001b[0m\u001b[0mobj\u001b[0m\u001b[0;34m,\u001b[0m \u001b[0mvalue\u001b[0m\u001b[0;34m)\u001b[0m\u001b[0;34m\u001b[0m\u001b[0;34m\u001b[0m\u001b[0m\n",
          "\u001b[0;32m~/opt/anaconda3/lib/python3.7/site-packages/traitlets/traitlets.py\u001b[0m in \u001b[0;36mvalidate\u001b[0;34m(self, obj, value)\u001b[0m\n\u001b[1;32m   2236\u001b[0m         \u001b[0;32mif\u001b[0m \u001b[0misinstance\u001b[0m\u001b[0;34m(\u001b[0m\u001b[0mvalue\u001b[0m\u001b[0;34m,\u001b[0m \u001b[0mself\u001b[0m\u001b[0;34m.\u001b[0m\u001b[0m_cast_types\u001b[0m\u001b[0;34m)\u001b[0m\u001b[0;34m:\u001b[0m\u001b[0;34m\u001b[0m\u001b[0;34m\u001b[0m\u001b[0m\n\u001b[1;32m   2237\u001b[0m             \u001b[0mvalue\u001b[0m \u001b[0;34m=\u001b[0m \u001b[0mself\u001b[0m\u001b[0;34m.\u001b[0m\u001b[0mklass\u001b[0m\u001b[0;34m(\u001b[0m\u001b[0mvalue\u001b[0m\u001b[0;34m)\u001b[0m\u001b[0;34m\u001b[0m\u001b[0;34m\u001b[0m\u001b[0m\n\u001b[0;32m-> 2238\u001b[0;31m         \u001b[0mvalue\u001b[0m \u001b[0;34m=\u001b[0m \u001b[0msuper\u001b[0m\u001b[0;34m(\u001b[0m\u001b[0mContainer\u001b[0m\u001b[0;34m,\u001b[0m \u001b[0mself\u001b[0m\u001b[0;34m)\u001b[0m\u001b[0;34m.\u001b[0m\u001b[0mvalidate\u001b[0m\u001b[0;34m(\u001b[0m\u001b[0mobj\u001b[0m\u001b[0;34m,\u001b[0m \u001b[0mvalue\u001b[0m\u001b[0;34m)\u001b[0m\u001b[0;34m\u001b[0m\u001b[0;34m\u001b[0m\u001b[0m\n\u001b[0m\u001b[1;32m   2239\u001b[0m         \u001b[0;32mif\u001b[0m \u001b[0mvalue\u001b[0m \u001b[0;32mis\u001b[0m \u001b[0;32mNone\u001b[0m\u001b[0;34m:\u001b[0m\u001b[0;34m\u001b[0m\u001b[0;34m\u001b[0m\u001b[0m\n\u001b[1;32m   2240\u001b[0m             \u001b[0;32mreturn\u001b[0m \u001b[0mvalue\u001b[0m\u001b[0;34m\u001b[0m\u001b[0;34m\u001b[0m\u001b[0m\n",
          "\u001b[0;32m~/opt/anaconda3/lib/python3.7/site-packages/traitlets/traitlets.py\u001b[0m in \u001b[0;36mvalidate\u001b[0;34m(self, obj, value)\u001b[0m\n\u001b[1;32m   1675\u001b[0m             \u001b[0;32mreturn\u001b[0m \u001b[0mvalue\u001b[0m\u001b[0;34m\u001b[0m\u001b[0;34m\u001b[0m\u001b[0m\n\u001b[1;32m   1676\u001b[0m         \u001b[0;32melse\u001b[0m\u001b[0;34m:\u001b[0m\u001b[0;34m\u001b[0m\u001b[0;34m\u001b[0m\u001b[0m\n\u001b[0;32m-> 1677\u001b[0;31m             \u001b[0mself\u001b[0m\u001b[0;34m.\u001b[0m\u001b[0merror\u001b[0m\u001b[0;34m(\u001b[0m\u001b[0mobj\u001b[0m\u001b[0;34m,\u001b[0m \u001b[0mvalue\u001b[0m\u001b[0;34m)\u001b[0m\u001b[0;34m\u001b[0m\u001b[0;34m\u001b[0m\u001b[0m\n\u001b[0m\u001b[1;32m   1678\u001b[0m \u001b[0;34m\u001b[0m\u001b[0m\n\u001b[1;32m   1679\u001b[0m     \u001b[0;32mdef\u001b[0m \u001b[0minfo\u001b[0m\u001b[0;34m(\u001b[0m\u001b[0mself\u001b[0m\u001b[0;34m)\u001b[0m\u001b[0;34m:\u001b[0m\u001b[0;34m\u001b[0m\u001b[0;34m\u001b[0m\u001b[0m\n",
          "\u001b[0;32m~/opt/anaconda3/lib/python3.7/site-packages/traitlets/traitlets.py\u001b[0m in \u001b[0;36merror\u001b[0;34m(self, obj, value)\u001b[0m\n\u001b[1;32m   1522\u001b[0m                 \u001b[0;34m%\u001b[0m \u001b[0;34m(\u001b[0m\u001b[0mself\u001b[0m\u001b[0;34m.\u001b[0m\u001b[0mname\u001b[0m\u001b[0;34m,\u001b[0m \u001b[0mself\u001b[0m\u001b[0;34m.\u001b[0m\u001b[0minfo\u001b[0m\u001b[0;34m(\u001b[0m\u001b[0;34m)\u001b[0m\u001b[0;34m,\u001b[0m \u001b[0mmsg\u001b[0m\u001b[0;34m)\u001b[0m\u001b[0;34m\u001b[0m\u001b[0;34m\u001b[0m\u001b[0m\n\u001b[1;32m   1523\u001b[0m \u001b[0;34m\u001b[0m\u001b[0m\n\u001b[0;32m-> 1524\u001b[0;31m         \u001b[0;32mraise\u001b[0m \u001b[0mTraitError\u001b[0m\u001b[0;34m(\u001b[0m\u001b[0me\u001b[0m\u001b[0;34m)\u001b[0m\u001b[0;34m\u001b[0m\u001b[0;34m\u001b[0m\u001b[0m\n\u001b[0m\u001b[1;32m   1525\u001b[0m \u001b[0;34m\u001b[0m\u001b[0m\n\u001b[1;32m   1526\u001b[0m \u001b[0;34m\u001b[0m\u001b[0m\n",
          "\u001b[0;31mTraitError\u001b[0m: The 'children' trait of a Box instance must be a tuple, but a value of class 'matplotlib.figure.Figure' (i.e. <Figure size 432x288 with 1 Axes>) was specified."
         ]
        }
       ]
      }
     },
     "b6e1a8913587472fae8f326f3db1b4ed": {
      "model_module": "@jupyter-widgets/base",
      "model_module_version": "1.2.0",
      "model_name": "LayoutModel",
      "state": {}
     },
     "b77a351e018d4a8aaa0d8f004ec2f61b": {
      "model_module": "@jupyter-widgets/controls",
      "model_module_version": "1.5.0",
      "model_name": "BoundedIntTextModel",
      "state": {
       "layout": "IPY_MODEL_a10d1543e1d04471905fb2275f802dad",
       "max": 10000,
       "style": "IPY_MODEL_cad5d37f2d8641f9997670a70277419a",
       "value": 5
      }
     },
     "b7dfbd237c1a4b7ca140bb4dc743f3b2": {
      "model_module": "@jupyter-widgets/base",
      "model_module_version": "1.2.0",
      "model_name": "LayoutModel",
      "state": {
       "height": "100px",
       "width": "100%"
      }
     },
     "b8adf1f3ac634273b750f81af73aff85": {
      "model_module": "@jupyter-widgets/controls",
      "model_module_version": "1.5.0",
      "model_name": "BoundedFloatTextModel",
      "state": {
       "description": "prob twice:",
       "layout": "IPY_MODEL_ffbc3b8b8e0a47c9a25d27d6436ab6cb",
       "max": 1,
       "step": 0.01,
       "style": "IPY_MODEL_dc7e2cfb40db4555ac19af2d20e5284b",
       "value": 0.05
      }
     },
     "b8c0523c353a47119d44da0cf3c20859": {
      "model_module": "@jupyter-widgets/controls",
      "model_module_version": "1.5.0",
      "model_name": "BoundedFloatTextModel",
      "state": {
       "description": "Probability:",
       "layout": "IPY_MODEL_8cf19dcc40d9488e9d6bd250dbc5845e",
       "max": 1,
       "step": 0.01,
       "style": "IPY_MODEL_1d60afba2941489d9f56c98985ade567",
       "value": 0.05
      }
     },
     "b8e0123a164743e09911d694701a0005": {
      "model_module": "@jupyter-widgets/output",
      "model_module_version": "1.0.0",
      "model_name": "OutputModel",
      "state": {
       "layout": "IPY_MODEL_4b50800671a84bef82aaaab2ea739b6f",
       "outputs": [
        {
         "data": {
          "image/png": "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\n",
          "text/plain": "<Figure size 432x288 with 2 Axes>"
         },
         "metadata": {},
         "output_type": "display_data"
        }
       ]
      }
     },
     "b974d672d1af4bcd86c32024543e38b8": {
      "model_module": "@jupyter-widgets/controls",
      "model_module_version": "1.5.0",
      "model_name": "HTMLModel",
      "state": {
       "layout": "IPY_MODEL_bcbaef6bf0154aae9b35e5dce4637795",
       "style": "IPY_MODEL_ef7d6d24c3b94f00ab3fdc17aec00038",
       "value": "Mouse number threshold for calling overabundant barcodes:"
      }
     },
     "b98df64a4bd8439ebed35d3c3cdbaa18": {
      "model_module": "@jupyter-widgets/controls",
      "model_module_version": "1.5.0",
      "model_name": "BoundedIntTextModel",
      "state": {
       "description": "number of mice:",
       "layout": "IPY_MODEL_0b22d854133149a3ad24c690fe7bb196",
       "max": 10000,
       "style": "IPY_MODEL_f1c811b333cf45038ef97a9634ede6aa",
       "value": 5
      }
     },
     "b9cede9a51a04546adf6f23bd68be1f1": {
      "model_module": "@jupyter-widgets/controls",
      "model_module_version": "1.5.0",
      "model_name": "BoundedFloatTextModel",
      "state": {
       "continuous_update": true,
       "layout": "IPY_MODEL_bb01ed7d4e694da1870f023c3d83849b",
       "max": 1,
       "step": 0.01,
       "style": "IPY_MODEL_007e5cac0de34a5d81541d2d6036d620",
       "value": 0.05
      }
     },
     "b9f84c1ad60a4f009ca667b7f4bf0e1a": {
      "model_module": "@jupyter-widgets/controls",
      "model_module_version": "1.5.0",
      "model_name": "DescriptionStyleModel",
      "state": {
       "description_width": ""
      }
     },
     "ba2547b3dfc74ff89011c95d9ed48f74": {
      "model_module": "@jupyter-widgets/base",
      "model_module_version": "1.2.0",
      "model_name": "LayoutModel",
      "state": {}
     },
     "ba49de99beb94d15bd01669c2eb44ff2": {
      "model_module": "@jupyter-widgets/controls",
      "model_module_version": "1.5.0",
      "model_name": "HBoxModel",
      "state": {
       "children": [
        "IPY_MODEL_577b930d02f742e49d5a9f6298bf9e0e",
        "IPY_MODEL_8620d54433d047b0a8f5a5296e0cb4ce"
       ],
       "layout": "IPY_MODEL_7e6d84396d6f4b60bfec23d601f7551f"
      }
     },
     "ba84b8a0cb99448eb5b0d371b5daa756": {
      "model_module": "@jupyter-widgets/output",
      "model_module_version": "1.0.0",
      "model_name": "OutputModel",
      "state": {
       "layout": "IPY_MODEL_fbd040735a8343f7b6f50596c6d608a6",
       "outputs": [
        {
         "data": {
          "image/png": "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\n",
          "text/plain": "<Figure size 1080x360 with 2 Axes>"
         },
         "metadata": {},
         "output_type": "display_data"
        }
       ]
      }
     },
     "baed09bdb179404f94b16aa15e0d2983": {
      "model_module": "@jupyter-widgets/controls",
      "model_module_version": "1.5.0",
      "model_name": "HTMLModel",
      "state": {
       "layout": "IPY_MODEL_3fd62ed1f44949dcb7cf915c401f7347",
       "style": "IPY_MODEL_598d6d8bf5bc4ec0b5f7224c8cb1bfce",
       "value": "False negative rate: 6.761e-06; false positive rate: 1.491e-05"
      }
     },
     "bb01ed7d4e694da1870f023c3d83849b": {
      "model_module": "@jupyter-widgets/base",
      "model_module_version": "1.2.0",
      "model_name": "LayoutModel",
      "state": {}
     },
     "bb09dc66193a45cc81ffb12f12b918c1": {
      "model_module": "@jupyter-widgets/controls",
      "model_module_version": "1.5.0",
      "model_name": "HTMLModel",
      "state": {
       "layout": "IPY_MODEL_7e1516874c1246febe95c222578e1ddd",
       "style": "IPY_MODEL_1147ed2271f34dc8b0da2b5325248bcb",
       "value": "False negative rate: 0.0\n False positive rate: 0.0"
      }
     },
     "bb40140ec8c9487bbb44540017de2ae9": {
      "model_module": "@jupyter-widgets/output",
      "model_module_version": "1.0.0",
      "model_name": "OutputModel",
      "state": {
       "layout": "IPY_MODEL_e447481ed7054bca86924a019fffddd2"
      }
     },
     "bbdf532a6fa74cb1ab2c727e4af719b3": {
      "model_module": "@jupyter-widgets/controls",
      "model_module_version": "1.5.0",
      "model_name": "FloatSliderModel",
      "state": {
       "description": "b",
       "layout": "IPY_MODEL_d9f2db816c30479dbc529448f103f65e",
       "max": 3,
       "min": -3,
       "step": 0.5,
       "style": "IPY_MODEL_83c82989b17a4359a68b26d604663185",
       "value": -0.5
      }
     },
     "bc267b204dad4895b2943ca2c8433858": {
      "model_module": "@jupyter-widgets/output",
      "model_module_version": "1.0.0",
      "model_name": "OutputModel",
      "state": {
       "layout": "IPY_MODEL_83fcecae1bbd453c9fb837f80ca2f800"
      }
     },
     "bcbaef6bf0154aae9b35e5dce4637795": {
      "model_module": "@jupyter-widgets/base",
      "model_module_version": "1.2.0",
      "model_name": "LayoutModel",
      "state": {}
     },
     "bcc8f4293a5c4bc3947aa9fb56924877": {
      "model_module": "@jupyter-widgets/controls",
      "model_module_version": "1.5.0",
      "model_name": "VBoxModel",
      "state": {
       "_dom_classes": [
        "widget-interact"
       ],
       "children": [
        "IPY_MODEL_1abe0fcc009e4f1d95faf2cdf5c45654",
        "IPY_MODEL_bbdf532a6fa74cb1ab2c727e4af719b3",
        "IPY_MODEL_d5b2fb4e85b0497d8262ed91554607b4"
       ],
       "layout": "IPY_MODEL_e6931e458eb54126a51f97db6f2868ca"
      }
     },
     "bce1768c4dea4b37b716576d5c3e6059": {
      "model_module": "@jupyter-widgets/output",
      "model_module_version": "1.0.0",
      "model_name": "OutputModel",
      "state": {
       "layout": "IPY_MODEL_a0780f0c08b747e5aa2793be961e1110",
       "outputs": [
        {
         "data": {
          "image/png": "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\n",
          "text/plain": "<Figure size 1080x360 with 2 Axes>"
         },
         "metadata": {},
         "output_type": "display_data"
        }
       ]
      }
     },
     "bd4fa4b55b7240bf9f5495775194d6c9": {
      "model_module": "@jupyter-widgets/base",
      "model_module_version": "1.2.0",
      "model_name": "LayoutModel",
      "state": {}
     },
     "bd5642f64b2942248ab6f2710b0d1943": {
      "model_module": "@jupyter-widgets/controls",
      "model_module_version": "1.5.0",
      "model_name": "BoundedIntTextModel",
      "state": {
       "continuous_update": true,
       "layout": "IPY_MODEL_a31932ff757c4f79b855e63db68dc897",
       "max": 10000,
       "style": "IPY_MODEL_116f3c85c0ce4397b83ad8c781499b8e",
       "value": 5
      }
     },
     "bd7193d7597648bcadf96f590500a557": {
      "model_module": "@jupyter-widgets/controls",
      "model_module_version": "1.5.0",
      "model_name": "DescriptionStyleModel",
      "state": {
       "description_width": ""
      }
     },
     "bda5ce267d424503b8b2d351dd46b765": {
      "model_module": "@jupyter-widgets/base",
      "model_module_version": "1.2.0",
      "model_name": "LayoutModel",
      "state": {
       "height": "100px",
       "width": "100%"
      }
     },
     "bdaf2f5846b44ee28c8a89254be5ec7e": {
      "model_module": "@jupyter-widgets/controls",
      "model_module_version": "1.5.0",
      "model_name": "DescriptionStyleModel",
      "state": {
       "description_width": ""
      }
     },
     "bdf0c4b4149742bdbfd872987bbb8292": {
      "model_module": "@jupyter-widgets/controls",
      "model_module_version": "1.5.0",
      "model_name": "DescriptionStyleModel",
      "state": {
       "description_width": ""
      }
     },
     "be63c38f2ef84f9fb8e32c7685d6747a": {
      "model_module": "@jupyter-widgets/controls",
      "model_module_version": "1.5.0",
      "model_name": "DescriptionStyleModel",
      "state": {
       "description_width": ""
      }
     },
     "beabc7ecdabd436e97b4f8b01eb6c750": {
      "model_module": "@jupyter-widgets/base",
      "model_module_version": "1.2.0",
      "model_name": "LayoutModel",
      "state": {}
     },
     "beb194f427224201b1c34317f441ebb8": {
      "model_module": "@jupyter-widgets/output",
      "model_module_version": "1.0.0",
      "model_name": "OutputModel",
      "state": {
       "layout": "IPY_MODEL_c3685f6ce19347ac8da07b422c4b4be6",
       "outputs": [
        {
         "data": {
          "image/png": "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\n",
          "text/plain": "<Figure size 1080x360 with 2 Axes>"
         },
         "metadata": {},
         "output_type": "display_data"
        }
       ]
      }
     },
     "becd0111671a4332824df2f7d7edbd73": {
      "model_module": "@jupyter-widgets/controls",
      "model_module_version": "1.5.0",
      "model_name": "DescriptionStyleModel",
      "state": {
       "description_width": ""
      }
     },
     "beec2a4ab4404e88924a6aa4661ce1d1": {
      "model_module": "@jupyter-widgets/controls",
      "model_module_version": "1.5.0",
      "model_name": "BoundedFloatTextModel",
      "state": {
       "description": "prob twice:",
       "layout": "IPY_MODEL_d944317392f94225816cebd81dba422d",
       "max": 1,
       "step": 0.01,
       "style": "IPY_MODEL_ee32656e81c94dbd81d649374e65cbb3",
       "value": 0.05
      }
     },
     "bf8cdda74fc3406d80cfab6c30c29483": {
      "model_module": "@jupyter-widgets/base",
      "model_module_version": "1.2.0",
      "model_name": "LayoutModel",
      "state": {}
     },
     "c04d275b7f80403c870832c93cb2a6e6": {
      "model_module": "@jupyter-widgets/controls",
      "model_module_version": "1.5.0",
      "model_name": "DescriptionStyleModel",
      "state": {
       "description_width": ""
      }
     },
     "c0ae56286c254918bfeb0c9362b658d4": {
      "model_module": "@jupyter-widgets/base",
      "model_module_version": "1.2.0",
      "model_name": "LayoutModel",
      "state": {}
     },
     "c18320cb0d8d4e02a0aea9cf61c6286a": {
      "model_module": "@jupyter-widgets/base",
      "model_module_version": "1.2.0",
      "model_name": "LayoutModel",
      "state": {}
     },
     "c1fc82bbb7384b1ab7da0f233a95b0ff": {
      "model_module": "@jupyter-widgets/controls",
      "model_module_version": "1.5.0",
      "model_name": "HBoxModel",
      "state": {
       "children": [
        "IPY_MODEL_b5e0538edf564b4f9f04b4305a6c318c",
        "IPY_MODEL_e7f466f3de524dc1b91c647b946d0c5e"
       ],
       "layout": "IPY_MODEL_a851ad1f03a04503b48bb073fcbc4af9"
      }
     },
     "c278a073ff2e4a94bcef1f5fafd2591b": {
      "model_module": "@jupyter-widgets/base",
      "model_module_version": "1.2.0",
      "model_name": "LayoutModel",
      "state": {}
     },
     "c3685f6ce19347ac8da07b422c4b4be6": {
      "model_module": "@jupyter-widgets/base",
      "model_module_version": "1.2.0",
      "model_name": "LayoutModel",
      "state": {}
     },
     "c3b6c132764b499ca3aaafb774560ce3": {
      "model_module": "@jupyter-widgets/controls",
      "model_module_version": "1.5.0",
      "model_name": "HTMLModel",
      "state": {
       "layout": "IPY_MODEL_dbad5cb0c1434571a5fff812c5d3aedd",
       "style": "IPY_MODEL_1caaafd858b945938d1824c2ae20050c",
       "value": "False negative rate: 1.0\n False positive rate: 0.0"
      }
     },
     "c423886e8ae144588f719f9c5e3349b3": {
      "model_module": "@jupyter-widgets/base",
      "model_module_version": "1.2.0",
      "model_name": "LayoutModel",
      "state": {
       "height": "100px",
       "width": "100%"
      }
     },
     "c4f8fd009ce04c8a9797dead6576ecf7": {
      "model_module": "@jupyter-widgets/base",
      "model_module_version": "1.2.0",
      "model_name": "LayoutModel",
      "state": {}
     },
     "c5167fb05e2c47239cad0e66e62d4cee": {
      "model_module": "@jupyter-widgets/output",
      "model_module_version": "1.0.0",
      "model_name": "OutputModel",
      "state": {
       "layout": "IPY_MODEL_433fbac98e88434b8970a4164f7a6a75",
       "outputs": [
        {
         "data": {
          "image/png": "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\n",
          "text/plain": "<Figure size 1080x360 with 2 Axes>"
         },
         "metadata": {},
         "output_type": "display_data"
        }
       ]
      }
     },
     "c588f88800f34a82943b6fbccfde776d": {
      "model_module": "@jupyter-widgets/controls",
      "model_module_version": "1.5.0",
      "model_name": "HBoxModel",
      "state": {
       "children": [
        "IPY_MODEL_ed688dac880d4c4b97f2500aa058925f",
        "IPY_MODEL_d605df3c53e94044ab17e7c950f72b27"
       ],
       "layout": "IPY_MODEL_d6be4fe92ec54acaa4d3477f30e43944"
      }
     },
     "c5eedb1cff484efc8bc3a148c28b97a5": {
      "model_module": "@jupyter-widgets/controls",
      "model_module_version": "1.5.0",
      "model_name": "HTMLModel",
      "state": {
       "layout": "IPY_MODEL_2f8adc560aec4a5b8fddf3f94bfc99e5",
       "style": "IPY_MODEL_92c173e068be4b9182dce95b2676fc63",
       "value": "Total number of mice used:"
      }
     },
     "c60d2a5464cc48d5b35a325bd764c594": {
      "model_module": "@jupyter-widgets/base",
      "model_module_version": "1.2.0",
      "model_name": "LayoutModel",
      "state": {}
     },
     "c616fc1c8fd44b9faf41d662bbb54276": {
      "model_module": "@jupyter-widgets/controls",
      "model_module_version": "1.5.0",
      "model_name": "BoundedIntTextModel",
      "state": {
       "continuous_update": true,
       "description": "number of mice:",
       "layout": "IPY_MODEL_916db439fd5a4b37b7ba5983d675c849",
       "max": 10000,
       "style": "IPY_MODEL_58c91b50db8d4698ac95bd81d251061f",
       "value": 5
      }
     },
     "c61d22d95fc6419095de5971d13790a9": {
      "model_module": "@jupyter-widgets/base",
      "model_module_version": "1.2.0",
      "model_name": "LayoutModel",
      "state": {
       "height": "100px",
       "width": "100%"
      }
     },
     "c65d85773a77440a86754e04cc02878b": {
      "model_module": "@jupyter-widgets/base",
      "model_module_version": "1.2.0",
      "model_name": "LayoutModel",
      "state": {}
     },
     "c6af29193fe84585a06a2fcb1b29f0fb": {
      "model_module": "@jupyter-widgets/base",
      "model_module_version": "1.2.0",
      "model_name": "LayoutModel",
      "state": {}
     },
     "c6d620e7567243438e640907336d381c": {
      "model_module": "@jupyter-widgets/controls",
      "model_module_version": "1.5.0",
      "model_name": "DescriptionStyleModel",
      "state": {
       "description_width": ""
      }
     },
     "c71127d75ddb4c41a648d9c7848f5df4": {
      "model_module": "@jupyter-widgets/controls",
      "model_module_version": "1.5.0",
      "model_name": "BoundedIntTextModel",
      "state": {
       "continuous_update": true,
       "layout": "IPY_MODEL_50152a4f465f4932952b5ba6719eb5bb",
       "max": 1e+40,
       "style": "IPY_MODEL_ebda96ce8cc041fd9010be7040c08da9",
       "value": 2
      }
     },
     "c739176090b14bd8a0668f3a595ffa5a": {
      "model_module": "@jupyter-widgets/controls",
      "model_module_version": "1.5.0",
      "model_name": "HTMLModel",
      "state": {
       "layout": "IPY_MODEL_858bc2d639af436e9d44b8c1cb49c944",
       "style": "IPY_MODEL_b096fb27d590452396e1d356b97e15ae",
       "value": "Total number of mice used:"
      }
     },
     "c8256c9b5854408a9119a431bf20c150": {
      "model_module": "@jupyter-widgets/controls",
      "model_module_version": "1.5.0",
      "model_name": "BoundedIntTextModel",
      "state": {
       "description": "mouse threshold:",
       "layout": "IPY_MODEL_f2fb48c3bf73428b8bf1c82a50a05972",
       "max": 10000,
       "style": "IPY_MODEL_0a1b2beec5cd412faed527140e81e401",
       "value": 2
      }
     },
     "c84b4d226bc64b17bd6e5e94bdf2e1ef": {
      "model_module": "@jupyter-widgets/base",
      "model_module_version": "1.2.0",
      "model_name": "LayoutModel",
      "state": {}
     },
     "c91d1d10c6a5401cbfd021063a0c8fc6": {
      "model_module": "@jupyter-widgets/output",
      "model_module_version": "1.0.0",
      "model_name": "OutputModel",
      "state": {
       "layout": "IPY_MODEL_fe00ce74a7cb49c985f385bdc343b231",
       "outputs": [
        {
         "data": {
          "image/png": "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\n",
          "text/plain": "<Figure size 1080x360 with 2 Axes>"
         },
         "metadata": {},
         "output_type": "display_data"
        }
       ]
      }
     },
     "c944ee7126464d86a0485c3f8dab8469": {
      "model_module": "@jupyter-widgets/base",
      "model_module_version": "1.2.0",
      "model_name": "LayoutModel",
      "state": {}
     },
     "ca131b297f324040945ca03355aaeba4": {
      "model_module": "@jupyter-widgets/base",
      "model_module_version": "1.2.0",
      "model_name": "LayoutModel",
      "state": {}
     },
     "ca1a8f9839e545e6a95d27e5389bb745": {
      "model_module": "@jupyter-widgets/controls",
      "model_module_version": "1.5.0",
      "model_name": "DescriptionStyleModel",
      "state": {
       "description_width": ""
      }
     },
     "ca4db764cf5d4162828d0aaffc7a3647": {
      "model_module": "@jupyter-widgets/controls",
      "model_module_version": "1.5.0",
      "model_name": "HBoxModel",
      "state": {
       "children": [
        "IPY_MODEL_0ad3dac3c9a542b286b2bc4cbf343dcf",
        "IPY_MODEL_5e1aebdc29644c82bca223305fdebd59"
       ],
       "layout": "IPY_MODEL_e76feb277b61471db854dac53fd5107f"
      }
     },
     "ca5d8fd29b854beaac96401211a89418": {
      "model_module": "@jupyter-widgets/controls",
      "model_module_version": "1.5.0",
      "model_name": "HBoxModel",
      "state": {
       "children": [
        "IPY_MODEL_473cbd7d8dcd4198885ef67429971a22",
        "IPY_MODEL_1582189168fd42fea7a67e53f51853d4"
       ],
       "layout": "IPY_MODEL_57cd2ea90d7f44a9825c5888f64e390d"
      }
     },
     "cad5d37f2d8641f9997670a70277419a": {
      "model_module": "@jupyter-widgets/controls",
      "model_module_version": "1.5.0",
      "model_name": "DescriptionStyleModel",
      "state": {
       "description_width": ""
      }
     },
     "cb32c14a73164dd397d311b7b4ff9136": {
      "model_module": "@jupyter-widgets/controls",
      "model_module_version": "1.5.0",
      "model_name": "BoundedIntTextModel",
      "state": {
       "continuous_update": true,
       "description": "number of mice:",
       "layout": "IPY_MODEL_b018a41cde6a4709b806f2cda9afd43f",
       "max": 10000,
       "style": "IPY_MODEL_3ad76838be8640febb5a885a9103cb77",
       "value": 5
      }
     },
     "cb6ba2b803e245248ecacf200dd8229e": {
      "model_module": "@jupyter-widgets/controls",
      "model_module_version": "1.5.0",
      "model_name": "DescriptionStyleModel",
      "state": {
       "description_width": ""
      }
     },
     "cc272f2213a14dada3c224bb348620e1": {
      "model_module": "@jupyter-widgets/controls",
      "model_module_version": "1.5.0",
      "model_name": "DescriptionStyleModel",
      "state": {
       "description_width": ""
      }
     },
     "cc6bd6ff306044b6b8bf5eabcf1dfe65": {
      "model_module": "@jupyter-widgets/base",
      "model_module_version": "1.2.0",
      "model_name": "LayoutModel",
      "state": {}
     },
     "ccb11e538c98433eaf858507dc70b7af": {
      "model_module": "@jupyter-widgets/controls",
      "model_module_version": "1.5.0",
      "model_name": "HBoxModel",
      "state": {
       "children": [
        "IPY_MODEL_d8086865ea3d45f8b4874146258af66c",
        "IPY_MODEL_b23f322b32f54aefa000ccf7513f2c00"
       ],
       "layout": "IPY_MODEL_835fa5c5d3a84da59fa8b8c727810118"
      }
     },
     "cd689a15b8be42b7bc471514409e8dae": {
      "model_module": "@jupyter-widgets/base",
      "model_module_version": "1.2.0",
      "model_name": "LayoutModel",
      "state": {}
     },
     "cda001bdb3eb4304b2b7995ea1da90c4": {
      "model_module": "@jupyter-widgets/controls",
      "model_module_version": "1.5.0",
      "model_name": "HTMLModel",
      "state": {
       "layout": "IPY_MODEL_65bfff10b8d74162800924c74e9ab65e",
       "style": "IPY_MODEL_ed238c9cfcaf4b1e9b3d942214eaa018",
       "value": "Total number of mice used:"
      }
     },
     "cdced9c7eb9d409c997f234a53f840bf": {
      "model_module": "@jupyter-widgets/base",
      "model_module_version": "1.2.0",
      "model_name": "LayoutModel",
      "state": {}
     },
     "cdd5f97e92504e0bbccdb15ba71344c4": {
      "model_module": "@jupyter-widgets/output",
      "model_module_version": "1.0.0",
      "model_name": "OutputModel",
      "state": {
       "layout": "IPY_MODEL_97b38eb4b45443f3965b811cf9a61c92",
       "outputs": [
        {
         "data": {
          "image/png": "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\n",
          "text/plain": "<Figure size 1080x360 with 2 Axes>"
         },
         "metadata": {},
         "output_type": "display_data"
        }
       ]
      }
     },
     "ce2c2b54d7dd48378cd260569f91671b": {
      "model_module": "@jupyter-widgets/controls",
      "model_module_version": "1.5.0",
      "model_name": "DescriptionStyleModel",
      "state": {
       "description_width": ""
      }
     },
     "ce3170272905408aaa42ccd4540db1d8": {
      "model_module": "@jupyter-widgets/base",
      "model_module_version": "1.2.0",
      "model_name": "LayoutModel",
      "state": {}
     },
     "cecf04b6d409423296e44cf91b5f2c4d": {
      "model_module": "@jupyter-widgets/output",
      "model_module_version": "1.0.0",
      "model_name": "OutputModel",
      "state": {
       "layout": "IPY_MODEL_0f3497ae3003459c86b8ade7f14043e6"
      }
     },
     "cf55b0671f2041deb62fb558be055163": {
      "model_module": "@jupyter-widgets/controls",
      "model_module_version": "1.5.0",
      "model_name": "BoundedFloatTextModel",
      "state": {
       "continuous_update": true,
       "description": "prob twice:",
       "layout": "IPY_MODEL_3776c3a0e744487fb891004409eb7b23",
       "max": 1,
       "step": 0.01,
       "style": "IPY_MODEL_6ef283b7e51e4599ab6ee517330bd199",
       "value": 0.01
      }
     },
     "cf73e7f08bf84100a749f774a339d453": {
      "model_module": "@jupyter-widgets/base",
      "model_module_version": "1.2.0",
      "model_name": "LayoutModel",
      "state": {}
     },
     "d0651b35bcb24ead8618624743a8f18e": {
      "model_module": "@jupyter-widgets/controls",
      "model_module_version": "1.5.0",
      "model_name": "BoundedFloatTextModel",
      "state": {
       "description": "prob twice:",
       "layout": "IPY_MODEL_a99a186923954c8d8b7637ee5f878381",
       "max": 1,
       "step": 0.01,
       "style": "IPY_MODEL_be63c38f2ef84f9fb8e32c7685d6747a",
       "value": 0.05
      }
     },
     "d090f68cd593439a82d4d524ab871d57": {
      "model_module": "@jupyter-widgets/controls",
      "model_module_version": "1.5.0",
      "model_name": "DescriptionStyleModel",
      "state": {
       "description_width": ""
      }
     },
     "d0c6963c046f435d92945970467c16dc": {
      "model_module": "@jupyter-widgets/controls",
      "model_module_version": "1.5.0",
      "model_name": "HTMLModel",
      "state": {
       "layout": "IPY_MODEL_97e5f48ed930426387d52345e22cc354",
       "style": "IPY_MODEL_97ac59d6fc1e471eb3b4f2a167a002b5",
       "value": "Mouse number threshold for calling overabundant barcodes:"
      }
     },
     "d0f1729ee520489abdb2f86ed0479ae5": {
      "model_module": "@jupyter-widgets/base",
      "model_module_version": "1.2.0",
      "model_name": "LayoutModel",
      "state": {}
     },
     "d180ec4328714bc5b95f6a24682c068d": {
      "model_module": "@jupyter-widgets/controls",
      "model_module_version": "1.5.0",
      "model_name": "DescriptionStyleModel",
      "state": {
       "description_width": ""
      }
     },
     "d20f5c0015ab44a6bb2056363e4d5dea": {
      "model_module": "@jupyter-widgets/controls",
      "model_module_version": "1.5.0",
      "model_name": "DescriptionStyleModel",
      "state": {
       "description_width": ""
      }
     },
     "d23bd3d80a5b4956862928d491e0cdcc": {
      "model_module": "@jupyter-widgets/controls",
      "model_module_version": "1.5.0",
      "model_name": "BoundedFloatTextModel",
      "state": {
       "description": "prob twice:",
       "layout": "IPY_MODEL_15577dfb24f84e42b4a040fb191a2637",
       "max": 1,
       "step": 0.01,
       "style": "IPY_MODEL_895b2ac26ef44771beda70997a9845df",
       "value": 0.05
      }
     },
     "d26d2b3b48e7442388e18411d1b2b200": {
      "model_module": "@jupyter-widgets/controls",
      "model_module_version": "1.5.0",
      "model_name": "HTMLModel",
      "state": {
       "layout": "IPY_MODEL_0c9dba74e7904a62bb3999322a8df197",
       "style": "IPY_MODEL_9b598f1ce1c74c3c8f61aa56dc8c665f",
       "value": "Mouse number threshold:"
      }
     },
     "d2804bae72dc4526a40ec3f7c66e42c2": {
      "model_module": "@jupyter-widgets/base",
      "model_module_version": "1.2.0",
      "model_name": "LayoutModel",
      "state": {}
     },
     "d33bc584181b4a708b1fefe4c33f3f5a": {
      "model_module": "@jupyter-widgets/base",
      "model_module_version": "1.2.0",
      "model_name": "LayoutModel",
      "state": {}
     },
     "d47dc88bafec45b399de4b279c7ab592": {
      "model_module": "@jupyter-widgets/controls",
      "model_module_version": "1.5.0",
      "model_name": "BoundedFloatTextModel",
      "state": {
       "description": "prob twice:",
       "layout": "IPY_MODEL_de9913384d04477097ef5918ba42e5cb",
       "max": 1,
       "step": 0.01,
       "style": "IPY_MODEL_993376d5ae134cde999f71e3d22cbb38",
       "value": 0.05
      }
     },
     "d52d0438690e43ba903c5118edf593d2": {
      "model_module": "@jupyter-widgets/output",
      "model_module_version": "1.0.0",
      "model_name": "OutputModel",
      "state": {
       "layout": "IPY_MODEL_a14d2c3cbf6c4154a4f0d967e5871a5a",
       "outputs": [
        {
         "data": {
          "image/png": "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\n",
          "text/plain": "<Figure size 1080x360 with 2 Axes>"
         },
         "metadata": {},
         "output_type": "display_data"
        }
       ]
      }
     },
     "d53706d1670b45f5ace8ece2b41be8e5": {
      "model_module": "@jupyter-widgets/controls",
      "model_module_version": "1.5.0",
      "model_name": "HTMLModel",
      "state": {
       "layout": "IPY_MODEL_2262ac2c4e7d4431b255084d7e79113d",
       "style": "IPY_MODEL_8248020dce6b4627a77ac2fb459df872",
       "value": "False negative rate: 0.0\n False positive rate: 0.05348647429468366"
      }
     },
     "d54e9af34d244b45b116503753d65e0b": {
      "model_module": "@jupyter-widgets/base",
      "model_module_version": "1.2.0",
      "model_name": "LayoutModel",
      "state": {}
     },
     "d57d7e20f1a34d58a63e5270229d26e1": {
      "model_module": "@jupyter-widgets/controls",
      "model_module_version": "1.5.0",
      "model_name": "HTMLModel",
      "state": {
       "layout": "IPY_MODEL_9937387001314e868780af9bdff49498",
       "style": "IPY_MODEL_6be5be6703c044e79ccfa6fd16356b83",
       "value": "Threshold probability of generating two or more of a particular barcode independently in a mouse:"
      }
     },
     "d5b2fb4e85b0497d8262ed91554607b4": {
      "model_module": "@jupyter-widgets/output",
      "model_module_version": "1.0.0",
      "model_name": "OutputModel",
      "state": {
       "layout": "IPY_MODEL_dcc0b5cec0844648875d536d606e78f5",
       "outputs": [
        {
         "data": {
          "image/png": "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\n",
          "text/plain": "<Figure size 432x288 with 1 Axes>"
         },
         "metadata": {
          "needs_background": "light"
         },
         "output_type": "display_data"
        }
       ]
      }
     },
     "d5b7d8ee6ca24aada80de3927adc2033": {
      "model_module": "@jupyter-widgets/controls",
      "model_module_version": "1.5.0",
      "model_name": "BoundedIntTextModel",
      "state": {
       "continuous_update": true,
       "description": "number of cells:",
       "layout": "IPY_MODEL_bd4fa4b55b7240bf9f5495775194d6c9",
       "max": 1e+40,
       "style": "IPY_MODEL_a5494580b73f4680b8ea7c1fd5236e4c",
       "value": 10000
      }
     },
     "d605df3c53e94044ab17e7c950f72b27": {
      "model_module": "@jupyter-widgets/controls",
      "model_module_version": "1.5.0",
      "model_name": "BoundedIntTextModel",
      "state": {
       "layout": "IPY_MODEL_f721213ab39446a19bc0b74fdddd1cbc",
       "max": 10000,
       "style": "IPY_MODEL_13cd7fed10ed40bdbf8e4ce9e960d572",
       "value": 5
      }
     },
     "d6be4fe92ec54acaa4d3477f30e43944": {
      "model_module": "@jupyter-widgets/base",
      "model_module_version": "1.2.0",
      "model_name": "LayoutModel",
      "state": {}
     },
     "d7584771fb124eccb89a8a851574b9d6": {
      "model_module": "@jupyter-widgets/base",
      "model_module_version": "1.2.0",
      "model_name": "LayoutModel",
      "state": {}
     },
     "d799b93234914d93b8c94eab393a2422": {
      "model_module": "@jupyter-widgets/controls",
      "model_module_version": "1.5.0",
      "model_name": "DescriptionStyleModel",
      "state": {
       "description_width": ""
      }
     },
     "d8086865ea3d45f8b4874146258af66c": {
      "model_module": "@jupyter-widgets/controls",
      "model_module_version": "1.5.0",
      "model_name": "HTMLModel",
      "state": {
       "layout": "IPY_MODEL_c944ee7126464d86a0485c3f8dab8469",
       "style": "IPY_MODEL_097abd09bba346c29bb3fc79aa05dd56",
       "value": "Number of cells per mouse with barcodes induced:"
      }
     },
     "d863c5c5cd88418092b4034445fe3fc0": {
      "model_module": "@jupyter-widgets/output",
      "model_module_version": "1.0.0",
      "model_name": "OutputModel",
      "state": {
       "layout": "IPY_MODEL_40f943ca99164f3d929874c73afdd7af",
       "outputs": [
        {
         "data": {
          "image/png": "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\n",
          "text/plain": "<Figure size 1080x360 with 2 Axes>"
         },
         "metadata": {},
         "output_type": "display_data"
        }
       ]
      }
     },
     "d8dd7824d22f4930a6e8aa2f4a640a40": {
      "model_module": "@jupyter-widgets/base",
      "model_module_version": "1.2.0",
      "model_name": "LayoutModel",
      "state": {}
     },
     "d8e492a9a9b943be912a21719234f631": {
      "model_module": "@jupyter-widgets/base",
      "model_module_version": "1.2.0",
      "model_name": "LayoutModel",
      "state": {}
     },
     "d93d045b81d14f7bac7f11d24e528e9f": {
      "model_module": "@jupyter-widgets/controls",
      "model_module_version": "1.5.0",
      "model_name": "DescriptionStyleModel",
      "state": {
       "description_width": ""
      }
     },
     "d944317392f94225816cebd81dba422d": {
      "model_module": "@jupyter-widgets/base",
      "model_module_version": "1.2.0",
      "model_name": "LayoutModel",
      "state": {}
     },
     "d972faad0b5b42dd8ac039f002b01659": {
      "model_module": "@jupyter-widgets/base",
      "model_module_version": "1.2.0",
      "model_name": "LayoutModel",
      "state": {}
     },
     "d9f2db816c30479dbc529448f103f65e": {
      "model_module": "@jupyter-widgets/base",
      "model_module_version": "1.2.0",
      "model_name": "LayoutModel",
      "state": {}
     },
     "d9fca61511eb476394b25e1e2862099a": {
      "model_module": "@jupyter-widgets/output",
      "model_module_version": "1.0.0",
      "model_name": "OutputModel",
      "state": {
       "layout": "IPY_MODEL_d8e492a9a9b943be912a21719234f631",
       "outputs": [
        {
         "data": {
          "image/png": "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\n",
          "text/plain": "<Figure size 1080x360 with 2 Axes>"
         },
         "metadata": {},
         "output_type": "display_data"
        }
       ]
      }
     },
     "da7e6e0a24ab48ca98b20ac3fe1d2144": {
      "model_module": "@jupyter-widgets/controls",
      "model_module_version": "1.5.0",
      "model_name": "DescriptionStyleModel",
      "state": {
       "description_width": ""
      }
     },
     "db1c75c8a8834dd5a6568be303651e22": {
      "model_module": "@jupyter-widgets/controls",
      "model_module_version": "1.5.0",
      "model_name": "DescriptionStyleModel",
      "state": {
       "description_width": ""
      }
     },
     "db3caa790dff4a9ea52a309802a130f0": {
      "model_module": "@jupyter-widgets/base",
      "model_module_version": "1.2.0",
      "model_name": "LayoutModel",
      "state": {}
     },
     "db6b28dee1e14296b0a15890f5ff5bce": {
      "model_module": "@jupyter-widgets/base",
      "model_module_version": "1.2.0",
      "model_name": "LayoutModel",
      "state": {
       "height": "100px",
       "width": "100%"
      }
     },
     "dbad5cb0c1434571a5fff812c5d3aedd": {
      "model_module": "@jupyter-widgets/base",
      "model_module_version": "1.2.0",
      "model_name": "LayoutModel",
      "state": {
       "height": "100px",
       "width": "100%"
      }
     },
     "dc7e2cfb40db4555ac19af2d20e5284b": {
      "model_module": "@jupyter-widgets/controls",
      "model_module_version": "1.5.0",
      "model_name": "DescriptionStyleModel",
      "state": {
       "description_width": ""
      }
     },
     "dcc0b5cec0844648875d536d606e78f5": {
      "model_module": "@jupyter-widgets/base",
      "model_module_version": "1.2.0",
      "model_name": "LayoutModel",
      "state": {
       "height": "350px"
      }
     },
     "dd2079bfff17457080cd72a153018dc4": {
      "model_module": "@jupyter-widgets/controls",
      "model_module_version": "1.5.0",
      "model_name": "DescriptionStyleModel",
      "state": {
       "description_width": ""
      }
     },
     "dd5b3714ad4945a3a999e1b90a0f6d92": {
      "model_module": "@jupyter-widgets/controls",
      "model_module_version": "1.5.0",
      "model_name": "BoundedIntTextModel",
      "state": {
       "continuous_update": true,
       "description": "number of cells:",
       "layout": "IPY_MODEL_9f558c78e9f34837afc583a4ead841e0",
       "max": 1e+40,
       "style": "IPY_MODEL_e3773a807cf24ef485685b9b3292ca27",
       "value": 10000
      }
     },
     "dd9d895e26674ae8b9503659ae8fd6d5": {
      "model_module": "@jupyter-widgets/base",
      "model_module_version": "1.2.0",
      "model_name": "LayoutModel",
      "state": {}
     },
     "ddb8dfe89aaf4662987bc5a70cbe272a": {
      "model_module": "@jupyter-widgets/controls",
      "model_module_version": "1.5.0",
      "model_name": "BoundedIntTextModel",
      "state": {
       "description": "number of mice:",
       "layout": "IPY_MODEL_5f44fccb1b294c6fa30af329164594d4",
       "max": 10000,
       "style": "IPY_MODEL_0fa706ce0e5b48018635ee80ee809cda",
       "value": 5
      }
     },
     "de839578395f4b6b91ae470f5c32b575": {
      "model_module": "@jupyter-widgets/base",
      "model_module_version": "1.2.0",
      "model_name": "LayoutModel",
      "state": {}
     },
     "de9913384d04477097ef5918ba42e5cb": {
      "model_module": "@jupyter-widgets/base",
      "model_module_version": "1.2.0",
      "model_name": "LayoutModel",
      "state": {}
     },
     "deb6cc0a7d3a444d8791f0c146fce68a": {
      "model_module": "@jupyter-widgets/controls",
      "model_module_version": "1.5.0",
      "model_name": "DescriptionStyleModel",
      "state": {
       "description_width": ""
      }
     },
     "deb908cb86b34307b43eec1669edf5c1": {
      "model_module": "@jupyter-widgets/base",
      "model_module_version": "1.2.0",
      "model_name": "LayoutModel",
      "state": {}
     },
     "df0d87de72dd44198b9e95df360f66c8": {
      "model_module": "@jupyter-widgets/controls",
      "model_module_version": "1.5.0",
      "model_name": "BoundedFloatTextModel",
      "state": {
       "layout": "IPY_MODEL_c6af29193fe84585a06a2fcb1b29f0fb",
       "max": 1,
       "step": 0.01,
       "style": "IPY_MODEL_42abf7beca544fcabe10f7726a092cd9",
       "value": 0.05
      }
     },
     "df114e37731144559547337232c2e99b": {
      "model_module": "@jupyter-widgets/output",
      "model_module_version": "1.0.0",
      "model_name": "OutputModel",
      "state": {
       "layout": "IPY_MODEL_00337cdb100b4247a769773727d7ebac",
       "outputs": [
        {
         "data": {
          "image/png": "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\n",
          "text/plain": "<Figure size 1080x360 with 2 Axes>"
         },
         "metadata": {},
         "output_type": "display_data"
        }
       ]
      }
     },
     "df22d251c395441ca10e6d3c4e5dd5d9": {
      "model_module": "@jupyter-widgets/controls",
      "model_module_version": "1.5.0",
      "model_name": "DescriptionStyleModel",
      "state": {
       "description_width": ""
      }
     },
     "df99ea9f11484fd49b1dd7d784d64045": {
      "model_module": "@jupyter-widgets/controls",
      "model_module_version": "1.5.0",
      "model_name": "BoundedIntTextModel",
      "state": {
       "continuous_update": true,
       "description": "number of cells:",
       "layout": "IPY_MODEL_1ca7cf2f6fa040d78f74639845865092",
       "max": 1e+40,
       "style": "IPY_MODEL_8868e4107fce4396a885f8e306680d8b",
       "value": 10000
      }
     },
     "dfa87c2a6c474e2b96d036163e19d9fc": {
      "model_module": "@jupyter-widgets/controls",
      "model_module_version": "1.5.0",
      "model_name": "DescriptionStyleModel",
      "state": {
       "description_width": ""
      }
     },
     "e081de28fc7b464baf4ddfd8b5e217ec": {
      "model_module": "@jupyter-widgets/base",
      "model_module_version": "1.2.0",
      "model_name": "LayoutModel",
      "state": {}
     },
     "e0f0b1317f054023ba6aaeb0f5164df1": {
      "model_module": "@jupyter-widgets/base",
      "model_module_version": "1.2.0",
      "model_name": "LayoutModel",
      "state": {}
     },
     "e2277a64a3614f7682d45c56f0041aaa": {
      "model_module": "@jupyter-widgets/base",
      "model_module_version": "1.2.0",
      "model_name": "LayoutModel",
      "state": {}
     },
     "e27a5ddbc441451d82a2f801464ecd90": {
      "model_module": "@jupyter-widgets/controls",
      "model_module_version": "1.5.0",
      "model_name": "DescriptionStyleModel",
      "state": {
       "description_width": ""
      }
     },
     "e3773a807cf24ef485685b9b3292ca27": {
      "model_module": "@jupyter-widgets/controls",
      "model_module_version": "1.5.0",
      "model_name": "DescriptionStyleModel",
      "state": {
       "description_width": ""
      }
     },
     "e416ad60cbb64c23bb1837e06e0e5dcd": {
      "model_module": "@jupyter-widgets/base",
      "model_module_version": "1.2.0",
      "model_name": "LayoutModel",
      "state": {}
     },
     "e43e7e093f584987888b73cd347398ce": {
      "model_module": "@jupyter-widgets/controls",
      "model_module_version": "1.5.0",
      "model_name": "BoundedIntTextModel",
      "state": {
       "continuous_update": true,
       "description": "mouse threshold:",
       "layout": "IPY_MODEL_1bf86efa28b94508b1daa19dbebca006",
       "max": 1e+40,
       "style": "IPY_MODEL_6c0b00e5cc1e44f7bc01a8a0fad961cc",
       "value": 2
      }
     },
     "e447481ed7054bca86924a019fffddd2": {
      "model_module": "@jupyter-widgets/base",
      "model_module_version": "1.2.0",
      "model_name": "LayoutModel",
      "state": {}
     },
     "e45674f2357d4ac69abddebabe974291": {
      "model_module": "@jupyter-widgets/base",
      "model_module_version": "1.2.0",
      "model_name": "LayoutModel",
      "state": {}
     },
     "e5cdf2e1ac6541a2ac9ef5afeaec8cfd": {
      "model_module": "@jupyter-widgets/base",
      "model_module_version": "1.2.0",
      "model_name": "LayoutModel",
      "state": {}
     },
     "e609f7357f0247e8991ae8d43b004809": {
      "model_module": "@jupyter-widgets/base",
      "model_module_version": "1.2.0",
      "model_name": "LayoutModel",
      "state": {}
     },
     "e632e2bd76c64ce9893ef6d0d39b1a8e": {
      "model_module": "@jupyter-widgets/controls",
      "model_module_version": "1.5.0",
      "model_name": "BoundedIntTextModel",
      "state": {
       "continuous_update": true,
       "description": "number of mice:",
       "layout": "IPY_MODEL_0bd2ed3941a14339a670fd91a4a1c8ad",
       "max": 10000,
       "style": "IPY_MODEL_cb6ba2b803e245248ecacf200dd8229e",
       "value": 5
      }
     },
     "e636c402c86d4fb6b8dcd82e9c584d43": {
      "model_module": "@jupyter-widgets/base",
      "model_module_version": "1.2.0",
      "model_name": "LayoutModel",
      "state": {}
     },
     "e6931e458eb54126a51f97db6f2868ca": {
      "model_module": "@jupyter-widgets/base",
      "model_module_version": "1.2.0",
      "model_name": "LayoutModel",
      "state": {}
     },
     "e7007221dde443678197546a3e6f18e6": {
      "model_module": "@jupyter-widgets/controls",
      "model_module_version": "1.5.0",
      "model_name": "DescriptionStyleModel",
      "state": {
       "description_width": ""
      }
     },
     "e76feb277b61471db854dac53fd5107f": {
      "model_module": "@jupyter-widgets/base",
      "model_module_version": "1.2.0",
      "model_name": "LayoutModel",
      "state": {}
     },
     "e7dbc0c746434845b406b9528e6aa76f": {
      "model_module": "@jupyter-widgets/base",
      "model_module_version": "1.2.0",
      "model_name": "LayoutModel",
      "state": {}
     },
     "e7f466f3de524dc1b91c647b946d0c5e": {
      "model_module": "@jupyter-widgets/controls",
      "model_module_version": "1.5.0",
      "model_name": "BoundedFloatTextModel",
      "state": {
       "continuous_update": true,
       "layout": "IPY_MODEL_ae2d5e9d9cca4e1aa0e77938e9fa5669",
       "max": 1,
       "step": 0.01,
       "style": "IPY_MODEL_8589fd7547654143aa81ed20790975f8",
       "value": 0.55
      }
     },
     "e866fadd8dc14b8e876dbaf36a97b1a1": {
      "model_module": "@jupyter-widgets/controls",
      "model_module_version": "1.5.0",
      "model_name": "HTMLModel",
      "state": {
       "layout": "IPY_MODEL_43a7de5381b643669171337be3d11c7d",
       "style": "IPY_MODEL_993cd39239094d27bd08166f852aa78c",
       "value": "Number of cells per mouse with barcodes induced:"
      }
     },
     "e8f20e225b824af1bc603f815370a3df": {
      "model_module": "@jupyter-widgets/base",
      "model_module_version": "1.2.0",
      "model_name": "LayoutModel",
      "state": {}
     },
     "e8ffb94f2c69463d8d8e895ebd870b98": {
      "model_module": "@jupyter-widgets/base",
      "model_module_version": "1.2.0",
      "model_name": "LayoutModel",
      "state": {}
     },
     "e9aad5ce84d645ce882396067d71e776": {
      "model_module": "@jupyter-widgets/controls",
      "model_module_version": "1.5.0",
      "model_name": "HTMLModel",
      "state": {
       "layout": "IPY_MODEL_29374fa7684c42209d13a0e9ebb90c28",
       "style": "IPY_MODEL_386e08502bbe43e5b9e2110ff112a4eb",
       "value": "False negative rate: 7.657652408697585e-21\n False positive rate: 0.060307394945277315"
      }
     },
     "e9bba9d0f86443d9a10ea71b83322337": {
      "model_module": "@jupyter-widgets/base",
      "model_module_version": "1.2.0",
      "model_name": "LayoutModel",
      "state": {}
     },
     "ea1c02c86b8047359162ef5c258261ea": {
      "model_module": "@jupyter-widgets/base",
      "model_module_version": "1.2.0",
      "model_name": "LayoutModel",
      "state": {}
     },
     "ea53476dce404537ad2e98d30dcc5916": {
      "model_module": "@jupyter-widgets/base",
      "model_module_version": "1.2.0",
      "model_name": "LayoutModel",
      "state": {}
     },
     "ea5c05a744e94e32b18404b37bdcf4b8": {
      "model_module": "@jupyter-widgets/controls",
      "model_module_version": "1.5.0",
      "model_name": "HTMLModel",
      "state": {
       "layout": "IPY_MODEL_5abfc7c6f7a24b74a88085a5886b2473",
       "style": "IPY_MODEL_ca1a8f9839e545e6a95d27e5389bb745",
       "value": "Number of cells per mouse with barcodes induced:"
      }
     },
     "ea6e3db9785143339153bb8785b3af7d": {
      "model_module": "@jupyter-widgets/base",
      "model_module_version": "1.2.0",
      "model_name": "LayoutModel",
      "state": {}
     },
     "ea7b70332953404fb76cb46e4894f61e": {
      "model_module": "@jupyter-widgets/base",
      "model_module_version": "1.2.0",
      "model_name": "LayoutModel",
      "state": {}
     },
     "ead73a96bd574d46ba80a0f7efd47fac": {
      "model_module": "@jupyter-widgets/output",
      "model_module_version": "1.0.0",
      "model_name": "OutputModel",
      "state": {
       "layout": "IPY_MODEL_8e21ef20c56b42aab3f156195ad9d088",
       "outputs": [
        {
         "data": {
          "image/png": "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\n",
          "text/plain": "<Figure size 1080x360 with 2 Axes>"
         },
         "metadata": {},
         "output_type": "display_data"
        }
       ]
      }
     },
     "ead87f7331564447b3462d6719f9a391": {
      "model_module": "@jupyter-widgets/controls",
      "model_module_version": "1.5.0",
      "model_name": "BoundedIntTextModel",
      "state": {
       "continuous_update": true,
       "description": "number of mice:",
       "layout": "IPY_MODEL_fdd3e0582d1a45daa1a7d1bdf2807337",
       "max": 10000,
       "style": "IPY_MODEL_3f2a2a85f14a42eea1c7eeaba2ad8eb1",
       "value": 20
      }
     },
     "eb16be1403f9412e8f9665c6f4810972": {
      "model_module": "@jupyter-widgets/output",
      "model_module_version": "1.0.0",
      "model_name": "OutputModel",
      "state": {
       "layout": "IPY_MODEL_e45674f2357d4ac69abddebabe974291",
       "outputs": [
        {
         "data": {
          "image/png": "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\n",
          "text/plain": "<Figure size 1080x360 with 2 Axes>"
         },
         "metadata": {},
         "output_type": "display_data"
        }
       ]
      }
     },
     "ebcb25d7e49a4aeeaab3eb8a2706bb88": {
      "model_module": "@jupyter-widgets/controls",
      "model_module_version": "1.5.0",
      "model_name": "DescriptionStyleModel",
      "state": {
       "description_width": ""
      }
     },
     "ebda96ce8cc041fd9010be7040c08da9": {
      "model_module": "@jupyter-widgets/controls",
      "model_module_version": "1.5.0",
      "model_name": "DescriptionStyleModel",
      "state": {
       "description_width": ""
      }
     },
     "ebfeceea501d40319b3821a0115cd82b": {
      "model_module": "@jupyter-widgets/controls",
      "model_module_version": "1.5.0",
      "model_name": "DescriptionStyleModel",
      "state": {
       "description_width": ""
      }
     },
     "ec0fc12bb557435ba9b4f06d28a683b7": {
      "model_module": "@jupyter-widgets/controls",
      "model_module_version": "1.5.0",
      "model_name": "HBoxModel",
      "state": {
       "children": [
        "IPY_MODEL_4eb87214d4164cf9a0f1d916688cce45",
        "IPY_MODEL_f8a53f3d05ce430188ee42ecfe223370"
       ],
       "layout": "IPY_MODEL_9dcd8d171ed64fd39238008469d57ee1"
      }
     },
     "ec5b77ee14234d4b9cc4b345b815d947": {
      "model_module": "@jupyter-widgets/controls",
      "model_module_version": "1.5.0",
      "model_name": "DescriptionStyleModel",
      "state": {
       "description_width": ""
      }
     },
     "ec5d34014b36498393060ecbcaa84b5f": {
      "model_module": "@jupyter-widgets/controls",
      "model_module_version": "1.5.0",
      "model_name": "HTMLModel",
      "state": {
       "layout": "IPY_MODEL_a09d36a9059743bf87bae5f3e06bfa43",
       "style": "IPY_MODEL_3bbc4042323f411884f5adb6f17f4d55",
       "value": "Number of cells per mouse with barcodes induced:"
      }
     },
     "ec715aafb71348398d5525c66499b793": {
      "model_module": "@jupyter-widgets/controls",
      "model_module_version": "1.5.0",
      "model_name": "DescriptionStyleModel",
      "state": {
       "description_width": ""
      }
     },
     "ec9f80daab7d4871aa79856938ed1e0a": {
      "model_module": "@jupyter-widgets/base",
      "model_module_version": "1.2.0",
      "model_name": "LayoutModel",
      "state": {}
     },
     "ecff30632c60428c8dd408c5c47fd2cd": {
      "model_module": "@jupyter-widgets/controls",
      "model_module_version": "1.5.0",
      "model_name": "DescriptionStyleModel",
      "state": {
       "description_width": ""
      }
     },
     "ed238c9cfcaf4b1e9b3d942214eaa018": {
      "model_module": "@jupyter-widgets/controls",
      "model_module_version": "1.5.0",
      "model_name": "DescriptionStyleModel",
      "state": {
       "description_width": ""
      }
     },
     "ed688dac880d4c4b97f2500aa058925f": {
      "model_module": "@jupyter-widgets/controls",
      "model_module_version": "1.5.0",
      "model_name": "HTMLModel",
      "state": {
       "layout": "IPY_MODEL_41b6ab242da64cf79de3e1bd6c2f8c55",
       "style": "IPY_MODEL_803c9b36f3a040759d32e7f526a4b222",
       "value": "Total number of mice used:"
      }
     },
     "ee32656e81c94dbd81d649374e65cbb3": {
      "model_module": "@jupyter-widgets/controls",
      "model_module_version": "1.5.0",
      "model_name": "DescriptionStyleModel",
      "state": {
       "description_width": ""
      }
     },
     "ef7d6d24c3b94f00ab3fdc17aec00038": {
      "model_module": "@jupyter-widgets/controls",
      "model_module_version": "1.5.0",
      "model_name": "DescriptionStyleModel",
      "state": {
       "description_width": ""
      }
     },
     "ef8a42d2bcec47f0b7d1a42b1d6cf458": {
      "model_module": "@jupyter-widgets/output",
      "model_module_version": "1.0.0",
      "model_name": "OutputModel",
      "state": {
       "layout": "IPY_MODEL_9c0c72b26aae47ef85aa0a523e68e695",
       "outputs": [
        {
         "name": "stdout",
         "output_type": "stream",
         "text": "10\n13\n14\n15\n90\n"
        }
       ]
      }
     },
     "ef8af96a16954f6e80ea7727976ce9b5": {
      "model_module": "@jupyter-widgets/controls",
      "model_module_version": "1.5.0",
      "model_name": "BoundedFloatTextModel",
      "state": {
       "continuous_update": true,
       "description": "prob twice:",
       "layout": "IPY_MODEL_6c9291a4de464e7bbd1f89dd0bfbd773",
       "max": 1,
       "step": 0.01,
       "style": "IPY_MODEL_ff5cb3e9267c4b1c9fd81059b896d683",
       "value": 0.05
      }
     },
     "f00833bfe83a44c88c880e4fb83a6eda": {
      "model_module": "@jupyter-widgets/base",
      "model_module_version": "1.2.0",
      "model_name": "LayoutModel",
      "state": {}
     },
     "f037dfdb4ad1488a9e34ca3871716093": {
      "model_module": "@jupyter-widgets/controls",
      "model_module_version": "1.5.0",
      "model_name": "BoundedIntTextModel",
      "state": {
       "description": "number of cells:",
       "layout": "IPY_MODEL_a5ecdfbfed3943d3a2f0babcad873108",
       "max": 1e+40,
       "style": "IPY_MODEL_1f47166d22574ae581d5c9c13db09d7c",
       "value": 10000
      }
     },
     "f154955816ac46899319ae2a7618e4c5": {
      "model_module": "@jupyter-widgets/controls",
      "model_module_version": "1.5.0",
      "model_name": "HBoxModel",
      "state": {
       "children": [
        "IPY_MODEL_0dc66feac2c24a5184b536a9fe774eb1",
        "IPY_MODEL_0649d5b184ee42f6a71986cda7fd453b"
       ],
       "layout": "IPY_MODEL_5470ef69806c472ea2e0c80c05d342f1"
      }
     },
     "f162e155694443b28f88b64dcacb4016": {
      "model_module": "@jupyter-widgets/base",
      "model_module_version": "1.2.0",
      "model_name": "LayoutModel",
      "state": {}
     },
     "f1c811b333cf45038ef97a9634ede6aa": {
      "model_module": "@jupyter-widgets/controls",
      "model_module_version": "1.5.0",
      "model_name": "DescriptionStyleModel",
      "state": {
       "description_width": ""
      }
     },
     "f1efbcdff7ae45e4ba8c7af771e32e29": {
      "model_module": "@jupyter-widgets/base",
      "model_module_version": "1.2.0",
      "model_name": "LayoutModel",
      "state": {}
     },
     "f25fc189fadf4cbe953360e3c846c5f8": {
      "model_module": "@jupyter-widgets/controls",
      "model_module_version": "1.5.0",
      "model_name": "DescriptionStyleModel",
      "state": {
       "description_width": ""
      }
     },
     "f2fb48c3bf73428b8bf1c82a50a05972": {
      "model_module": "@jupyter-widgets/base",
      "model_module_version": "1.2.0",
      "model_name": "LayoutModel",
      "state": {}
     },
     "f320f3c2eed64167b6602f6d3de5be43": {
      "model_module": "@jupyter-widgets/controls",
      "model_module_version": "1.5.0",
      "model_name": "HBoxModel",
      "state": {
       "children": [
        "IPY_MODEL_619a0725dabb48308f72f7a84ed8b0c8",
        "IPY_MODEL_ef8af96a16954f6e80ea7727976ce9b5"
       ],
       "layout": "IPY_MODEL_5526a7ef1ace4412b5119f2cde0c2dff"
      }
     },
     "f38f3415d0004bf1b5b0ebca990d247c": {
      "model_module": "@jupyter-widgets/base",
      "model_module_version": "1.2.0",
      "model_name": "LayoutModel",
      "state": {}
     },
     "f3b2c52a70024012b4decc3f25aa8d57": {
      "model_module": "@jupyter-widgets/controls",
      "model_module_version": "1.5.0",
      "model_name": "BoundedIntTextModel",
      "state": {
       "description": "mouse threshold:",
       "layout": "IPY_MODEL_883a1965ecf042c5a206b98a394653d6",
       "max": 1e+40,
       "style": "IPY_MODEL_764153fdab3e45009cb60e84d286bd64",
       "value": 2
      }
     },
     "f3eee27bcd2540e59c0fba1e609ed282": {
      "model_module": "@jupyter-widgets/controls",
      "model_module_version": "1.5.0",
      "model_name": "DescriptionStyleModel",
      "state": {
       "description_width": ""
      }
     },
     "f4c33648109243abb22f86c29d1bc26e": {
      "model_module": "@jupyter-widgets/controls",
      "model_module_version": "1.5.0",
      "model_name": "DescriptionStyleModel",
      "state": {
       "description_width": ""
      }
     },
     "f55ffb4c2a6543a8880bf80d925e321f": {
      "model_module": "@jupyter-widgets/controls",
      "model_module_version": "1.5.0",
      "model_name": "DescriptionStyleModel",
      "state": {
       "description_width": ""
      }
     },
     "f56daf20d7fb474d90512816651e1b8c": {
      "model_module": "@jupyter-widgets/controls",
      "model_module_version": "1.5.0",
      "model_name": "HTMLModel",
      "state": {
       "layout": "IPY_MODEL_b7dfbd237c1a4b7ca140bb4dc743f3b2",
       "style": "IPY_MODEL_210fa8a670d043148be7ef4dffce9a7b",
       "value": "False negative rate: 1.1899381983884467e-34\n False positive rate: 0.042109073424333426"
      }
     },
     "f5d9f989bab64d1ea9fd9f8beaa20e09": {
      "model_module": "@jupyter-widgets/base",
      "model_module_version": "1.2.0",
      "model_name": "LayoutModel",
      "state": {}
     },
     "f647ff97eb814c57b89fa6f438f1875e": {
      "model_module": "@jupyter-widgets/output",
      "model_module_version": "1.0.0",
      "model_name": "OutputModel",
      "state": {
       "layout": "IPY_MODEL_9e8a2da5fc474659be3de1ffedf6bc80",
       "outputs": [
        {
         "data": {
          "image/png": "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\n",
          "text/plain": "<Figure size 1080x360 with 2 Axes>"
         },
         "metadata": {},
         "output_type": "display_data"
        }
       ]
      }
     },
     "f672531163bf4f15b1f441b8769ddb47": {
      "model_module": "@jupyter-widgets/base",
      "model_module_version": "1.2.0",
      "model_name": "LayoutModel",
      "state": {}
     },
     "f6eb205cac4643628900aced9553802b": {
      "model_module": "@jupyter-widgets/controls",
      "model_module_version": "1.5.0",
      "model_name": "DescriptionStyleModel",
      "state": {
       "description_width": ""
      }
     },
     "f717b598bd04420fb3a115433b990581": {
      "model_module": "@jupyter-widgets/base",
      "model_module_version": "1.2.0",
      "model_name": "LayoutModel",
      "state": {}
     },
     "f721213ab39446a19bc0b74fdddd1cbc": {
      "model_module": "@jupyter-widgets/base",
      "model_module_version": "1.2.0",
      "model_name": "LayoutModel",
      "state": {}
     },
     "f730c25123e64013986d4355ee2d680f": {
      "model_module": "@jupyter-widgets/base",
      "model_module_version": "1.2.0",
      "model_name": "LayoutModel",
      "state": {}
     },
     "f85622c367794b0cbdbc96da65eb5f22": {
      "model_module": "@jupyter-widgets/controls",
      "model_module_version": "1.5.0",
      "model_name": "DescriptionStyleModel",
      "state": {
       "description_width": ""
      }
     },
     "f85eda7cd70b4c0a955e0c5d3a19df0c": {
      "model_module": "@jupyter-widgets/base",
      "model_module_version": "1.2.0",
      "model_name": "LayoutModel",
      "state": {}
     },
     "f87bef009e23489abd4cff1d3173649c": {
      "model_module": "@jupyter-widgets/base",
      "model_module_version": "1.2.0",
      "model_name": "LayoutModel",
      "state": {
       "height": "100px",
       "width": "100%"
      }
     },
     "f889906848c64993a6136676702f3eac": {
      "model_module": "@jupyter-widgets/controls",
      "model_module_version": "1.5.0",
      "model_name": "BoundedIntTextModel",
      "state": {
       "continuous_update": true,
       "description": "mouse threshold:",
       "layout": "IPY_MODEL_ea1c02c86b8047359162ef5c258261ea",
       "max": 1e+40,
       "style": "IPY_MODEL_578f69626205451289f537a3c5eedafa",
       "value": 2
      }
     },
     "f88e2673e0a0424eba1c69ff3a1b9535": {
      "model_module": "@jupyter-widgets/controls",
      "model_module_version": "1.5.0",
      "model_name": "BoundedIntTextModel",
      "state": {
       "layout": "IPY_MODEL_fa828a8c81ba4b3cb1088e48ec85925b",
       "max": 1e+40,
       "style": "IPY_MODEL_1350e39edac049ebbbef8a4125bc666b",
       "value": 10000
      }
     },
     "f8a53f3d05ce430188ee42ecfe223370": {
      "model_module": "@jupyter-widgets/controls",
      "model_module_version": "1.5.0",
      "model_name": "BoundedFloatTextModel",
      "state": {
       "continuous_update": true,
       "layout": "IPY_MODEL_a1fe2a4b45f2430ba48eb7ccf5d4e146",
       "max": 1,
       "step": 0.01,
       "style": "IPY_MODEL_4834aad92b6e4f5ca63385a67761d9e8",
       "value": 0.01
      }
     },
     "f8bf8b25e2504bd4a927eb754fd64da3": {
      "model_module": "@jupyter-widgets/controls",
      "model_module_version": "1.5.0",
      "model_name": "HBoxModel",
      "state": {
       "children": [
        "IPY_MODEL_e866fadd8dc14b8e876dbaf36a97b1a1",
        "IPY_MODEL_67e69532b2044acaade35ded1246270d"
       ],
       "layout": "IPY_MODEL_cd689a15b8be42b7bc471514409e8dae"
      }
     },
     "f91d7b8fe8b24e6f82c0102d9d9d7282": {
      "model_module": "@jupyter-widgets/controls",
      "model_module_version": "1.5.0",
      "model_name": "DescriptionStyleModel",
      "state": {
       "description_width": ""
      }
     },
     "f926d1d1703642ccb082b33c2d029777": {
      "model_module": "@jupyter-widgets/controls",
      "model_module_version": "1.5.0",
      "model_name": "HTMLModel",
      "state": {
       "layout": "IPY_MODEL_137f3648c0714052bfe5da525b3d834c",
       "style": "IPY_MODEL_6a4c13efcc2648dca811d86cf9850e18",
       "value": "Number of cells per mouse with barcodes induced:"
      }
     },
     "fa07523eb53648679cd94a806c992022": {
      "model_module": "@jupyter-widgets/base",
      "model_module_version": "1.2.0",
      "model_name": "LayoutModel",
      "state": {}
     },
     "fa31447b4111449bb8742a2db0816553": {
      "model_module": "@jupyter-widgets/controls",
      "model_module_version": "1.5.0",
      "model_name": "BoundedIntTextModel",
      "state": {
       "description": "mouse threshold:",
       "layout": "IPY_MODEL_9ba25bafaf574de8aa4d05f057de6886",
       "max": 10000,
       "style": "IPY_MODEL_5f0332d490bc4cbcab40ff175cfa06dd",
       "value": 5
      }
     },
     "fa4fd3b1acf04c95ae2e0d2c49a89030": {
      "model_module": "@jupyter-widgets/base",
      "model_module_version": "1.2.0",
      "model_name": "LayoutModel",
      "state": {}
     },
     "fa828a8c81ba4b3cb1088e48ec85925b": {
      "model_module": "@jupyter-widgets/base",
      "model_module_version": "1.2.0",
      "model_name": "LayoutModel",
      "state": {}
     },
     "faea822fd683498085bb05102e6852a8": {
      "model_module": "@jupyter-widgets/controls",
      "model_module_version": "1.5.0",
      "model_name": "DescriptionStyleModel",
      "state": {
       "description_width": ""
      }
     },
     "faf4d86d4d084b95acb5205a799609bf": {
      "model_module": "@jupyter-widgets/base",
      "model_module_version": "1.2.0",
      "model_name": "LayoutModel",
      "state": {}
     },
     "fb82aecb0af943748cd9bf77333724d4": {
      "model_module": "@jupyter-widgets/base",
      "model_module_version": "1.2.0",
      "model_name": "LayoutModel",
      "state": {}
     },
     "fbd040735a8343f7b6f50596c6d608a6": {
      "model_module": "@jupyter-widgets/base",
      "model_module_version": "1.2.0",
      "model_name": "LayoutModel",
      "state": {}
     },
     "fc368c38acd84d90855fb1b07cd199c6": {
      "model_module": "@jupyter-widgets/base",
      "model_module_version": "1.2.0",
      "model_name": "LayoutModel",
      "state": {}
     },
     "fcda944979164dc4b9505e403c29998b": {
      "model_module": "@jupyter-widgets/controls",
      "model_module_version": "1.5.0",
      "model_name": "SliderStyleModel",
      "state": {
       "description_width": ""
      }
     },
     "fcdde132112d45c4a9f07c11afc7eca3": {
      "model_module": "@jupyter-widgets/base",
      "model_module_version": "1.2.0",
      "model_name": "LayoutModel",
      "state": {}
     },
     "fd1ac6af2fcd40d7b7dd37d27e3194fe": {
      "model_module": "@jupyter-widgets/controls",
      "model_module_version": "1.5.0",
      "model_name": "HTMLModel",
      "state": {
       "layout": "IPY_MODEL_c423886e8ae144588f719f9c5e3349b3",
       "style": "IPY_MODEL_05e6bd6d34ad4afea2b99ef49b630d3e",
       "value": "False negative rate: 5.646e-08; false positive rate: 2.078e-04"
      }
     },
     "fd1afde45fc041b689540f0628e2d186": {
      "model_module": "@jupyter-widgets/controls",
      "model_module_version": "1.5.0",
      "model_name": "DescriptionStyleModel",
      "state": {
       "description_width": ""
      }
     },
     "fd21d185fb954e1c8f361d01fae37bc8": {
      "model_module": "@jupyter-widgets/base",
      "model_module_version": "1.2.0",
      "model_name": "LayoutModel",
      "state": {}
     },
     "fd3b5506d5bb481faa84418be64fd738": {
      "model_module": "@jupyter-widgets/controls",
      "model_module_version": "1.5.0",
      "model_name": "BoundedFloatTextModel",
      "state": {
       "description": "prob twice:",
       "layout": "IPY_MODEL_fdc98a9b655a42899de4df4f0a153d8d",
       "max": 1,
       "step": 0.01,
       "style": "IPY_MODEL_55981284a4c54c6f97aea0f24d62d38b",
       "value": 0.05
      }
     },
     "fd823869425e439bb93c37b51e08e309": {
      "model_module": "@jupyter-widgets/controls",
      "model_module_version": "1.5.0",
      "model_name": "DescriptionStyleModel",
      "state": {
       "description_width": ""
      }
     },
     "fdc98a9b655a42899de4df4f0a153d8d": {
      "model_module": "@jupyter-widgets/base",
      "model_module_version": "1.2.0",
      "model_name": "LayoutModel",
      "state": {}
     },
     "fdd3e0582d1a45daa1a7d1bdf2807337": {
      "model_module": "@jupyter-widgets/base",
      "model_module_version": "1.2.0",
      "model_name": "LayoutModel",
      "state": {}
     },
     "fdf1e7060cf44238b69afc859b63d740": {
      "model_module": "@jupyter-widgets/output",
      "model_module_version": "1.0.0",
      "model_name": "OutputModel",
      "state": {
       "layout": "IPY_MODEL_d0f1729ee520489abdb2f86ed0479ae5"
      }
     },
     "fe00ce74a7cb49c985f385bdc343b231": {
      "model_module": "@jupyter-widgets/base",
      "model_module_version": "1.2.0",
      "model_name": "LayoutModel",
      "state": {}
     },
     "fe4e6d21e8ed489582217c8ccc450dba": {
      "model_module": "@jupyter-widgets/base",
      "model_module_version": "1.2.0",
      "model_name": "LayoutModel",
      "state": {}
     },
     "fecbb405efc24581af86737332c965f6": {
      "model_module": "@jupyter-widgets/controls",
      "model_module_version": "1.5.0",
      "model_name": "HTMLModel",
      "state": {
       "layout": "IPY_MODEL_b2f7d50b8a9541c4aa9f54ca889bd4b6",
       "style": "IPY_MODEL_3ddd891eca3349eeb1c3d9233daa330d",
       "value": "False negative rate: 0.0010370466747717801\n False positive rate: 0.020299036469872467"
      }
     },
     "fed9baca380443d0911a84216c6235ad": {
      "model_module": "@jupyter-widgets/controls",
      "model_module_version": "1.5.0",
      "model_name": "BoundedIntTextModel",
      "state": {
       "layout": "IPY_MODEL_25cebadbabc04f12abe2b8a05fb78da0",
       "max": 1e+40,
       "style": "IPY_MODEL_2779b6d8a16249999d4f84ae36ff9b92",
       "value": 2
      }
     },
     "ff061686bd984507b45d8a756eeeb6b3": {
      "model_module": "@jupyter-widgets/controls",
      "model_module_version": "1.5.0",
      "model_name": "BoundedIntTextModel",
      "state": {
       "continuous_update": true,
       "layout": "IPY_MODEL_b6d8c340516b4d8c95223915eab4b6aa",
       "max": 1e+40,
       "style": "IPY_MODEL_b66433d2d2064de695a36bbc96fba5c5",
       "value": 2
      }
     },
     "ff5cb3e9267c4b1c9fd81059b896d683": {
      "model_module": "@jupyter-widgets/controls",
      "model_module_version": "1.5.0",
      "model_name": "DescriptionStyleModel",
      "state": {
       "description_width": ""
      }
     },
     "ff9239cc04b741b29607704917130a95": {
      "model_module": "@jupyter-widgets/controls",
      "model_module_version": "1.5.0",
      "model_name": "BoundedIntTextModel",
      "state": {
       "continuous_update": true,
       "description": "mouse threshold:",
       "layout": "IPY_MODEL_ac4a0d182b2746a4aaf29a279fbf7fc1",
       "max": 1e+40,
       "style": "IPY_MODEL_ec5b77ee14234d4b9cc4b345b815d947",
       "value": 1
      }
     },
     "ffbc3b8b8e0a47c9a25d27d6436ab6cb": {
      "model_module": "@jupyter-widgets/base",
      "model_module_version": "1.2.0",
      "model_name": "LayoutModel",
      "state": {}
     },
     "ffc96d8d109f40df9d6428caa47652f4": {
      "model_module": "@jupyter-widgets/controls",
      "model_module_version": "1.5.0",
      "model_name": "BoundedFloatTextModel",
      "state": {
       "continuous_update": true,
       "description": "prob twice:",
       "layout": "IPY_MODEL_0806641a6872467d9939e33ae594c592",
       "max": 1,
       "step": 0.01,
       "style": "IPY_MODEL_d090f68cd593439a82d4d524ab871d57",
       "value": 0.01
      }
     },
     "ffe974160475440299168d9d3bf86e44": {
      "model_module": "@jupyter-widgets/base",
      "model_module_version": "1.2.0",
      "model_name": "LayoutModel",
      "state": {}
     }
    },
    "version_major": 2,
    "version_minor": 0
   }
  }
 },
 "nbformat": 4,
 "nbformat_minor": 2
}
